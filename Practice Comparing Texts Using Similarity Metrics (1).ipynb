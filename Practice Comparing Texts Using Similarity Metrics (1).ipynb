{
 "cells": [
  {
   "cell_type": "markdown",
   "metadata": {},
   "source": [
    "# **Setup**\n",
    " \n",
    "Reset the Python environment to clear it of any previously loaded variables, functions, or libraries. Then, import the libraries needed to complete the code Professor Melnikov presented in the video."
   ]
  },
  {
   "cell_type": "code",
   "execution_count": null,
   "metadata": {},
   "outputs": [],
   "source": [
    "%reset -f\n",
    "from IPython.core.interactiveshell import InteractiveShell as IS\n",
    "IS.ast_node_interactivity = \"all\"    # allows multiple outputs from a cell\n",
    "import pandas as pd, numpy as np, seaborn as sns, matplotlib.pyplot as plt, nltk\n",
    "\n",
    "np.set_printoptions(linewidth=10000, precision=4, edgeitems=20, suppress=True) \n",
    "pd.set_option('max_rows', 100, 'max_columns', 100, 'max_colwidth', 100, 'precision', 2, 'display.max_rows', 8)"
   ]
  },
  {
   "cell_type": "markdown",
   "metadata": {},
   "source": [
    "<hr style=\"border-top: 2px solid #606366; background: transparent;\">\n",
    "\n",
    "# **Review**\n",
    "\n",
    "Review the code Professor Melnikov used to compare strings in the previous video. \n",
    "\n",
    "## Binary Similarity\n",
    "\n",
    "**Binary comparison** is a simple method for measuring the similarity between two objects, where the return value `False` (or 0) indicates different objects and `True` (or 1) indicates equivalent objects. Typically, character strings are considered equivalent when they have exactly the same sequence of characters. Since Python is a case-sensitive language, uppercase and lowercase letters are treated as different characters.\n",
    "    \n",
    "The examples below demonstrates Python's built-in equivalency, where objects with different characters are considered inequivalent. However, Python does understand arithmetic representations of the same quantity and treats 0, 1-1, 4/2-2, and 2+2-4 as equal."
   ]
  },
  {
   "cell_type": "code",
   "execution_count": null,
   "metadata": {},
   "outputs": [],
   "source": [
    "\"Cornell\"==\"eCornell\"       # binary (Boolean) comparison; False=0, True=1\n",
    "0 == 1-1 == 4/2-2 == 2+2-4  # compares all elements at once"
   ]
  },
  {
   "cell_type": "markdown",
   "metadata": {},
   "source": [
    "## Jaccard Similarity\n",
    "\n",
    "[**Jaccard similarity**](https://scikit-learn.org/stable/modules/model_evaluation.html#jaccard-similarity-score) produces a similarity score in the interval $[0,1]$, where 0 indicates no similarity and 1 indicates perfect similarity. This works on any two sets of numbers, characters, words, objects, etc., and computes an intersection set of distinct shared elements $I$ along with the union set of all distinct elements $U$. The Jaccard similarity is just $|I|/|U|$, or the fraction of the sets' cardinalities. This computes the fraction of overlap of two sets. \n",
    "    \n",
    "The example below demonstrates the intersection and union sets of characters in two words."
   ]
  },
  {
   "cell_type": "code",
   "execution_count": null,
   "metadata": {},
   "outputs": [],
   "source": [
    "A, B = set('Cornell'), set('eCornell') # convert to sets of characters\n",
    "print(f'intersection: {A & B}')        # or A.intersection(B)\n",
    "print(f'union: {A | B}')               # or A.union(B)"
   ]
  },
  {
   "cell_type": "markdown",
   "metadata": {},
   "source": [
    "Note that a high Jaccard similarity (or high overlap in characters) does not necessarily indicate a high semantic similarity. In one of the examples below, `'cat'` and `'act'` have Jaccard similarity of 1, but they are not semantically similar. \n",
    "    \n",
    "Jaccard similarity also tends to be biased towards longer words, since more characters results in a higher chance of shared characters. Sets do not store repeated elements, so `'Cornell'` and `'eCornell'` have a Jaccard similarity of 1."
   ]
  },
  {
   "cell_type": "code",
   "execution_count": null,
   "metadata": {},
   "outputs": [],
   "source": [
    "JaccardSim = lambda A={}, B={}: len(A & B) / len(A | B)    # A, B = sets of characters\n",
    "JaccardDemo = lambda s1='word1', s2='word2': print(f'Jaccard({s1}, {s2}) = {JaccardSim(set(s1), set(s2))}')\n",
    "\n",
    "JaccardDemo('Cornell', 'eCornell')  # sets remove duplicate characters, so the resulting sets are the same\n",
    "JaccardDemo('cat', 'dog')           # animal-ness of these terms is not represented in their characters\n",
    "JaccardDemo('cat', 'act')           # the resulting sets are the same, but meanings are different\n",
    "JaccardDemo('cat', 'catch')         # high similarity is misleading. The semantic meanings are different as well\n",
    "JaccardDemo('cats', 'dogs')         # plural form contributes the same \"s\" to each word"
   ]
  },
  {
   "cell_type": "markdown",
   "metadata": {},
   "source": [
    "## Correlation\n",
    "\n",
    "Correlation is another measure of similarity that returns values in the interval $[-1,1]$, but it can only be computed on two numeric vectors of the same size. More precisely, it is a statistical measure of the linear relationship between two numeric vectors. \n",
    "\n",
    "1. A value of 1 indicates a perfectly linear relation, such as for vectors $x=[1,2,3]$ and $y=[3,5,7]$, where you can express one vector as a linear combination of another: $y=2x+1$\n",
    "1. A value of -1 indicates a perfectly opposite linear relation, such as for vectors $x=[1,2,3]$ and $y=[0,-1,-2]$, where you can express the relation between corresponding elements via a linear formula: $y=-x+1$\n",
    "1. A value of 0 indicates no relation between two numeric vectors, such as for vectors $x=[1,2,3]$ and $y=[2,2,2]$, where $y=0\\cdot x+2$ \n",
    "    \n",
    "You cannot compute correlation on characters directly, but you can convert these characters to their numeric ASCII codes. Then you need to pad these numeric vectors (with zeros for example) to be all of the same length so that you can apply the correlation function. Padding from the right is preferred if you have mostly words with suffixes. Padding from the left is preferred if words differ mainly by their suffixes.\n",
    "    \n",
    "The code below converts several words into sequences of their numerical ASCII codes and packages them as rows in a dataframe. Here, `NaN` is used to pad the vectors. Note that all words start with the same letter `\"c\"` and mostly even with the same word `\"cat\"` (but different ending letter) and all vectors start with the same ASCII code (99). So, the words are right-padded, which is also noted by appended `NaN` values on the right of each vector."
   ]
  },
  {
   "cell_type": "code",
   "execution_count": null,
   "metadata": {},
   "outputs": [],
   "source": [
    "VectorizeTerms = lambda LsTerms, lower=True: pd.DataFrame([[ord(ch) for ch in term] for term in LsTerms], index=LsTerms)\n",
    "LsWords = ['cat', 'cats', 'cows', 'cattle', 'catlike', 'catfish']\n",
    "df = VectorizeTerms(LsWords)  # conversion of lists automatically right-broadcasts NaN values to make all rows of same length\n",
    "print(f'df.shape = {df.shape}')\n",
    "df    # missing characters are right-padded with NaN"
   ]
  },
  {
   "cell_type": "markdown",
   "metadata": {},
   "source": [
    "If left-padding is needed, you could use [`.zfill()`](https://docs.python.org/3/library/stdtypes.html#str.zfill) and [`.rjust()`](https://docs.python.org/3/library/stdtypes.html#str.rjust) string methods as shown below."
   ]
  },
  {
   "cell_type": "code",
   "execution_count": null,
   "metadata": {},
   "outputs": [],
   "source": [
    "nMaxLen = max(len(s) for s in LsWords)  # find the length of the longest word\n",
    "'cat'.zfill(nMaxLen) # left-pads with zeros to the length of the longest word\n",
    "'cat'.rjust(nMaxLen) # left-pads with space characters"
   ]
  },
  {
   "cell_type": "markdown",
   "metadata": {},
   "source": [
    "Next, use the [`corr()`](https://pandas.pydata.org/docs/reference/api/pandas.DataFrame.corr.html) method on a dataframe `df` to compute the pairwise correlations of rows. This results in a square symmetrical matrix with ones on the diagonal, which indicate perfect correlation of the given word (represented by the row vector in `df`) to itself. Any other correlation in cell $ij$ represents the correlation of character code vectors of word $i$ and word $j$ in `df`.\n",
    "\n",
    "In contrast to Jaccard similarity, the positioning of values is very important here; and each two vectors must be in the same-dimensional space (i.e. must have the same number of values)."
   ]
  },
  {
   "cell_type": "code",
   "execution_count": null,
   "metadata": {},
   "outputs": [],
   "source": [
    "cm = sns.light_palette(\"brown\", as_cmap=True)\n",
    "mSim = df.T.fillna(0).corr().values     # numpy (square) correlation matrix\n",
    "print(f'mSim.shape = {mSim.shape}')\n",
    "pd.DataFrame(mSim, index=df.index, columns=df.index).style.background_gradient(cmap=cm, axis=1).set_precision(3)"
   ]
  },
  {
   "cell_type": "markdown",
   "metadata": {},
   "source": [
    "# **Optional Practice**\n",
    " \n",
    "Now you will practice some of these basic string manipulation techniques. You will apply some measures discussed above to the quotes of famous mathematicians.\n",
    "\n",
    "As you work through these tasks, check your answers by running your code in the *#check solution here* cell, to see if you’ve gotten the correct result. If you get stuck on a task, click the See **solution** drop-down to view the answer."
   ]
  },
  {
   "cell_type": "code",
   "execution_count": null,
   "metadata": {},
   "outputs": [],
   "source": [
    "sQuote1 = 'Pure mathematics is, in its way, the poetry of logical ideas.' # Albert Einstein, German theoretical physicist\n",
    "sQuote2 = 'Mathematics is the most beautiful and most powerful creation of the human spirit.' # Stefan Banach, Polish mathematician\n",
    "sQuote3 = 'What is mathematics? It is only a systematic effort of solving puzzles posed by nature.' # Shakuntala Devi"
   ]
  },
  {
   "cell_type": "markdown",
   "metadata": {},
   "source": [
    "## Task 1. Apply Jaccard similarity to characters\n",
    "\n",
    "Which two (lower cased) quotes are most and least similar with respect to Jaccard similarity applied to its characters?\n",
    "\n",
    "<b>Hint:</b> Apply <code>JaccardSim()</code> to compute all pairwise similarities of the pairs of sets of characters derived from these quote strings."
   ]
  },
  {
   "cell_type": "code",
   "execution_count": null,
   "metadata": {},
   "outputs": [],
   "source": [
    "# check solution here"
   ]
  },
  {
   "cell_type": "markdown",
   "metadata": {},
   "source": [
    "<font color=#606366>\n",
    "    <details><summary><font color=#B31B1B>▶ </font>See <b>solution</b>.</summary>\n",
    "Quotes by Einstein and Banach are most similar because they yield the highest Jaccard similarity. Likewise, the quotes by Banach and Devi are least similar with respect to Jaccard Similarity applied to the character sets.\n",
    "            <pre>\n",
    "SsQuote1, SsQuote2, SsQuote3 = set(sQuote1.lower()), set(sQuote2.lower()), set(sQuote3.lower())\n",
    "\n",
    "print('Einstein vs Banach:', JaccardSim(SsQuote1, SsQuote2))\n",
    "print('Einstein vs Devi:  ', JaccardSim(SsQuote1, SsQuote3))\n",
    "print('Banach vs Devi:    ', JaccardSim(SsQuote2, SsQuote3))\n",
    "</pre>\n",
    "</details>\n",
    "</font>\n",
    "<hr>"
   ]
  },
  {
   "cell_type": "markdown",
   "metadata": {},
   "source": [
    "## Task 2. Apply Jaccard similarity to words\n",
    "\n",
    "Which two (lower cased) quotes are most and least similar with respect to Jaccard similarity applied to its words?\n",
    "\n",
    "<b>Hint:</b> Use <code>nltk.word_tokenize()</code> to split the sentences above into lists of lower cased words. Then use <code>JaccardSim()</code> to compute all pairwise similarities of the pairs of sets of words derived from these lists."
   ]
  },
  {
   "cell_type": "code",
   "execution_count": null,
   "metadata": {},
   "outputs": [],
   "source": [
    "# check solution here"
   ]
  },
  {
   "cell_type": "markdown",
   "metadata": {},
   "source": [
    "<font color=#606366>\n",
    "    <details><summary><font color=#B31B1B>▶ </font>See <b>solution</b>.</summary>\n",
    "Quotes by Einstein and Banach are most similar because they yield the highest Jaccard similarity.\n",
    "            <pre>\n",
    "SsQuote1 = set(nltk.word_tokenize(sQuote1.lower()))\n",
    "SsQuote2 = set(nltk.word_tokenize(sQuote2.lower()))\n",
    "SsQuote3 = set(nltk.word_tokenize(sQuote3.lower()))\n",
    "\n",
    "print('Einstein vs Banach:', JaccardSim(SsQuote1, SsQuote2))\n",
    "print('Einstein vs Devi:  ', JaccardSim(SsQuote1, SsQuote3))\n",
    "print('Banach vs Devi:    ', JaccardSim(SsQuote2, SsQuote3))\n",
    "</pre>\n",
    "</details> \n",
    "</font>\n",
    "<hr>"
   ]
  }
 ],
 "metadata": {
  "anaconda-cloud": {},
  "kernelspec": {
   "display_name": "Python 3",
   "language": "python",
   "name": "python3"
  },
  "language_info": {
   "codemirror_mode": {
    "name": "ipython",
    "version": 3
   },
   "file_extension": ".py",
   "mimetype": "text/x-python",
   "name": "python",
   "nbconvert_exporter": "python",
   "pygments_lexer": "ipython3",
   "version": "3.6.9"
  },
  "toc": {
   "base_numbering": 1,
   "nav_menu": {},
   "number_sections": false,
   "sideBar": true,
   "skip_h1_title": false,
   "title_cell": "Table of Contents",
   "title_sidebar": "Contents",
   "toc_cell": false,
   "toc_position": {},
   "toc_section_display": true,
   "toc_window_display": false
  },
  "varInspector": {
   "cols": {
    "lenName": 16,
    "lenType": 16,
    "lenVar": 40
   },
   "kernels_config": {
    "python": {
     "delete_cmd_postfix": "",
     "delete_cmd_prefix": "del ",
     "library": "var_list.py",
     "varRefreshCmd": "print(var_dic_list())"
    },
    "r": {
     "delete_cmd_postfix": ") ",
     "delete_cmd_prefix": "rm(",
     "library": "var_list.r",
     "varRefreshCmd": "cat(var_dic_list()) "
    }
   },
   "types_to_exclude": [
    "module",
    "function",
    "builtin_function_or_method",
    "instance",
    "_Feature"
   ],
   "window_display": false
  }
 },
 "nbformat": 4,
 "nbformat_minor": 1
}
