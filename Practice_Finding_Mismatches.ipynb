{
 "cells": [
  {
   "cell_type": "markdown",
   "metadata": {},
   "source": [
    "# **Setup**\n",
    " \n",
    "Reset the Python environment to clear it of any previously loaded variables, functions, or libraries. Then, import the libraries needed to complete the code Professor Melnikov presented in the video."
   ]
  },
  {
   "cell_type": "code",
   "execution_count": null,
   "metadata": {},
   "outputs": [],
   "source": [
    "%reset -f\n",
    "from IPython.core.interactiveshell import InteractiveShell as IS\n",
    "IS.ast_node_interactivity = \"all\"    # allows multiple outputs from a cell\n",
    "import pandas as pd, numpy as np, seaborn as sns, matplotlib.pyplot as plt, nltk\n",
    "\n",
    "np.set_printoptions(linewidth=10000, precision=4, edgeitems=20, suppress=True) \n",
    "pd.set_option('max_rows', 100, 'max_columns', 100, 'max_colwidth', 100, 'precision', 2, 'display.max_rows', 8)"
   ]
  },
  {
   "cell_type": "markdown",
   "metadata": {},
   "source": [
    "## Hamming Distance\n",
    "\n",
    "[Hamming distance](https://docs.scipy.org/doc/scipy/reference/generated/scipy.spatial.distance.hamming.html) can be considered the opposite of similarity. In two sequences of equal length, it counts the number of positions that corresponding characters are different. Just like Jaccard similarity, Hamming distance works on elements of any data type. Just like correlation, it requires sequences to be the same length. If sequence lengths mismatch, it will return an infinity or [`np.inf`](https://numpy.org/devdocs/reference/constants.html#numpy.inf) non-numeric value. \n",
    "\n",
    "The code below creates a `HammingDist()` function which returns the count of element-wise inequalities or infinity if arguments differ in length. The function `HammingDemo()` simply computes Hamming distance and prints out the formatted results."
   ]
  },
  {
   "cell_type": "code",
   "execution_count": null,
   "metadata": {},
   "outputs": [],
   "source": [
    "# Hamming distance returns count of element-wise mismatches for two equal-length strings\n",
    "HammingDist = lambda s1='ab', s2='ad': sum(ch1 != ch2 for ch1, ch2 in zip(s1, s2)) if len(s1)==len(s2) else np.inf\n",
    "HammingDemo = lambda s1='ab', s2='ad': print(f'HammingDist({s1}, {s2}) = {HammingDist(s1, s2)}')"
   ]
  },
  {
   "cell_type": "markdown",
   "metadata": {},
   "source": [
    "One example below computes the Hamming distance between the simple nucleotide strings `'ACGT'` and `'ACCT'`. This relates to genetic composition, since DNA is made up of varying combinations of four basic nucleotides: A,C,G,T. \n",
    "\n",
    "You can use Hamming distance on DNA sequences that are short or millions of nucleotides long. Computational speed makes Hamming distance a popular metric in genetics and related fields."
   ]
  },
  {
   "cell_type": "code",
   "execution_count": null,
   "metadata": {},
   "outputs": [],
   "source": [
    "HammingDemo('cat', 'dog')\n",
    "HammingDemo('cat', 'dogs')\n",
    "HammingDemo('ACGT', 'ACCT')"
   ]
  },
  {
   "cell_type": "markdown",
   "metadata": {},
   "source": [
    "Next, create a function `GenSeq()`, which builds a DNA sample sequence from randomly drawn nucleotides. This DNA is unlikely to relate to any living creature, but works well for our examples below. The `seed` ensures reproducibility of the sequence."
   ]
  },
  {
   "cell_type": "code",
   "execution_count": null,
   "metadata": {},
   "outputs": [],
   "source": [
    "def GenSeq(nLen=5, seed=int(0), LsElements=list('ACGT')):\n",
    "    if isinstance(seed, int):        # only integers >=0 are used for seeding\n",
    "        np.random.seed(abs(seed))      # seed random number generator (RNG) if integer seed is provided\n",
    "    return ''.join(np.random.choice(LsElements, nLen, replace=True))\n",
    "\n",
    "GenDNA = lambda nLen=5, seed=0: GenSeq(nLen, seed, list('ACGT'))\n",
    "GenDNA(500)"
   ]
  },
  {
   "cell_type": "markdown",
   "metadata": {},
   "source": [
    "Run the cell below to see Hamming distance in action. Given two sequences, it prints the number of mismatches."
   ]
  },
  {
   "cell_type": "code",
   "execution_count": null,
   "metadata": {},
   "outputs": [],
   "source": [
    "sDNA_X = GenDNA(30, seed=0)     # query DNA, which we need to identify\n",
    "sDNA_1 = GenDNA(30, seed=1)     # some known DNA from a Bank\n",
    "HammingDemo(sDNA_X, sDNA_1) "
   ]
  },
  {
   "cell_type": "markdown",
   "metadata": {},
   "source": [
    "Now, consider a database of 10,000 viral DNA samples, expressed as sequences of nucleotides A,C,G,T. The goal is to find the viral DNA sample that is most similar to a query sample `sDNA_X`, assuming all DNA subsamples are extracted from the same coordinates in their (much longer) DNA sequences.\n",
    "\n",
    "The cell below applies Hamming distance by comparing each DNA sample with `sDNA_X`. After identifying the most similar virus (in this case, ID 4142), you can then decide whether the query DNA and viral DNA are sufficiently similar to be considered a match. Note that minor mutations sometimes occur in DNA sequences."
   ]
  },
  {
   "cell_type": "code",
   "execution_count": null,
   "metadata": {},
   "outputs": [],
   "source": [
    "df = pd.DataFrame([GenDNA(30, seed=i+1) for i in range(10000)], columns=['Viral_DNA'])\n",
    "HammingX = lambda sDNA: HammingDist(sDNA, sDNA_X) \n",
    "\n",
    "df['D2X'] = df['Viral_DNA'].apply(lambda sDNA: HammingX(sDNA))   # Hamming distance to DNA X\n",
    "df.sort_values('D2X')"
   ]
  },
  {
   "cell_type": "markdown",
   "metadata": {},
   "source": [
    "Another popular application of Hamming distance is in binary code comparison, where sequences of digits 0 and 1 are used to represent software or a document. A computer virus is a similar sequence of 0 and 1 digits. Many antivirus programs scan binary code for the similarity or dissimilarity to known computer virus sequences. If a matching subsequence is found, it can be treated, disabled by manipulating its bits or cut out.\n",
    "\n",
    "The code below creates a function GenBinaryCode() that generates some (random) sequence of 0's and 1's."
   ]
  },
  {
   "cell_type": "code",
   "execution_count": null,
   "metadata": {},
   "outputs": [],
   "source": [
    "GenBinaryCode = lambda nLen=5, seed=0: GenSeq(nLen, seed, ['0', '1'])\n",
    "GenBinaryCode(500)"
   ]
  },
  {
   "cell_type": "markdown",
   "metadata": {},
   "source": [
    "<hr style=\"border-top: 2px solid #606366; background: transparent;\">\n",
    "\n",
    "# **Optional Practice**\n",
    "\n",
    "Now you will practice some of these basic string manipulation techniques. You will apply some measures discussed above to the quotes and to the `dfBin` dataframe, which represents a bank of 1000 simulated viral binary code samples.\n",
    "\n",
    "As you work through these tasks, check your answers by running your code in the *#check solution here* cell, to see if you’ve gotten the correct result. If you get stuck on a task, click the See **solution** drop-down to view the answer.\n"
   ]
  },
  {
   "cell_type": "code",
   "execution_count": null,
   "metadata": {},
   "outputs": [],
   "source": [
    "dfBin = pd.DataFrame([GenBinaryCode(100, seed=i) for i in range(1000)], columns=['virus'])  # database of virus signatures\n",
    "dfBin"
   ]
  },
  {
   "cell_type": "markdown",
   "metadata": {},
   "source": [
    "## Task 1\n",
    "\n",
    "Compute Hamming distance of each virus code in `dfBin` in relation to the viral code with row index 0 (i.e. the query virus). Order the virus codes by their closest distance to the query virus.\n",
    "\n",
    "<b>Hint:</b> Use the code developed above with slight modifications. "
   ]
  },
  {
   "cell_type": "code",
   "execution_count": null,
   "metadata": {},
   "outputs": [],
   "source": [
    "# check solution here"
   ]
  },
  {
   "cell_type": "markdown",
   "metadata": {},
   "source": [
    "\n",
    "<font color=#606366>\n",
    "    <details><summary><font color=#B31B1B>▶ </font>See <b>solution</b>.</summary>\n",
    "<pre>\n",
    "dfBin['Dist'] = dfBin['virus'].apply(lambda seq: HammingDist(seq, dfBin['virus'][0]))   # Hamming distance to DNA X\n",
    "dfBin.sort_values('Dist')\n",
    "</pre>\n",
    "</details> \n",
    "</font>\n",
    "<hr>"
   ]
  }
 ],
 "metadata": {
  "anaconda-cloud": {},
  "kernelspec": {
   "display_name": "Python 3",
   "language": "python",
   "name": "python3"
  },
  "language_info": {
   "codemirror_mode": {
    "name": "ipython",
    "version": 3
   },
   "file_extension": ".py",
   "mimetype": "text/x-python",
   "name": "python",
   "nbconvert_exporter": "python",
   "pygments_lexer": "ipython3",
   "version": "3.6.9"
  },
  "toc": {
   "base_numbering": 1,
   "nav_menu": {},
   "number_sections": false,
   "sideBar": true,
   "skip_h1_title": false,
   "title_cell": "Table of Contents",
   "title_sidebar": "Contents",
   "toc_cell": false,
   "toc_position": {},
   "toc_section_display": true,
   "toc_window_display": false
  },
  "varInspector": {
   "cols": {
    "lenName": 16,
    "lenType": 16,
    "lenVar": 40
   },
   "kernels_config": {
    "python": {
     "delete_cmd_postfix": "",
     "delete_cmd_prefix": "del ",
     "library": "var_list.py",
     "varRefreshCmd": "print(var_dic_list())"
    },
    "r": {
     "delete_cmd_postfix": ") ",
     "delete_cmd_prefix": "rm(",
     "library": "var_list.r",
     "varRefreshCmd": "cat(var_dic_list()) "
    }
   },
   "types_to_exclude": [
    "module",
    "function",
    "builtin_function_or_method",
    "instance",
    "_Feature"
   ],
   "window_display": false
  }
 },
 "nbformat": 4,
 "nbformat_minor": 1
}
