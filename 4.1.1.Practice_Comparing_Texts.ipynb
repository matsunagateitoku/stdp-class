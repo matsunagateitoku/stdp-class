{
  "cells": [
    {
      "cell_type": "markdown",
      "source": [
        "I have changed the code"
      ],
      "metadata": {
        "id": "KbrS7qNCukO1"
      }
    },
    {
      "cell_type": "markdown",
      "metadata": {
        "id": "_-Hx6ITztf5T"
      },
      "source": [
        "# **Setup**\n",
        "\n",
        "Reset the Python environment to clear it of any previously loaded variables, functions, or libraries. Then, import the libraries needed to complete the code Professor Melnikov presented in the video."
      ]
    },
    {
      "cell_type": "code",
      "execution_count": 5,
      "metadata": {
        "id": "8883-4NOtf5c"
      },
      "outputs": [],
      "source": [
        "%reset -f\n",
        "from IPython.core.interactiveshell import InteractiveShell as IS\n",
        "IS.ast_node_interactivity = \"all\"    # allows multiple outputs from a cell\n",
        "import pandas as pd, numpy as np, seaborn as sns, matplotlib.pyplot as plt, nltk\n",
        "\n",
        "np.set_printoptions(linewidth=10000, precision=4, edgeitems=20, suppress=True)\n",
        "pd.set_option('display.max_rows', 100) # Change 'max_rows' to 'display.max_rows'\n",
        "pd.set_option('display.max_columns', 100) # Change 'max_columns' to 'display.max_columns'\n",
        "pd.set_option('display.max_colwidth', 100) # Change 'max_colwidth' to 'display.max_colwidth'\n",
        "pd.set_option('display.precision', 2) # Change 'precision' to 'display.precision'\n",
        "pd.set_option('display.max_rows', 8)"
      ]
    },
    {
      "cell_type": "markdown",
      "metadata": {
        "id": "zAGb2ri5tf5g"
      },
      "source": [
        "<hr style=\"border-top: 2px solid #606366; background: transparent;\">\n",
        "\n",
        "# **Review**\n",
        "\n",
        "Review the code Professor Melnikov used to compare strings in the previous video.\n",
        "\n",
        "## Binary Similarity\n",
        "\n",
        "**Binary comparison** is a simple method for measuring the similarity between two objects, where the return value `False` (or 0) indicates different objects and `True` (or 1) indicates equivalent objects. Typically, character strings are considered equivalent when they have exactly the same sequence of characters. Since Python is a case-sensitive language, uppercase and lowercase letters are treated as different characters.\n",
        "    \n",
        "The examples below demonstrates Python's built-in equivalency, where objects with different characters are considered inequivalent. However, Python does understand arithmetic representations of the same quantity and treats 0, 1-1, 4/2-2, and 2+2-4 as equal."
      ]
    },
    {
      "cell_type": "code",
      "execution_count": 6,
      "metadata": {
        "id": "ccLHL8V-tf5h",
        "outputId": "fb6c12f7-5126-4d95-e3c1-8a2a7a08754b",
        "colab": {
          "base_uri": "https://localhost:8080/"
        }
      },
      "outputs": [
        {
          "output_type": "execute_result",
          "data": {
            "text/plain": [
              "False"
            ]
          },
          "metadata": {},
          "execution_count": 6
        },
        {
          "output_type": "execute_result",
          "data": {
            "text/plain": [
              "True"
            ]
          },
          "metadata": {},
          "execution_count": 6
        }
      ],
      "source": [
        "\"Cornell\"==\"eCornell\"       # binary (Boolean) comparison; False=0, True=1\n",
        "0 == 1-1 == 4/2-2 == 2+2-4  # compares all elements at once"
      ]
    },
    {
      "cell_type": "markdown",
      "source": [],
      "metadata": {
        "id": "GzLIrSjPuiid"
      }
    },
    {
      "cell_type": "markdown",
      "metadata": {
        "id": "misHhpB4tf5j"
      },
      "source": [
        "## Jaccard Similarity\n",
        "\n",
        "[**Jaccard similarity**](https://scikit-learn.org/stable/modules/model_evaluation.html#jaccard-similarity-score) produces a similarity score in the interval $[0,1]$, where 0 indicates no similarity and 1 indicates perfect similarity. This works on any two sets of numbers, characters, words, objects, etc., and computes an intersection set of distinct shared elements $I$ along with the union set of all distinct elements $U$. The Jaccard similarity is just $|I|/|U|$, or the fraction of the sets' cardinalities. This computes the fraction of overlap of two sets.\n",
        "    \n",
        "The example below demonstrates the intersection and union sets of characters in two words."
      ]
    },
    {
      "cell_type": "code",
      "execution_count": 7,
      "metadata": {
        "id": "4zd6h7wutf5k",
        "outputId": "ca7c69bc-0c27-4213-d129-b73a2e716fe9",
        "colab": {
          "base_uri": "https://localhost:8080/"
        }
      },
      "outputs": [
        {
          "output_type": "stream",
          "name": "stdout",
          "text": [
            "intersection: {'C', 'l', 'r', 'o', 'n', 'e'}\n",
            "union: {'C', 'l', 'r', 'o', 'n', 'e'}\n"
          ]
        }
      ],
      "source": [
        "A, B = set('Cornell'), set('eCornell') # convert to sets of characters\n",
        "print(f'intersection: {A & B}')        # or A.intersection(B)\n",
        "print(f'union: {A | B}')               # or A.union(B)"
      ]
    },
    {
      "cell_type": "markdown",
      "metadata": {
        "id": "Ch4GmueRtf5k"
      },
      "source": [
        "Note that a high Jaccard similarity (or high overlap in characters) does not necessarily indicate a high semantic similarity. In one of the examples below, `'cat'` and `'act'` have Jaccard similarity of 1, but they are not semantically similar.\n",
        "    \n",
        "Jaccard similarity also tends to be biased towards longer words, since more characters results in a higher chance of shared characters. Sets do not store repeated elements, so `'Cornell'` and `'eCornell'` have a Jaccard similarity of 1."
      ]
    },
    {
      "cell_type": "code",
      "execution_count": 8,
      "metadata": {
        "id": "3pPMEIvWtf5l",
        "outputId": "939a1df6-cef4-4fdc-b923-85cb6cd597ae",
        "colab": {
          "base_uri": "https://localhost:8080/"
        }
      },
      "outputs": [
        {
          "output_type": "stream",
          "name": "stdout",
          "text": [
            "Jaccard(Cornell, eCornell) = 1.0\n",
            "Jaccard(cat, dog) = 0.0\n",
            "Jaccard(cat, act) = 1.0\n",
            "Jaccard(cat, catch) = 0.75\n",
            "Jaccard(cats, dogs) = 0.14285714285714285\n"
          ]
        }
      ],
      "source": [
        "JaccardSim = lambda A={}, B={}: len(A & B) / len(A | B)    # A, B = sets of characters\n",
        "JaccardDemo = lambda s1='word1', s2='word2': print(f'Jaccard({s1}, {s2}) = {JaccardSim(set(s1), set(s2))}')\n",
        "\n",
        "JaccardDemo('Cornell', 'eCornell')  # sets remove duplicate characters, so the resulting sets are the same\n",
        "JaccardDemo('cat', 'dog')           # animal-ness of these terms is not represented in their characters\n",
        "JaccardDemo('cat', 'act')           # the resulting sets are the same, but meanings are different\n",
        "JaccardDemo('cat', 'catch')         # high similarity is misleading. The semantic meanings are different as well\n",
        "JaccardDemo('cats', 'dogs')         # plural form contributes the same \"s\" to each word"
      ]
    },
    {
      "cell_type": "markdown",
      "metadata": {
        "id": "rWhnE5u-tf5n"
      },
      "source": [
        "## Correlation\n",
        "\n",
        "Correlation is another measure of similarity that returns values in the interval $[-1,1]$, but it can only be computed on two numeric vectors of the same size. More precisely, it is a statistical measure of the linear relationship between two numeric vectors.\n",
        "\n",
        "1. A value of 1 indicates a perfectly linear relation, such as for vectors $x=[1,2,3]$ and $y=[3,5,7]$, where you can express one vector as a linear combination of another: $y=2x+1$\n",
        "1. A value of -1 indicates a perfectly opposite linear relation, such as for vectors $x=[1,2,3]$ and $y=[0,-1,-2]$, where you can express the relation between corresponding elements via a linear formula: $y=-x+1$\n",
        "1. A value of 0 indicates no relation between two numeric vectors, such as for vectors $x=[1,2,3]$ and $y=[2,2,2]$, where $y=0\\cdot x+2$\n",
        "    \n",
        "You cannot compute correlation on characters directly, but you can convert these characters to their numeric ASCII codes. Then you need to pad these numeric vectors (with zeros for example) to be all of the same length so that you can apply the correlation function. Padding from the right is preferred if you have mostly words with suffixes. Padding from the left is preferred if words differ mainly by their suffixes.\n",
        "    \n",
        "The code below converts several words into sequences of their numerical ASCII codes and packages them as rows in a dataframe. Here, `NaN` is used to pad the vectors. Note that all words start with the same letter `\"c\"` and mostly even with the same word `\"cat\"` (but different ending letter) and all vectors start with the same ASCII code (99). So, the words are right-padded, which is also noted by appended `NaN` values on the right of each vector."
      ]
    },
    {
      "cell_type": "code",
      "source": [
        "ord(\"A\")"
      ],
      "metadata": {
        "id": "eqEWbI_5vNjz",
        "outputId": "1ac7b5d7-8805-4865-be5c-73b4f2945274",
        "colab": {
          "base_uri": "https://localhost:8080/"
        }
      },
      "execution_count": 15,
      "outputs": [
        {
          "output_type": "execute_result",
          "data": {
            "text/plain": [
              "65"
            ]
          },
          "metadata": {},
          "execution_count": 15
        }
      ]
    },
    {
      "cell_type": "code",
      "execution_count": 9,
      "metadata": {
        "id": "fszCmebXtf5o",
        "outputId": "bb748700-055d-47ab-e21c-1c251ccac5a8",
        "colab": {
          "base_uri": "https://localhost:8080/",
          "height": 255
        }
      },
      "outputs": [
        {
          "output_type": "stream",
          "name": "stdout",
          "text": [
            "df.shape = (6, 7)\n"
          ]
        },
        {
          "output_type": "execute_result",
          "data": {
            "text/plain": [
              "          0    1    2      3      4      5      6\n",
              "cat      99   97  116    NaN    NaN    NaN    NaN\n",
              "cats     99   97  116  115.0    NaN    NaN    NaN\n",
              "cows     99  111  119  115.0    NaN    NaN    NaN\n",
              "cattle   99   97  116  116.0  108.0  101.0    NaN\n",
              "catlike  99   97  116  108.0  105.0  107.0  101.0\n",
              "catfish  99   97  116  102.0  105.0  115.0  104.0"
            ],
            "text/html": [
              "\n",
              "  <div id=\"df-b3d617a5-a2b2-4c83-89c3-71d53788e7e7\" class=\"colab-df-container\">\n",
              "    <div>\n",
              "<style scoped>\n",
              "    .dataframe tbody tr th:only-of-type {\n",
              "        vertical-align: middle;\n",
              "    }\n",
              "\n",
              "    .dataframe tbody tr th {\n",
              "        vertical-align: top;\n",
              "    }\n",
              "\n",
              "    .dataframe thead th {\n",
              "        text-align: right;\n",
              "    }\n",
              "</style>\n",
              "<table border=\"1\" class=\"dataframe\">\n",
              "  <thead>\n",
              "    <tr style=\"text-align: right;\">\n",
              "      <th></th>\n",
              "      <th>0</th>\n",
              "      <th>1</th>\n",
              "      <th>2</th>\n",
              "      <th>3</th>\n",
              "      <th>4</th>\n",
              "      <th>5</th>\n",
              "      <th>6</th>\n",
              "    </tr>\n",
              "  </thead>\n",
              "  <tbody>\n",
              "    <tr>\n",
              "      <th>cat</th>\n",
              "      <td>99</td>\n",
              "      <td>97</td>\n",
              "      <td>116</td>\n",
              "      <td>NaN</td>\n",
              "      <td>NaN</td>\n",
              "      <td>NaN</td>\n",
              "      <td>NaN</td>\n",
              "    </tr>\n",
              "    <tr>\n",
              "      <th>cats</th>\n",
              "      <td>99</td>\n",
              "      <td>97</td>\n",
              "      <td>116</td>\n",
              "      <td>115.0</td>\n",
              "      <td>NaN</td>\n",
              "      <td>NaN</td>\n",
              "      <td>NaN</td>\n",
              "    </tr>\n",
              "    <tr>\n",
              "      <th>cows</th>\n",
              "      <td>99</td>\n",
              "      <td>111</td>\n",
              "      <td>119</td>\n",
              "      <td>115.0</td>\n",
              "      <td>NaN</td>\n",
              "      <td>NaN</td>\n",
              "      <td>NaN</td>\n",
              "    </tr>\n",
              "    <tr>\n",
              "      <th>cattle</th>\n",
              "      <td>99</td>\n",
              "      <td>97</td>\n",
              "      <td>116</td>\n",
              "      <td>116.0</td>\n",
              "      <td>108.0</td>\n",
              "      <td>101.0</td>\n",
              "      <td>NaN</td>\n",
              "    </tr>\n",
              "    <tr>\n",
              "      <th>catlike</th>\n",
              "      <td>99</td>\n",
              "      <td>97</td>\n",
              "      <td>116</td>\n",
              "      <td>108.0</td>\n",
              "      <td>105.0</td>\n",
              "      <td>107.0</td>\n",
              "      <td>101.0</td>\n",
              "    </tr>\n",
              "    <tr>\n",
              "      <th>catfish</th>\n",
              "      <td>99</td>\n",
              "      <td>97</td>\n",
              "      <td>116</td>\n",
              "      <td>102.0</td>\n",
              "      <td>105.0</td>\n",
              "      <td>115.0</td>\n",
              "      <td>104.0</td>\n",
              "    </tr>\n",
              "  </tbody>\n",
              "</table>\n",
              "</div>\n",
              "    <div class=\"colab-df-buttons\">\n",
              "\n",
              "  <div class=\"colab-df-container\">\n",
              "    <button class=\"colab-df-convert\" onclick=\"convertToInteractive('df-b3d617a5-a2b2-4c83-89c3-71d53788e7e7')\"\n",
              "            title=\"Convert this dataframe to an interactive table.\"\n",
              "            style=\"display:none;\">\n",
              "\n",
              "  <svg xmlns=\"http://www.w3.org/2000/svg\" height=\"24px\" viewBox=\"0 -960 960 960\">\n",
              "    <path d=\"M120-120v-720h720v720H120Zm60-500h600v-160H180v160Zm220 220h160v-160H400v160Zm0 220h160v-160H400v160ZM180-400h160v-160H180v160Zm440 0h160v-160H620v160ZM180-180h160v-160H180v160Zm440 0h160v-160H620v160Z\"/>\n",
              "  </svg>\n",
              "    </button>\n",
              "\n",
              "  <style>\n",
              "    .colab-df-container {\n",
              "      display:flex;\n",
              "      gap: 12px;\n",
              "    }\n",
              "\n",
              "    .colab-df-convert {\n",
              "      background-color: #E8F0FE;\n",
              "      border: none;\n",
              "      border-radius: 50%;\n",
              "      cursor: pointer;\n",
              "      display: none;\n",
              "      fill: #1967D2;\n",
              "      height: 32px;\n",
              "      padding: 0 0 0 0;\n",
              "      width: 32px;\n",
              "    }\n",
              "\n",
              "    .colab-df-convert:hover {\n",
              "      background-color: #E2EBFA;\n",
              "      box-shadow: 0px 1px 2px rgba(60, 64, 67, 0.3), 0px 1px 3px 1px rgba(60, 64, 67, 0.15);\n",
              "      fill: #174EA6;\n",
              "    }\n",
              "\n",
              "    .colab-df-buttons div {\n",
              "      margin-bottom: 4px;\n",
              "    }\n",
              "\n",
              "    [theme=dark] .colab-df-convert {\n",
              "      background-color: #3B4455;\n",
              "      fill: #D2E3FC;\n",
              "    }\n",
              "\n",
              "    [theme=dark] .colab-df-convert:hover {\n",
              "      background-color: #434B5C;\n",
              "      box-shadow: 0px 1px 3px 1px rgba(0, 0, 0, 0.15);\n",
              "      filter: drop-shadow(0px 1px 2px rgba(0, 0, 0, 0.3));\n",
              "      fill: #FFFFFF;\n",
              "    }\n",
              "  </style>\n",
              "\n",
              "    <script>\n",
              "      const buttonEl =\n",
              "        document.querySelector('#df-b3d617a5-a2b2-4c83-89c3-71d53788e7e7 button.colab-df-convert');\n",
              "      buttonEl.style.display =\n",
              "        google.colab.kernel.accessAllowed ? 'block' : 'none';\n",
              "\n",
              "      async function convertToInteractive(key) {\n",
              "        const element = document.querySelector('#df-b3d617a5-a2b2-4c83-89c3-71d53788e7e7');\n",
              "        const dataTable =\n",
              "          await google.colab.kernel.invokeFunction('convertToInteractive',\n",
              "                                                    [key], {});\n",
              "        if (!dataTable) return;\n",
              "\n",
              "        const docLinkHtml = 'Like what you see? Visit the ' +\n",
              "          '<a target=\"_blank\" href=https://colab.research.google.com/notebooks/data_table.ipynb>data table notebook</a>'\n",
              "          + ' to learn more about interactive tables.';\n",
              "        element.innerHTML = '';\n",
              "        dataTable['output_type'] = 'display_data';\n",
              "        await google.colab.output.renderOutput(dataTable, element);\n",
              "        const docLink = document.createElement('div');\n",
              "        docLink.innerHTML = docLinkHtml;\n",
              "        element.appendChild(docLink);\n",
              "      }\n",
              "    </script>\n",
              "  </div>\n",
              "\n",
              "\n",
              "<div id=\"df-d7858fcd-e643-465b-8b13-1dc4733f70d8\">\n",
              "  <button class=\"colab-df-quickchart\" onclick=\"quickchart('df-d7858fcd-e643-465b-8b13-1dc4733f70d8')\"\n",
              "            title=\"Suggest charts\"\n",
              "            style=\"display:none;\">\n",
              "\n",
              "<svg xmlns=\"http://www.w3.org/2000/svg\" height=\"24px\"viewBox=\"0 0 24 24\"\n",
              "     width=\"24px\">\n",
              "    <g>\n",
              "        <path d=\"M19 3H5c-1.1 0-2 .9-2 2v14c0 1.1.9 2 2 2h14c1.1 0 2-.9 2-2V5c0-1.1-.9-2-2-2zM9 17H7v-7h2v7zm4 0h-2V7h2v10zm4 0h-2v-4h2v4z\"/>\n",
              "    </g>\n",
              "</svg>\n",
              "  </button>\n",
              "\n",
              "<style>\n",
              "  .colab-df-quickchart {\n",
              "      --bg-color: #E8F0FE;\n",
              "      --fill-color: #1967D2;\n",
              "      --hover-bg-color: #E2EBFA;\n",
              "      --hover-fill-color: #174EA6;\n",
              "      --disabled-fill-color: #AAA;\n",
              "      --disabled-bg-color: #DDD;\n",
              "  }\n",
              "\n",
              "  [theme=dark] .colab-df-quickchart {\n",
              "      --bg-color: #3B4455;\n",
              "      --fill-color: #D2E3FC;\n",
              "      --hover-bg-color: #434B5C;\n",
              "      --hover-fill-color: #FFFFFF;\n",
              "      --disabled-bg-color: #3B4455;\n",
              "      --disabled-fill-color: #666;\n",
              "  }\n",
              "\n",
              "  .colab-df-quickchart {\n",
              "    background-color: var(--bg-color);\n",
              "    border: none;\n",
              "    border-radius: 50%;\n",
              "    cursor: pointer;\n",
              "    display: none;\n",
              "    fill: var(--fill-color);\n",
              "    height: 32px;\n",
              "    padding: 0;\n",
              "    width: 32px;\n",
              "  }\n",
              "\n",
              "  .colab-df-quickchart:hover {\n",
              "    background-color: var(--hover-bg-color);\n",
              "    box-shadow: 0 1px 2px rgba(60, 64, 67, 0.3), 0 1px 3px 1px rgba(60, 64, 67, 0.15);\n",
              "    fill: var(--button-hover-fill-color);\n",
              "  }\n",
              "\n",
              "  .colab-df-quickchart-complete:disabled,\n",
              "  .colab-df-quickchart-complete:disabled:hover {\n",
              "    background-color: var(--disabled-bg-color);\n",
              "    fill: var(--disabled-fill-color);\n",
              "    box-shadow: none;\n",
              "  }\n",
              "\n",
              "  .colab-df-spinner {\n",
              "    border: 2px solid var(--fill-color);\n",
              "    border-color: transparent;\n",
              "    border-bottom-color: var(--fill-color);\n",
              "    animation:\n",
              "      spin 1s steps(1) infinite;\n",
              "  }\n",
              "\n",
              "  @keyframes spin {\n",
              "    0% {\n",
              "      border-color: transparent;\n",
              "      border-bottom-color: var(--fill-color);\n",
              "      border-left-color: var(--fill-color);\n",
              "    }\n",
              "    20% {\n",
              "      border-color: transparent;\n",
              "      border-left-color: var(--fill-color);\n",
              "      border-top-color: var(--fill-color);\n",
              "    }\n",
              "    30% {\n",
              "      border-color: transparent;\n",
              "      border-left-color: var(--fill-color);\n",
              "      border-top-color: var(--fill-color);\n",
              "      border-right-color: var(--fill-color);\n",
              "    }\n",
              "    40% {\n",
              "      border-color: transparent;\n",
              "      border-right-color: var(--fill-color);\n",
              "      border-top-color: var(--fill-color);\n",
              "    }\n",
              "    60% {\n",
              "      border-color: transparent;\n",
              "      border-right-color: var(--fill-color);\n",
              "    }\n",
              "    80% {\n",
              "      border-color: transparent;\n",
              "      border-right-color: var(--fill-color);\n",
              "      border-bottom-color: var(--fill-color);\n",
              "    }\n",
              "    90% {\n",
              "      border-color: transparent;\n",
              "      border-bottom-color: var(--fill-color);\n",
              "    }\n",
              "  }\n",
              "</style>\n",
              "\n",
              "  <script>\n",
              "    async function quickchart(key) {\n",
              "      const quickchartButtonEl =\n",
              "        document.querySelector('#' + key + ' button');\n",
              "      quickchartButtonEl.disabled = true;  // To prevent multiple clicks.\n",
              "      quickchartButtonEl.classList.add('colab-df-spinner');\n",
              "      try {\n",
              "        const charts = await google.colab.kernel.invokeFunction(\n",
              "            'suggestCharts', [key], {});\n",
              "      } catch (error) {\n",
              "        console.error('Error during call to suggestCharts:', error);\n",
              "      }\n",
              "      quickchartButtonEl.classList.remove('colab-df-spinner');\n",
              "      quickchartButtonEl.classList.add('colab-df-quickchart-complete');\n",
              "    }\n",
              "    (() => {\n",
              "      let quickchartButtonEl =\n",
              "        document.querySelector('#df-d7858fcd-e643-465b-8b13-1dc4733f70d8 button');\n",
              "      quickchartButtonEl.style.display =\n",
              "        google.colab.kernel.accessAllowed ? 'block' : 'none';\n",
              "    })();\n",
              "  </script>\n",
              "</div>\n",
              "\n",
              "  <div id=\"id_1536d445-d9a0-430b-8843-b1870cc83465\">\n",
              "    <style>\n",
              "      .colab-df-generate {\n",
              "        background-color: #E8F0FE;\n",
              "        border: none;\n",
              "        border-radius: 50%;\n",
              "        cursor: pointer;\n",
              "        display: none;\n",
              "        fill: #1967D2;\n",
              "        height: 32px;\n",
              "        padding: 0 0 0 0;\n",
              "        width: 32px;\n",
              "      }\n",
              "\n",
              "      .colab-df-generate:hover {\n",
              "        background-color: #E2EBFA;\n",
              "        box-shadow: 0px 1px 2px rgba(60, 64, 67, 0.3), 0px 1px 3px 1px rgba(60, 64, 67, 0.15);\n",
              "        fill: #174EA6;\n",
              "      }\n",
              "\n",
              "      [theme=dark] .colab-df-generate {\n",
              "        background-color: #3B4455;\n",
              "        fill: #D2E3FC;\n",
              "      }\n",
              "\n",
              "      [theme=dark] .colab-df-generate:hover {\n",
              "        background-color: #434B5C;\n",
              "        box-shadow: 0px 1px 3px 1px rgba(0, 0, 0, 0.15);\n",
              "        filter: drop-shadow(0px 1px 2px rgba(0, 0, 0, 0.3));\n",
              "        fill: #FFFFFF;\n",
              "      }\n",
              "    </style>\n",
              "    <button class=\"colab-df-generate\" onclick=\"generateWithVariable('df')\"\n",
              "            title=\"Generate code using this dataframe.\"\n",
              "            style=\"display:none;\">\n",
              "\n",
              "  <svg xmlns=\"http://www.w3.org/2000/svg\" height=\"24px\"viewBox=\"0 0 24 24\"\n",
              "       width=\"24px\">\n",
              "    <path d=\"M7,19H8.4L18.45,9,17,7.55,7,17.6ZM5,21V16.75L18.45,3.32a2,2,0,0,1,2.83,0l1.4,1.43a1.91,1.91,0,0,1,.58,1.4,1.91,1.91,0,0,1-.58,1.4L9.25,21ZM18.45,9,17,7.55Zm-12,3A5.31,5.31,0,0,0,4.9,8.1,5.31,5.31,0,0,0,1,6.5,5.31,5.31,0,0,0,4.9,4.9,5.31,5.31,0,0,0,6.5,1,5.31,5.31,0,0,0,8.1,4.9,5.31,5.31,0,0,0,12,6.5,5.46,5.46,0,0,0,6.5,12Z\"/>\n",
              "  </svg>\n",
              "    </button>\n",
              "    <script>\n",
              "      (() => {\n",
              "      const buttonEl =\n",
              "        document.querySelector('#id_1536d445-d9a0-430b-8843-b1870cc83465 button.colab-df-generate');\n",
              "      buttonEl.style.display =\n",
              "        google.colab.kernel.accessAllowed ? 'block' : 'none';\n",
              "\n",
              "      buttonEl.onclick = () => {\n",
              "        google.colab.notebook.generateWithVariable('df');\n",
              "      }\n",
              "      })();\n",
              "    </script>\n",
              "  </div>\n",
              "\n",
              "    </div>\n",
              "  </div>\n"
            ],
            "application/vnd.google.colaboratory.intrinsic+json": {
              "type": "dataframe",
              "variable_name": "df",
              "summary": "{\n  \"name\": \"df\",\n  \"rows\": 6,\n  \"fields\": [\n    {\n      \"column\": 0,\n      \"properties\": {\n        \"dtype\": \"number\",\n        \"std\": 0,\n        \"min\": 99,\n        \"max\": 99,\n        \"num_unique_values\": 1,\n        \"samples\": [\n          99\n        ],\n        \"semantic_type\": \"\",\n        \"description\": \"\"\n      }\n    },\n    {\n      \"column\": 1,\n      \"properties\": {\n        \"dtype\": \"number\",\n        \"std\": 5,\n        \"min\": 97,\n        \"max\": 111,\n        \"num_unique_values\": 2,\n        \"samples\": [\n          111\n        ],\n        \"semantic_type\": \"\",\n        \"description\": \"\"\n      }\n    },\n    {\n      \"column\": 2,\n      \"properties\": {\n        \"dtype\": \"number\",\n        \"std\": 1,\n        \"min\": 116,\n        \"max\": 119,\n        \"num_unique_values\": 2,\n        \"samples\": [\n          119\n        ],\n        \"semantic_type\": \"\",\n        \"description\": \"\"\n      }\n    },\n    {\n      \"column\": 3,\n      \"properties\": {\n        \"dtype\": \"number\",\n        \"std\": 6.058052492344384,\n        \"min\": 102.0,\n        \"max\": 116.0,\n        \"num_unique_values\": 4,\n        \"samples\": [\n          116.0\n        ],\n        \"semantic_type\": \"\",\n        \"description\": \"\"\n      }\n    },\n    {\n      \"column\": 4,\n      \"properties\": {\n        \"dtype\": \"number\",\n        \"std\": 1.7320508075688772,\n        \"min\": 105.0,\n        \"max\": 108.0,\n        \"num_unique_values\": 2,\n        \"samples\": [\n          105.0\n        ],\n        \"semantic_type\": \"\",\n        \"description\": \"\"\n      }\n    },\n    {\n      \"column\": 5,\n      \"properties\": {\n        \"dtype\": \"number\",\n        \"std\": 7.023769168568492,\n        \"min\": 101.0,\n        \"max\": 115.0,\n        \"num_unique_values\": 3,\n        \"samples\": [\n          101.0\n        ],\n        \"semantic_type\": \"\",\n        \"description\": \"\"\n      }\n    },\n    {\n      \"column\": 6,\n      \"properties\": {\n        \"dtype\": \"number\",\n        \"std\": 2.1213203435596424,\n        \"min\": 101.0,\n        \"max\": 104.0,\n        \"num_unique_values\": 2,\n        \"samples\": [\n          104.0\n        ],\n        \"semantic_type\": \"\",\n        \"description\": \"\"\n      }\n    }\n  ]\n}"
            }
          },
          "metadata": {},
          "execution_count": 9
        }
      ],
      "source": [
        "VectorizeTerms = lambda LsTerms, lower=True: pd.DataFrame([[ord(ch) for ch in term] for term in LsTerms], index=LsTerms)\n",
        "LsWords = ['cat', 'cats', 'cows', 'cattle', 'catlike', 'catfish']\n",
        "df = VectorizeTerms(LsWords)  # conversion of lists automatically right-broadcasts NaN values to make all rows of same length\n",
        "print(f'df.shape = {df.shape}')\n",
        "df    # missing characters are right-padded with NaN"
      ]
    },
    {
      "cell_type": "markdown",
      "metadata": {
        "id": "nfER_2vgtf5p"
      },
      "source": [
        "If left-padding is needed, you could use [`.zfill()`](https://docs.python.org/3/library/stdtypes.html#str.zfill) and [`.rjust()`](https://docs.python.org/3/library/stdtypes.html#str.rjust) string methods as shown below."
      ]
    },
    {
      "cell_type": "code",
      "execution_count": 16,
      "metadata": {
        "id": "Dc6XYLqJtf5p",
        "outputId": "a58e6025-eb26-4ff3-c347-6c48945e7857",
        "colab": {
          "base_uri": "https://localhost:8080/",
          "height": 57
        }
      },
      "outputs": [
        {
          "output_type": "execute_result",
          "data": {
            "text/plain": [
              "'0000cat'"
            ],
            "application/vnd.google.colaboratory.intrinsic+json": {
              "type": "string"
            }
          },
          "metadata": {},
          "execution_count": 16
        },
        {
          "output_type": "execute_result",
          "data": {
            "text/plain": [
              "'    cat'"
            ],
            "application/vnd.google.colaboratory.intrinsic+json": {
              "type": "string"
            }
          },
          "metadata": {},
          "execution_count": 16
        }
      ],
      "source": [
        "nMaxLen = max(len(s) for s in LsWords)  # find the length of the longest word\n",
        "'cat'.zfill(nMaxLen) # left-pads with zeros to the length of the longest word\n",
        "'cat'.rjust(nMaxLen) # left-pads with space characters"
      ]
    },
    {
      "cell_type": "markdown",
      "metadata": {
        "id": "CNKZDVcftf5q"
      },
      "source": [
        "Next, use the [`corr()`](https://pandas.pydata.org/docs/reference/api/pandas.DataFrame.corr.html) method on a dataframe `df` to compute the pairwise correlations of rows. This results in a square symmetrical matrix with ones on the diagonal, which indicate perfect correlation of the given word (represented by the row vector in `df`) to itself. Any other correlation in cell $ij$ represents the correlation of character code vectors of word $i$ and word $j$ in `df`.\n",
        "\n",
        "In contrast to Jaccard similarity, the positioning of values is very important here; and each two vectors must be in the same-dimensional space (i.e. must have the same number of values)."
      ]
    },
    {
      "cell_type": "code",
      "execution_count": 18,
      "metadata": {
        "id": "ldsGhMVdtf5r",
        "outputId": "36871707-0876-4d2e-b4af-4f2936bfe4fa",
        "colab": {
          "base_uri": "https://localhost:8080/",
          "height": 255
        }
      },
      "outputs": [
        {
          "output_type": "stream",
          "name": "stdout",
          "text": [
            "mSim.shape = (6, 6)\n"
          ]
        },
        {
          "output_type": "execute_result",
          "data": {
            "text/plain": [
              "<pandas.io.formats.style.Styler at 0x7eabe5087510>"
            ],
            "text/html": [
              "<style type=\"text/css\">\n",
              "#T_c4565_row0_col0, #T_c4565_row1_col1, #T_c4565_row1_col2, #T_c4565_row2_col1, #T_c4565_row2_col2, #T_c4565_row3_col3, #T_c4565_row4_col4, #T_c4565_row5_col5 {\n",
              "  background-color: #a52a2a;\n",
              "  color: #f1f1f1;\n",
              "}\n",
              "#T_c4565_row0_col1 {\n",
              "  background-color: #ba5f5f;\n",
              "  color: #f1f1f1;\n",
              "}\n",
              "#T_c4565_row0_col2 {\n",
              "  background-color: #b85b5b;\n",
              "  color: #f1f1f1;\n",
              "}\n",
              "#T_c4565_row0_col3 {\n",
              "  background-color: #d6a7a7;\n",
              "  color: #000000;\n",
              "}\n",
              "#T_c4565_row0_col4 {\n",
              "  background-color: #ece1e1;\n",
              "  color: #000000;\n",
              "}\n",
              "#T_c4565_row0_col5, #T_c4565_row1_col5, #T_c4565_row2_col5, #T_c4565_row3_col5, #T_c4565_row4_col0, #T_c4565_row5_col2 {\n",
              "  background-color: #f2f0f0;\n",
              "  color: #000000;\n",
              "}\n",
              "#T_c4565_row1_col0 {\n",
              "  background-color: #b75959;\n",
              "  color: #f1f1f1;\n",
              "}\n",
              "#T_c4565_row1_col3, #T_c4565_row2_col3 {\n",
              "  background-color: #c47878;\n",
              "  color: #f1f1f1;\n",
              "}\n",
              "#T_c4565_row1_col4 {\n",
              "  background-color: #d9afaf;\n",
              "  color: #000000;\n",
              "}\n",
              "#T_c4565_row2_col0 {\n",
              "  background-color: #b55454;\n",
              "  color: #f1f1f1;\n",
              "}\n",
              "#T_c4565_row2_col4 {\n",
              "  background-color: #dab2b2;\n",
              "  color: #000000;\n",
              "}\n",
              "#T_c4565_row3_col0 {\n",
              "  background-color: #e5cdcd;\n",
              "  color: #000000;\n",
              "}\n",
              "#T_c4565_row3_col1 {\n",
              "  background-color: #d29f9f;\n",
              "  color: #000000;\n",
              "}\n",
              "#T_c4565_row3_col2, #T_c4565_row4_col3 {\n",
              "  background-color: #d3a0a0;\n",
              "  color: #000000;\n",
              "}\n",
              "#T_c4565_row3_col4 {\n",
              "  background-color: #dcb7b7;\n",
              "  color: #000000;\n",
              "}\n",
              "#T_c4565_row4_col1 {\n",
              "  background-color: #e5cfcf;\n",
              "  color: #000000;\n",
              "}\n",
              "#T_c4565_row4_col2 {\n",
              "  background-color: #e8d6d6;\n",
              "  color: #000000;\n",
              "}\n",
              "#T_c4565_row4_col5 {\n",
              "  background-color: #b24c4c;\n",
              "  color: #f1f1f1;\n",
              "}\n",
              "#T_c4565_row5_col0 {\n",
              "  background-color: #e8d5d5;\n",
              "  color: #000000;\n",
              "}\n",
              "#T_c4565_row5_col1 {\n",
              "  background-color: #f1eded;\n",
              "  color: #000000;\n",
              "}\n",
              "#T_c4565_row5_col3 {\n",
              "  background-color: #d8adad;\n",
              "  color: #000000;\n",
              "}\n",
              "#T_c4565_row5_col4 {\n",
              "  background-color: #b04545;\n",
              "  color: #f1f1f1;\n",
              "}\n",
              "</style>\n",
              "<table id=\"T_c4565\" class=\"dataframe\">\n",
              "  <thead>\n",
              "    <tr>\n",
              "      <th class=\"blank level0\" >&nbsp;</th>\n",
              "      <th id=\"T_c4565_level0_col0\" class=\"col_heading level0 col0\" >cat</th>\n",
              "      <th id=\"T_c4565_level0_col1\" class=\"col_heading level0 col1\" >cats</th>\n",
              "      <th id=\"T_c4565_level0_col2\" class=\"col_heading level0 col2\" >cows</th>\n",
              "      <th id=\"T_c4565_level0_col3\" class=\"col_heading level0 col3\" >cattle</th>\n",
              "      <th id=\"T_c4565_level0_col4\" class=\"col_heading level0 col4\" >catlike</th>\n",
              "      <th id=\"T_c4565_level0_col5\" class=\"col_heading level0 col5\" >catfish</th>\n",
              "    </tr>\n",
              "  </thead>\n",
              "  <tbody>\n",
              "    <tr>\n",
              "      <th id=\"T_c4565_level0_row0\" class=\"row_heading level0 row0\" >cat</th>\n",
              "      <td id=\"T_c4565_row0_col0\" class=\"data row0 col0\" >1.000</td>\n",
              "      <td id=\"T_c4565_row0_col1\" class=\"data row0 col1\" >0.707</td>\n",
              "      <td id=\"T_c4565_row0_col2\" class=\"data row0 col2\" >0.729</td>\n",
              "      <td id=\"T_c4565_row0_col3\" class=\"data row0 col3\" >0.312</td>\n",
              "      <td id=\"T_c4565_row0_col4\" class=\"data row0 col4\" >-0.002</td>\n",
              "      <td id=\"T_c4565_row0_col5\" class=\"data row0 col5\" >-0.092</td>\n",
              "    </tr>\n",
              "    <tr>\n",
              "      <th id=\"T_c4565_level0_row1\" class=\"row_heading level0 row1\" >cats</th>\n",
              "      <td id=\"T_c4565_row1_col0\" class=\"data row1 col0\" >0.707</td>\n",
              "      <td id=\"T_c4565_row1_col1\" class=\"data row1 col1\" >1.000</td>\n",
              "      <td id=\"T_c4565_row1_col2\" class=\"data row1 col2\" >0.997</td>\n",
              "      <td id=\"T_c4565_row1_col3\" class=\"data row1 col3\" >0.507</td>\n",
              "      <td id=\"T_c4565_row1_col4\" class=\"data row1 col4\" >0.168</td>\n",
              "      <td id=\"T_c4565_row1_col5\" class=\"data row1 col5\" >-0.243</td>\n",
              "    </tr>\n",
              "    <tr>\n",
              "      <th id=\"T_c4565_level0_row2\" class=\"row_heading level0 row2\" >cows</th>\n",
              "      <td id=\"T_c4565_row2_col0\" class=\"data row2 col0\" >0.729</td>\n",
              "      <td id=\"T_c4565_row2_col1\" class=\"data row2 col1\" >0.997</td>\n",
              "      <td id=\"T_c4565_row2_col2\" class=\"data row2 col2\" >1.000</td>\n",
              "      <td id=\"T_c4565_row2_col3\" class=\"data row2 col3\" >0.500</td>\n",
              "      <td id=\"T_c4565_row2_col4\" class=\"data row2 col4\" >0.130</td>\n",
              "      <td id=\"T_c4565_row2_col5\" class=\"data row2 col5\" >-0.267</td>\n",
              "    </tr>\n",
              "    <tr>\n",
              "      <th id=\"T_c4565_level0_row3\" class=\"row_heading level0 row3\" >cattle</th>\n",
              "      <td id=\"T_c4565_row3_col0\" class=\"data row3 col0\" >0.312</td>\n",
              "      <td id=\"T_c4565_row3_col1\" class=\"data row3 col1\" >0.507</td>\n",
              "      <td id=\"T_c4565_row3_col2\" class=\"data row3 col2\" >0.500</td>\n",
              "      <td id=\"T_c4565_row3_col3\" class=\"data row3 col3\" >1.000</td>\n",
              "      <td id=\"T_c4565_row3_col4\" class=\"data row3 col4\" >0.404</td>\n",
              "      <td id=\"T_c4565_row3_col5\" class=\"data row3 col5\" >0.162</td>\n",
              "    </tr>\n",
              "    <tr>\n",
              "      <th id=\"T_c4565_level0_row4\" class=\"row_heading level0 row4\" >catlike</th>\n",
              "      <td id=\"T_c4565_row4_col0\" class=\"data row4 col0\" >-0.002</td>\n",
              "      <td id=\"T_c4565_row4_col1\" class=\"data row4 col1\" >0.168</td>\n",
              "      <td id=\"T_c4565_row4_col2\" class=\"data row4 col2\" >0.130</td>\n",
              "      <td id=\"T_c4565_row4_col3\" class=\"data row4 col3\" >0.404</td>\n",
              "      <td id=\"T_c4565_row4_col4\" class=\"data row4 col4\" >1.000</td>\n",
              "      <td id=\"T_c4565_row4_col5\" class=\"data row4 col5\" >0.826</td>\n",
              "    </tr>\n",
              "    <tr>\n",
              "      <th id=\"T_c4565_level0_row5\" class=\"row_heading level0 row5\" >catfish</th>\n",
              "      <td id=\"T_c4565_row5_col0\" class=\"data row5 col0\" >-0.092</td>\n",
              "      <td id=\"T_c4565_row5_col1\" class=\"data row5 col1\" >-0.243</td>\n",
              "      <td id=\"T_c4565_row5_col2\" class=\"data row5 col2\" >-0.267</td>\n",
              "      <td id=\"T_c4565_row5_col3\" class=\"data row5 col3\" >0.162</td>\n",
              "      <td id=\"T_c4565_row5_col4\" class=\"data row5 col4\" >0.826</td>\n",
              "      <td id=\"T_c4565_row5_col5\" class=\"data row5 col5\" >1.000</td>\n",
              "    </tr>\n",
              "  </tbody>\n",
              "</table>\n"
            ]
          },
          "metadata": {},
          "execution_count": 18
        }
      ],
      "source": [
        "cm = sns.light_palette(\"brown\", as_cmap=True)\n",
        "mSim = df.T.fillna(0).corr().values     # numpy (square) correlation matrix\n",
        "print(f'mSim.shape = {mSim.shape}')\n",
        "# Applying format before styling\n",
        "styled_df = pd.DataFrame(mSim, index=df.index, columns=df.index).style.format(\"{:.3f}\")\n",
        "styled_df.background_gradient(cmap=cm, axis=1) # Applying background gradient to styled df\n",
        "\n",
        "# Alternatively, you could chain format with background_gradient\n",
        "# (pd.DataFrame(mSim, index=df.index, columns=df.index)\n",
        "#  .style.background_gradient(cmap=cm, axis=1)\n",
        "#  .format(\"{:.3f}\"))"
      ]
    },
    {
      "cell_type": "markdown",
      "metadata": {
        "id": "o4YyIhVttf5r"
      },
      "source": [
        "# **Optional Practice**\n",
        "\n",
        "Now you will practice some of these basic string manipulation techniques. You will apply some measures discussed above to the quotes of famous mathematicians.\n",
        "\n",
        "As you work through these tasks, check your answers by running your code in the *#check solution here* cell, to see if you’ve gotten the correct result. If you get stuck on a task, click the See **solution** drop-down to view the answer."
      ]
    },
    {
      "cell_type": "code",
      "execution_count": 19,
      "metadata": {
        "id": "J36HdmHbtf5s"
      },
      "outputs": [],
      "source": [
        "sQuote1 = 'Pure mathematics is, in its way, the poetry of logical ideas.' # Albert Einstein, German theoretical physicist\n",
        "sQuote2 = 'Mathematics is the most beautiful and most powerful creation of the human spirit.' # Stefan Banach, Polish mathematician\n",
        "sQuote3 = 'What is mathematics? It is only a systematic effort of solving puzzles posed by nature.' # Shakuntala Devi"
      ]
    },
    {
      "cell_type": "markdown",
      "metadata": {
        "id": "pQYRv2bItf5t"
      },
      "source": [
        "## Task 1. Apply Jaccard similarity to characters\n",
        "\n",
        "Which two (lower cased) quotes are most and least similar with respect to Jaccard similarity applied to its characters?\n",
        "\n",
        "<b>Hint:</b> Apply <code>JaccardSim()</code> to compute all pairwise similarities of the pairs of sets of characters derived from these quote strings."
      ]
    },
    {
      "cell_type": "code",
      "execution_count": 20,
      "metadata": {
        "id": "6MMOMqYKtf5t",
        "outputId": "4a195787-1214-49c1-9bf4-79065eb565c6",
        "colab": {
          "base_uri": "https://localhost:8080/"
        }
      },
      "outputs": [
        {
          "output_type": "stream",
          "name": "stdout",
          "text": [
            "intersection: {'f', 'u', 'a', 'o', '.', ' ', 't', 'w', 'c', 'n', 'i', 'm', 's', 'e', 'l', 'r', 'p', 'h', 'd'}\n",
            "union: {'u', 'f', ',', 'a', 'o', '.', 'y', ' ', 'b', 'M', 't', 'w', 'c', 'n', 'i', 'm', 'P', 's', 'e', 'g', 'l', 'r', 'p', 'h', 'd'}\n"
          ]
        }
      ],
      "source": [
        "A, B, C = set(sQuote1), set(sQuote2), set(sQuote3)\n",
        "print(f'intersection: {A & B}')        # or A.intersection(B)\n",
        "print(f'union: {A | B}')               # or A.union(B)"
      ]
    },
    {
      "cell_type": "code",
      "source": [
        "JaccardSim = lambda a={}, b={}: len(a & b) / len(a | b)    # A, B = sets of characters"
      ],
      "metadata": {
        "id": "MxbDI1uJzrto"
      },
      "execution_count": 23,
      "outputs": []
    },
    {
      "cell_type": "code",
      "source": [
        "JaccardSim = lambda A={}, B={}: len(A & B) / len(A | B)    # A, B = sets of characters\n",
        "JaccardDemo = lambda s1='word1', s2='word2': print(f'Jaccard({s1}, {s2}) = {JaccardSim(set(s1), set(s2))}')\n",
        "\n",
        "JaccardDemo('Cornell', 'eCornell')  # sets remove duplicate characters, so the resulting sets are the same\n",
        "JaccardDemo('cat', 'dog')           # animal-ness of these terms is not represented in their characters\n",
        "JaccardDemo('cat', 'act')           # the resulting sets are the same, but meanings are different\n",
        "JaccardDemo('cat', 'catch')         # high similarity is misleading. The semantic meanings are different as well\n",
        "JaccardDemo('cats', 'dogs')         # plural form contributes the same \"s\" to each word"
      ],
      "metadata": {
        "id": "59SUMCKcwmeE",
        "outputId": "c2c5b6a8-3596-4a1b-caa9-55e4f4c6462c",
        "colab": {
          "base_uri": "https://localhost:8080/"
        }
      },
      "execution_count": 21,
      "outputs": [
        {
          "output_type": "stream",
          "name": "stdout",
          "text": [
            "Jaccard(Cornell, eCornell) = 1.0\n",
            "Jaccard(cat, dog) = 0.0\n",
            "Jaccard(cat, act) = 1.0\n",
            "Jaccard(cat, catch) = 0.75\n",
            "Jaccard(cats, dogs) = 0.14285714285714285\n"
          ]
        }
      ]
    },
    {
      "cell_type": "code",
      "source": [
        "SsQuote1, SsQuote2, SsQuote3 = set(sQuote1.lower()), set(sQuote2.lower()), set(sQuote3.lower())\n",
        "\n",
        "print('Einstein vs Banach:', JaccardSim(SsQuote1, SsQuote2))\n",
        "print('Einstein vs Devi:  ', JaccardSim(SsQuote1, SsQuote3))\n",
        "print('Banach vs Devi:    ', JaccardSim(SsQuote2, SsQuote3))"
      ],
      "metadata": {
        "id": "RV-5wux20Ixj",
        "outputId": "c2110da1-81a3-4118-f4ce-2b1b5c548086",
        "colab": {
          "base_uri": "https://localhost:8080/"
        }
      },
      "execution_count": 24,
      "outputs": [
        {
          "output_type": "stream",
          "name": "stdout",
          "text": [
            "Einstein vs Banach: 0.8260869565217391\n",
            "Einstein vs Devi:   0.8076923076923077\n",
            "Banach vs Devi:     0.8\n"
          ]
        }
      ]
    },
    {
      "cell_type": "markdown",
      "metadata": {
        "id": "dUWgg5iqtf5t"
      },
      "source": [
        "<font color=#606366>\n",
        "    <details><summary><font color=#B31B1B>▶ </font>See <b>solution</b>.</summary>\n",
        "Quotes by Einstein and Banach are most similar because they yield the highest Jaccard similarity. Likewise, the quotes by Banach and Devi are least similar with respect to Jaccard Similarity applied to the character sets.\n",
        "            <pre>\n",
        "SsQuote1, SsQuote2, SsQuote3 = set(sQuote1.lower()), set(sQuote2.lower()), set(sQuote3.lower())\n",
        "\n",
        "print('Einstein vs Banach:', JaccardSim(SsQuote1, SsQuote2))\n",
        "print('Einstein vs Devi:  ', JaccardSim(SsQuote1, SsQuote3))\n",
        "print('Banach vs Devi:    ', JaccardSim(SsQuote2, SsQuote3))\n",
        "</pre>\n",
        "</details>\n",
        "</font>\n",
        "<hr>"
      ]
    },
    {
      "cell_type": "markdown",
      "metadata": {
        "id": "XYlaRpwutf5u"
      },
      "source": [
        "## Task 2. Apply Jaccard similarity to words\n",
        "\n",
        "Which two (lower cased) quotes are most and least similar with respect to Jaccard similarity applied to its words?\n",
        "\n",
        "<b>Hint:</b> Use <code>nltk.word_tokenize()</code> to split the sentences above into lists of lower cased words. Then use <code>JaccardSim()</code> to compute all pairwise similarities of the pairs of sets of words derived from these lists."
      ]
    },
    {
      "cell_type": "code",
      "execution_count": 26,
      "metadata": {
        "id": "ZVrHyp_Btf5u",
        "outputId": "0c537f83-3587-4110-8a29-19180903a34a",
        "colab": {
          "base_uri": "https://localhost:8080/"
        }
      },
      "outputs": [
        {
          "output_type": "stream",
          "name": "stderr",
          "text": [
            "[nltk_data] Downloading package punkt_tab to /root/nltk_data...\n",
            "[nltk_data]   Unzipping tokenizers/punkt_tab.zip.\n"
          ]
        },
        {
          "output_type": "execute_result",
          "data": {
            "text/plain": [
              "True"
            ]
          },
          "metadata": {},
          "execution_count": 26
        },
        {
          "output_type": "stream",
          "name": "stdout",
          "text": [
            "Einstein vs Banach: 0.25\n",
            "Einstein vs Devi:   0.16\n",
            "Banach vs Devi:     0.16666666666666666\n"
          ]
        }
      ],
      "source": [
        "nltk.download('punkt_tab')\n",
        "SsQuote1 = set(nltk.word_tokenize(sQuote1.lower()))\n",
        "SsQuote2 = set(nltk.word_tokenize(sQuote2.lower()))\n",
        "SsQuote3 = set(nltk.word_tokenize(sQuote3.lower()))\n",
        "\n",
        "print('Einstein vs Banach:', JaccardSim(SsQuote1, SsQuote2))\n",
        "print('Einstein vs Devi:  ', JaccardSim(SsQuote1, SsQuote3))\n",
        "print('Banach vs Devi:    ', JaccardSim(SsQuote2, SsQuote3))"
      ]
    },
    {
      "cell_type": "markdown",
      "metadata": {
        "id": "oN5vYbtntf5v"
      },
      "source": [
        "<font color=#606366>\n",
        "    <details><summary><font color=#B31B1B>▶ </font>See <b>solution</b>.</summary>\n",
        "Quotes by Einstein and Banach are most similar because they yield the highest Jaccard similarity.\n",
        "            <pre>\n",
        "SsQuote1 = set(nltk.word_tokenize(sQuote1.lower()))\n",
        "SsQuote2 = set(nltk.word_tokenize(sQuote2.lower()))\n",
        "SsQuote3 = set(nltk.word_tokenize(sQuote3.lower()))\n",
        "\n",
        "print('Einstein vs Banach:', JaccardSim(SsQuote1, SsQuote2))\n",
        "print('Einstein vs Devi:  ', JaccardSim(SsQuote1, SsQuote3))\n",
        "print('Banach vs Devi:    ', JaccardSim(SsQuote2, SsQuote3))\n",
        "</pre>\n",
        "</details>\n",
        "</font>\n",
        "<hr>"
      ]
    }
  ],
  "metadata": {
    "anaconda-cloud": {},
    "kernelspec": {
      "display_name": "Python 3",
      "language": "python",
      "name": "python3"
    },
    "language_info": {
      "codemirror_mode": {
        "name": "ipython",
        "version": 3
      },
      "file_extension": ".py",
      "mimetype": "text/x-python",
      "name": "python",
      "nbconvert_exporter": "python",
      "pygments_lexer": "ipython3",
      "version": "3.6.9"
    },
    "toc": {
      "base_numbering": 1,
      "nav_menu": {},
      "number_sections": false,
      "sideBar": true,
      "skip_h1_title": false,
      "title_cell": "Table of Contents",
      "title_sidebar": "Contents",
      "toc_cell": false,
      "toc_position": {},
      "toc_section_display": true,
      "toc_window_display": false
    },
    "varInspector": {
      "cols": {
        "lenName": 16,
        "lenType": 16,
        "lenVar": 40
      },
      "kernels_config": {
        "python": {
          "delete_cmd_postfix": "",
          "delete_cmd_prefix": "del ",
          "library": "var_list.py",
          "varRefreshCmd": "print(var_dic_list())"
        },
        "r": {
          "delete_cmd_postfix": ") ",
          "delete_cmd_prefix": "rm(",
          "library": "var_list.r",
          "varRefreshCmd": "cat(var_dic_list()) "
        }
      },
      "types_to_exclude": [
        "module",
        "function",
        "builtin_function_or_method",
        "instance",
        "_Feature"
      ],
      "window_display": false
    },
    "colab": {
      "provenance": []
    }
  },
  "nbformat": 4,
  "nbformat_minor": 0
}