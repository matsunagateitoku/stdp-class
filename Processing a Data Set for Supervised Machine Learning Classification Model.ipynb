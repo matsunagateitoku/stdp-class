{
 "cells": [
  {
   "cell_type": "markdown",
   "metadata": {},
   "source": [
    "# Part One of the Course Project\n",
    "\n",
    "In this project you will split a sample `X` into smaller subsamples, which we will call training sample, validation sample, and testing sample. We will later learn why these subsamples are needed and how a machine learning model can be trained on a training sample, validated or tested on the other samples. \n",
    "\n",
    "Here a sample `X` can be any *iterable*, or a sequence of elements, which includes a range, a list, a tuple, a string, a numpy array or any object allowing iteration over its elements, which can themselves be iterables or even more complex data structures.\n",
    "\n",
    "<hr style=\"border-top: 2px solid #606366; background: transparent;\">"
   ]
  },
  {
   "cell_type": "markdown",
   "metadata": {},
   "source": [
    "# **Setup**\n",
    " \n",
    "Reset the Python environment to clear it of any previously loaded variables, functions, or libraries. Then, import the libraries needed to complete this part of the course project. "
   ]
  },
  {
   "cell_type": "code",
   "execution_count": 1,
   "metadata": {
    "deletable": false,
    "editable": false,
    "nbgrader": {
     "cell_type": "code",
     "checksum": "c87e6dd24487febfc1d1f078b12d9301",
     "grade": false,
     "grade_id": "imports",
     "locked": true,
     "schema_version": 3,
     "solution": false
    }
   },
   "outputs": [
    {
     "name": "stdout",
     "output_type": "stream",
     "text": [
      "2943 male names:   ['Aamir', 'Aaron', 'Abbey', 'Abbie', 'Abbot', 'Abbott', 'Abby', 'Abdel', 'Abdul', 'Abdulkarim']\n",
      "4636 female names: ['Abagael', 'Abagail', 'Abbe', 'Abbi', 'Abigael', 'Abigail', 'Abigale', 'Abra', 'Acacia', 'Ada']\n"
     ]
    }
   ],
   "source": [
    "%reset -f\n",
    "from IPython.core.interactiveshell import InteractiveShell as IS\n",
    "IS.ast_node_interactivity = \"all\"    # allows multiple outputs from a cell\n",
    "import pandas as pd, numpy as np, nltk\n",
    "from numpy.testing import assert_equal as eq\n",
    "from sklearn.model_selection import train_test_split\n",
    "pd.set_option('max_colwidth', 100, 'display.max_rows', 10)\n",
    "import unittest\n",
    "from colorunittest import run_unittest\n",
    "\n",
    "_ = nltk.download(info_or_id=['names'], quiet=True)\n",
    "LsM = nltk.corpus.names.words(fileids='male.txt')\n",
    "LsF = nltk.corpus.names.words(fileids='female.txt')\n",
    "LsF = [n for n in LsF if n not in LsM] # for simplicity: remove ~360 female names found among the male names\n",
    "print(f'{len(LsM)} male names:  ', LsM[:10])\n",
    "print(f'{len(LsF)} female names:', LsF[:10])"
   ]
  },
  {
   "cell_type": "markdown",
   "metadata": {},
   "source": [
    "# Task 1\n",
    "\n",
    "Your first task is to create a simple wrapper function around `train_test_split()` to better understand the existing powerful and convenient tools for splitting samples. Typically, the samples are randomly shuffled, but we will avoid this to ensure your code results can be easily modified. Complete the function `tts_60_40()` after carefully reading its [docstring](https://www.python.org/dev/peps/pep-0257/) and evaluating the examples in the following test code cell, which tests your function's output. \n",
    "\n",
    "Note: Docstrings are descriptive string literals appearing in the function after its definition. Often, docstrings are multi-line strings quoted with ''' on each side as in the example below. All red text is a docstring. Typically, it describes what the function does, what it takes as arguments and what it outputs."
   ]
  },
  {
   "cell_type": "code",
   "execution_count": 2,
   "metadata": {
    "deletable": false,
    "nbgrader": {
     "cell_type": "code",
     "checksum": "ecda5451fd70412b9e65d787389a4414",
     "grade": false,
     "grade_id": "tts_60_40_answer",
     "locked": false,
     "schema_version": 3,
     "solution": true
    }
   },
   "outputs": [],
   "source": [
    "def tts_60_40(X:'iterable'=range(10)) -> [[],[]]:\n",
    "    ''' Splits a list X into 60% train sample and 40% validation sample without shuffling.\n",
    "        Use SKLearn's train_test_split() function with appropriate parameters in your implementation.\n",
    "    Inputs:       X: iterable of observations to partition\n",
    "    Returns: tX, vX: train and validation sets '''\n",
    "    # YOUR CODE HERE\n",
    "    raise NotImplementedError()\n",
    "    return tX, vX"
   ]
  },
  {
   "cell_type": "code",
   "execution_count": 3,
   "metadata": {},
   "outputs": [],
   "source": [
    "def tts_60_40(X:'iterable'=range(10)) -> [[],[]]:\n",
    "    tX, vX = train_test_split(X, test_size=0.4, shuffle=False)\n",
    "    #raise NotImplementedError()\n",
    "    return tX, vX"
   ]
  },
  {
   "cell_type": "code",
   "execution_count": 4,
   "metadata": {},
   "outputs": [
    {
     "data": {
      "text/plain": [
       "([0, 1, 2, 3, 4, 5], [6, 7, 8, 9])"
      ]
     },
     "execution_count": 4,
     "metadata": {},
     "output_type": "execute_result"
    }
   ],
   "source": [
    "\n",
    "tts_60_40()"
   ]
  },
  {
   "cell_type": "markdown",
   "metadata": {},
   "source": [
    "Use the following test cases as examples to debug your function."
   ]
  },
  {
   "cell_type": "code",
   "execution_count": 5,
   "metadata": {
    "deletable": false,
    "editable": false,
    "nbgrader": {
     "cell_type": "code",
     "checksum": "c8219bd6e6f9c9a513cdec7e667b239e",
     "grade": true,
     "grade_id": "tts_60_40_test",
     "locked": true,
     "points": 1,
     "schema_version": 3,
     "solution": false
    }
   },
   "outputs": [
    {
     "name": "stdout",
     "output_type": "stream",
     "text": [
      "Ran 5 tests in 0.005s\n",
      "\n",
      "\u001b[1m\u001b[34mOK\u001b[0m\n",
      "test_00 (__main__.test_tts_60_40) ... \u001b[1m\u001b[34mok\u001b[0m\n",
      "test_01 (__main__.test_tts_60_40) ... \u001b[1m\u001b[34mok\u001b[0m\n",
      "test_02 (__main__.test_tts_60_40) ... \u001b[1m\u001b[34mok\u001b[0m\n",
      "test_03 (__main__.test_tts_60_40) ... \u001b[1m\u001b[34mok\u001b[0m\n",
      "test_04 (__main__.test_tts_60_40) ... \u001b[1m\u001b[34mok\u001b[0m\n",
      "\n",
      "----------------------------------------------------------------------\n",
      "\n"
     ]
    }
   ],
   "source": [
    "# TEST & AUTOGRADE CELL\n",
    "@run_unittest\n",
    "class test_tts_60_40(unittest.TestCase):\n",
    "    def test_00(self): eq(tts_60_40(),                             ([0, 1, 2, 3, 4, 5], [6, 7, 8, 9]))\n",
    "    def test_01(self): eq([len(x) for x in tts_60_40(range(100))], [60, 40])\n",
    "    def test_02(self): eq([len(x) for x in tts_60_40(LsM)],        [1765, 1178])\n",
    "    def test_03(self): eq([len(x) for x in tts_60_40(LsF)],        [2781, 1855])\n",
    "    def test_04(self): eq(tts_60_40(LsF)[1][:5],                   ['Libbey', 'Libbi', 'Libbie', 'Libby', 'Licha'])"
   ]
  },
  {
   "cell_type": "markdown",
   "metadata": {},
   "source": [
    "# Task 2\n",
    "\n",
    "Next, complete a relatively simple `Split2()` function below."
   ]
  },
  {
   "cell_type": "code",
   "execution_count": 6,
   "metadata": {
    "deletable": false,
    "nbgrader": {
     "cell_type": "code",
     "checksum": "f8cf47177db78ebd7d257754f099469e",
     "grade": false,
     "grade_id": "Split2_answer",
     "locked": false,
     "schema_version": 3,
     "solution": true
    }
   },
   "outputs": [],
   "source": [
    "def Split2(X:'iterable'=range(10), j=2) -> ([],[]):\n",
    "    ''' Splits a list X into training and validation lists, tX and vX, as following:\n",
    "        Elements with indices divisible by j are added to vX. Others go to tX.\n",
    "        If j is not in range of integers from 1 to len(X), reset it to 2 (for even split)\n",
    "        Hint: You can use modulo operation, %, to check divisibility. See documentation.\n",
    "    Inputs: \n",
    "        X: iterable containing observations to partition\n",
    "        j: positive integer index so that X is split at each jᵗʰ element into training and validation lists\n",
    "    Returns:\n",
    "        tX, vX: two lists containing all elements of X with vX containing each jᵗʰ element of X \n",
    "                and tX containing the rest of elements (without changing their original order)\n",
    "    '''\n",
    "    # YOUR CODE HERE\n",
    "    raise NotImplementedError()\n",
    "    return tX, vX"
   ]
  },
  {
   "cell_type": "code",
   "execution_count": 7,
   "metadata": {},
   "outputs": [],
   "source": [
    "def Split2(X:'iterable'=range(10), j=2) -> ([],[]):\n",
    "    if j < 1 or j > len(X):\n",
    "        j = 2\n",
    "    \n",
    "    tX = []  # Training list\n",
    "    vX = []  # Validation list\n",
    "\n",
    "    for index in range(len(X)):\n",
    "        if index % j == 0:\n",
    "            vX.append(X[index])  # Add to validation set\n",
    "        else:\n",
    "            tX.append(X[index])  # Add to training set\n",
    "    \n",
    "    return tX, vX\n"
   ]
  },
  {
   "cell_type": "code",
   "execution_count": 8,
   "metadata": {
    "deletable": false,
    "editable": false,
    "nbgrader": {
     "cell_type": "code",
     "checksum": "93923829bc58ac34685d2f1ce76f1fb2",
     "grade": true,
     "grade_id": "Split2_test",
     "locked": true,
     "points": 1,
     "schema_version": 3,
     "solution": false
    }
   },
   "outputs": [
    {
     "name": "stdout",
     "output_type": "stream",
     "text": [
      "Ran 9 tests in 0.005s\n",
      "\n",
      "\u001b[1m\u001b[34mOK\u001b[0m\n",
      "test_00 (__main__.test_Split2) ... \u001b[1m\u001b[34mok\u001b[0m\n",
      "test_01 (__main__.test_Split2) ... \u001b[1m\u001b[34mok\u001b[0m\n",
      "test_02 (__main__.test_Split2) ... \u001b[1m\u001b[34mok\u001b[0m\n",
      "test_03 (__main__.test_Split2) ... \u001b[1m\u001b[34mok\u001b[0m\n",
      "test_04 (__main__.test_Split2) ... \u001b[1m\u001b[34mok\u001b[0m\n",
      "test_05 (__main__.test_Split2) ... \u001b[1m\u001b[34mok\u001b[0m\n",
      "test_06 (__main__.test_Split2) ... \u001b[1m\u001b[34mok\u001b[0m\n",
      "test_07 (__main__.test_Split2) ... \u001b[1m\u001b[34mok\u001b[0m\n",
      "test_08 (__main__.test_Split2) ... \u001b[1m\u001b[34mok\u001b[0m\n",
      "\n",
      "----------------------------------------------------------------------\n",
      "\n"
     ]
    }
   ],
   "source": [
    "# TEST & AUTOGRADE CELL\n",
    "@run_unittest\n",
    "class test_Split2(unittest.TestCase):\n",
    "    def test_00(self): eq(Split2(),                 ([1, 3, 5, 7, 9], [0, 2, 4, 6, 8]))\n",
    "    def test_01(self): eq(Split2([]),               ([],[]))\n",
    "    def test_02(self): eq(Split2([1]),              ([],[1]))\n",
    "    def test_03(self): eq(Split2(j=0.1),            ([1, 3, 5, 7, 9], [0, 2, 4, 6, 8]))\n",
    "    def test_04(self): eq(Split2(j=-1.7),           ([1, 3, 5, 7, 9], [0, 2, 4, 6, 8]))\n",
    "    def test_05(self): eq(Split2(np.arange(12), 3), ([1, 2, 4, 5, 7, 8, 10, 11], [0, 3, 6, 9]))\n",
    "    def test_06(self): eq(Split2(range(-10,10), 4), ([-9, -8, -7, -5, -4, -3, -1, 0, 1, 3, 4, 5, 7, 8, 9], [-10, -6, -2, 2, 6]))\n",
    "    def test_07(self): eq([len(x) for x in Split2(LsM, 4)], [2207, 736])\n",
    "    def test_08(self): eq(Split2(LsM, 4)[0][:5], ['Aaron', 'Abbey', 'Abbie', 'Abbott', 'Abby'])"
   ]
  },
  {
   "cell_type": "markdown",
   "metadata": {},
   "source": [
    "# Task 3\n",
    "\n",
    "Next, complete a `Split3()` function below. Although it seems more complicated than `Split2()`, it is actually easier, if you apply `Split2()` twice. "
   ]
  },
  {
   "cell_type": "code",
   "execution_count": 9,
   "metadata": {
    "deletable": false,
    "nbgrader": {
     "cell_type": "code",
     "checksum": "34a8642876cc7489ec50f1d0fe79f865",
     "grade": false,
     "grade_id": "Split3_answer",
     "locked": false,
     "schema_version": 3,
     "solution": true
    }
   },
   "outputs": [],
   "source": [
    "def Split3(X:'iterable'=range(10), i=2, j=3) -> ([],[],[]):\n",
    "    '''Splits a list X into training, validation, and testing lists, tX, vX, sX, as following:\n",
    "        All jᵗʰ elements are collected in sX and the remaining elements go to tvX (train and validation).\n",
    "        Then we split tvX so that all iᵗʰ elements go to vX and the rest go to tX.\n",
    "        If i or j are not in range of integers from 1 to len(X), reset them to 2 (for even split)\n",
    "        Hint: consider applying Split2() twice.\n",
    "    Inputs: \n",
    "        X: iterable containing observations to partition\n",
    "        j: positive integer index so that X is split at each jᵗʰ element into training and testing lists\n",
    "    Returns:\n",
    "        tX, vX, sX: three lists containing all elements of X with vX containing each iᵗʰ element of X,  \n",
    "                sX containing each jᵗʰ element of X, and tX containing the rest of elements \n",
    "                (without changing their original order)\n",
    "    '''\n",
    "    # YOUR CODE HERE\n",
    "    raise NotImplementedError()\n",
    "    return tX, vX, sX"
   ]
  },
  {
   "cell_type": "code",
   "execution_count": 10,
   "metadata": {},
   "outputs": [],
   "source": [
    "def Split3(X:'iterable'=range(10), i=2, j=3) -> ([],[],[]):\n",
    "    # Ensure i and j are within the valid range\n",
    "    if i < 1 or i > len(X):\n",
    "        i = 2\n",
    "    if j < 1 or j > len(X):\n",
    "        j = 2\n",
    "\n",
    "    # Step 1: Split into testing set (sX) and temporary set (tvX)\n",
    "    sX = []  # Testing list\n",
    "    tvX = []  # Temporary list for training and validation\n",
    "\n",
    "    for index in range(len(X)):\n",
    "        if (index + 1) % j == 0:  # Adjust for 1-based indexing\n",
    "            sX.append(X[index])   # Add to testing set\n",
    "        else:\n",
    "            tvX.append(X[index])   # Add to temporary set\n",
    "\n",
    "    # Step 2: First use Split2 to get training (tX) and validation (vX) from tvX\n",
    "    tX, vX = Split2(tvX, i)\n",
    "\n",
    "    # Step 3: Apply Split2 again to the training set to create a new validation set\n",
    "    # This will take the training set (tX) and split it again if needed\n",
    "    tX, vX = Split2(tX + vX, i)\n",
    "    return tX, vX, sX"
   ]
  },
  {
   "cell_type": "code",
   "execution_count": 11,
   "metadata": {},
   "outputs": [],
   "source": [
    "def Split3(X:'iterable'=range(10), i=2, j=3) -> ([],[],[]):\n",
    "    # Convert X to a list to allow indexing\n",
    "    X = list(X)\n",
    "    \n",
    "    # Validate indices\n",
    "    if not (1 <= i <= len(X)):\n",
    "        i = 2\n",
    "    if not (1 <= j <= len(X)):\n",
    "        j = 2\n",
    "    \n",
    "    # Step 1: Split into sX and tvX\n",
    "    tX = [X[k] for k in range(j - 1, len(X), j)]  # Every j-th element\n",
    "    tvX = [X[k] for k in range(len(X)) if (k + 1) % j != 0]  # Remaining elements\n",
    "    \n",
    "    # Step 2: Split tvX into tX and vX\n",
    "    vX = [tvX[k] for k in range(i - 1, len(tvX), i)]  # Every i-th element\n",
    "    sX = [tvX[k] for k in range(len(tvX)) if (k + 1) % i != 0]  # Remaining elements\n",
    "    \n",
    "    return tX, vX, sX"
   ]
  },
  {
   "cell_type": "code",
   "execution_count": 12,
   "metadata": {},
   "outputs": [],
   "source": [
    "def Split3(X:'iterable'=range(10), i=2, j=3) -> ([],[],[]):\n",
    "    X = list(X)\n",
    "    \n",
    "    # Validate indices\n",
    "    if not (1 <= i <= len(X)):\n",
    "        i = 2\n",
    "    if not (1 <= j <= len(X)):\n",
    "        j = 2\n",
    "        \n",
    "    # Step 1: Split into sX and tvX\n",
    "    sX = [X[k] for k in range(j - 1, len(X), j)]  # Every j-th element\n",
    "    tvX = [X[k] for k in range(len(X)) if (k + 1) % j != 0]  # Remaining elements\n",
    "    \n",
    "    # Step 2: Use Split2 to split tvX into tX and vX\n",
    "    vX, tX = Split2(tvX, i)  # Split tvX using i for the split\n",
    "\n",
    "    return tX, vX, sX"
   ]
  },
  {
   "cell_type": "code",
   "execution_count": 13,
   "metadata": {},
   "outputs": [
    {
     "data": {
      "text/plain": [
       "'Splits a list X into training, validation, and testing lists, tX, vX, sX, as following:\\n    All jᵗʰ elements are collected in sX and the remaining elements go to tvX (train and validation).\\n    Then we split tvX so that all iᵗʰ elements go to vX and the rest go to tX.\\n    If i or j are not in range of integers from 1 to len(X), reset them to 2 (for even split)\\n    Hint: consider applying Split2() twice.\\nInputs: \\n    X: iterable containing observations to partition\\n    j: positive integer index so that X is split at each jᵗʰ element into training and testing lists\\nReturns:\\n    tX, vX, sX: three lists containing all elements of X with vX containing each iᵗʰ element of X,  \\n            sX containing each jᵗʰ element of X, and tX containing the rest of elements \\n            (without changing their original order)\\n'"
      ]
     },
     "execution_count": 13,
     "metadata": {},
     "output_type": "execute_result"
    }
   ],
   "source": [
    "    '''Splits a list X into training, validation, and testing lists, tX, vX, sX, as following:\n",
    "        All jᵗʰ elements are collected in sX and the remaining elements go to tvX (train and validation).\n",
    "        Then we split tvX so that all iᵗʰ elements go to vX and the rest go to tX.\n",
    "        If i or j are not in range of integers from 1 to len(X), reset them to 2 (for even split)\n",
    "        Hint: consider applying Split2() twice.\n",
    "    Inputs: \n",
    "        X: iterable containing observations to partition\n",
    "        j: positive integer index so that X is split at each jᵗʰ element into training and testing lists\n",
    "    Returns:\n",
    "        tX, vX, sX: three lists containing all elements of X with vX containing each iᵗʰ element of X,  \n",
    "                sX containing each jᵗʰ element of X, and tX containing the rest of elements \n",
    "                (without changing their original order)\n",
    "    '''"
   ]
  },
  {
   "cell_type": "code",
   "execution_count": 14,
   "metadata": {},
   "outputs": [],
   "source": [
    "def Split3(X:'iterable'=range(10), i=2, j=3) -> ([],[],[]):\n",
    "\n",
    "    if j < 1 or j > len(X):\n",
    "        j = 2\n",
    "    \n",
    "    if i < 1 or i > len(X):\n",
    "        i = 2\n",
    "    \n",
    "    sX = []  # Testing set\n",
    "    tvX = []  # Temporary set for training and validation\n",
    "    vX = []  # Validation set\n",
    "    tX = []  # Training set\n",
    "\n",
    "    # First loop to fill sX and tvX\n",
    "    for index in range(len(X)):\n",
    "        if index % j == 0:\n",
    "            sX.append(X[index])  # Every j-th element goes to sX\n",
    "        else:\n",
    "            tvX.append(X[index])  # The rest go to tvX\n",
    "\n",
    "    # Second loop to fill vX and tX from tvX\n",
    "    for index in range(len(tvX)):\n",
    "        if index % i == 0:\n",
    "            vX.append(tvX[index])  # Every i-th element from tvX goes to vX\n",
    "        else:\n",
    "            tX.append(tvX[index])  # The rest go to tX\n",
    "\n",
    "    return tX, vX, sX"
   ]
  },
  {
   "cell_type": "code",
   "execution_count": 15,
   "metadata": {},
   "outputs": [
    {
     "data": {
      "text/plain": [
       "([2, 5, 8], [1, 4, 7], [0, 3, 6, 9])"
      ]
     },
     "execution_count": 15,
     "metadata": {},
     "output_type": "execute_result"
    }
   ],
   "source": [
    "Split3()"
   ]
  },
  {
   "cell_type": "code",
   "execution_count": 16,
   "metadata": {
    "deletable": false,
    "editable": false,
    "nbgrader": {
     "cell_type": "code",
     "checksum": "939377613e2421c5d95c272af6334bd1",
     "grade": true,
     "grade_id": "Split3_test",
     "locked": true,
     "points": 1,
     "schema_version": 3,
     "solution": false
    }
   },
   "outputs": [
    {
     "name": "stdout",
     "output_type": "stream",
     "text": [
      "Ran 5 tests in 0.003s\n",
      "\n",
      "\u001b[1m\u001b[34mOK\u001b[0m\n",
      "test_00 (__main__.test_Split3) ... \u001b[1m\u001b[34mok\u001b[0m\n",
      "test_01 (__main__.test_Split3) ... \u001b[1m\u001b[34mok\u001b[0m\n",
      "test_02 (__main__.test_Split3) ... \u001b[1m\u001b[34mok\u001b[0m\n",
      "test_03 (__main__.test_Split3) ... \u001b[1m\u001b[34mok\u001b[0m\n",
      "test_04 (__main__.test_Split3) ... \u001b[1m\u001b[34mok\u001b[0m\n",
      "\n",
      "----------------------------------------------------------------------\n",
      "\n"
     ]
    }
   ],
   "source": [
    "# TEST & AUTOGRADE CELL\n",
    "@run_unittest\n",
    "class test_Split3(unittest.TestCase):\n",
    "    def test_00(self): eq(Split3(), ([2, 5, 8], [1, 4, 7], [0, 3, 6, 9]))\n",
    "    def test_01(self): eq(Split3(i=3, j=3), ([2, 4, 7, 8], [1, 5], [0, 3, 6, 9]))\n",
    "    def test_02(self): eq([len(x) for x in Split3(range(1,100), i=2, j=3)], [33, 33, 33])\n",
    "    def test_03(self): eq([sum(x) for x in Split3(range(-100,100), i=2, j=4)], [50, -50, -100])\n",
    "    def test_04(self): eq([len(x) for x in Split3(LsM, 4)], [1471, 491, 981])"
   ]
  },
  {
   "cell_type": "markdown",
   "metadata": {},
   "source": [
    "# Task 4\n",
    "\n",
    "Next, complete the `KSplit()` function below. It is similar to SKLearn's [`KFold()`](https://scikit-learn.org/stable/modules/generated/sklearn.model_selection.KFold.html) function, which splits a sample into approximately even-sized `K` subsamples. You will learn more about K Folds in later modules. \n",
    "\n",
    "`KSplit()` splits `X` slightly differently. Instead of splitting `X` into blocks of contiguous observations, it cyclically redistributes elements among `K` lists. So, if `X=[0,1,2,3]` and `K=2`, then 2 lists are created, say, `L0` and `L1`. In the loop over elements of `X`, the 0th element is appended to `L0`, then the 1st element is appended to `L1`, then recycling of lists `L0` and `L1` begins. The 2nd element is appended to `L0` again and the 3rd element is appended to `L1` again. The trick is to create a list of `K` sublists first and then to use the [modulo operator](https://docs.python.org/3/reference/expressions.html#binary-arithmetic-operations), `%`, to decide on which of the sublists receives the next element of `X`. There are other ways to implement this requirement as well."
   ]
  },
  {
   "cell_type": "code",
   "execution_count": 17,
   "metadata": {
    "deletable": false,
    "nbgrader": {
     "cell_type": "code",
     "checksum": "f1d189031e7ba2d1d18d7d845490b3ce",
     "grade": false,
     "grade_id": "KSplit_answer",
     "locked": false,
     "schema_version": 3,
     "solution": true
    }
   },
   "outputs": [],
   "source": [
    "def KSplit(X:'iterable'=range(10), K=2):\n",
    "    '''Splits X across K lists. Use modulo operator to assign X[i] to i%Kᵗʰ list\n",
    "    If K is not in range of integers from 1 to len(X), reset it to 2 (for even split).\n",
    "    Implement failsafe: If K is not in [1,...,len(X)-1], set K to 2. For example, \n",
    "        if lex(X) = 6, K should be an integer between 1 and 5, or else set K=2.\n",
    "    Inputs: \n",
    "        X: iterable containing observations to partition\n",
    "        K: positive integer specifying the number of resulting lists\n",
    "    Returns:\n",
    "        LSamples: list of samples\n",
    "    '''\n",
    "    # Hints:\n",
    "    # Create a list of K empty lists named LSamples. Ex: if K = 3, LSamples = [[],[],[]].\n",
    "    # There are many possible ways to populate the individual lists in LSamples.\n",
    "    # The end result, for example, where X was a list of numbers = [0,1,2,3,4,5]\n",
    "    # and the value for K was 3, LSamples would equal [[0,3],[1,4],[2,5]]. \n",
    "    # In this example, LSamples[0] = [0,3], LSamples[1] = [1,4], and LSamples[2] = [2,5].\n",
    "    # Note that the first value is always the index position of the sublist index value.\n",
    "    # In other words, LSamples[0][0] = 0, LSamples[1][0] = 1, and LSamples[2][0] = 2.\n",
    "    # If X was a list of letters = ['a','b','c','d','e','f'] and K = 3 then\n",
    "    # LSamples would equal [['a','d'],['b','e'],['c','f']], and the value for \n",
    "    # LSamples[0][0] would be 'a', or the 0th index position of the 0th list. \n",
    "    # Using modulus and appending by some counting loop logic is one way, but not the only \n",
    "    # way to do this.\n",
    "    \n",
    "    # YOUR CODE HERE\n",
    "    raise NotImplementedError()\n",
    "    return LSamples"
   ]
  },
  {
   "cell_type": "code",
   "execution_count": 18,
   "metadata": {},
   "outputs": [],
   "source": [
    "def KSplit(X:'iterable'=range(10), K=2):\n",
    "\n",
    "    \n",
    "    # YOUR CODE HERE\n",
    "    raise NotImplementedError()\n",
    "    return LSamples"
   ]
  },
  {
   "cell_type": "code",
   "execution_count": 36,
   "metadata": {},
   "outputs": [],
   "source": [
    "def KSplit(X:'iterable'=range(10), K=2): \n",
    "    # Convert X to a list\n",
    "    X = list(X)\n",
    "    \n",
    "    # Validate K\n",
    "    if K < 1 or K > len(X) -1:\n",
    "        K = 2\n",
    "\n",
    "    K = K if isinstance(K, int) else 2\n",
    "    \n",
    "    # Create K empty lists\n",
    "    LSamples = [[] for _ in range(K)]\n",
    "    \n",
    "    # Distribute elements\n",
    "    for index in range(len(X)):\n",
    "        LSamples[index % K].append(X[index])  # Append to the appropriate sublist\n",
    "    \n",
    "    return LSamples"
   ]
  },
  {
   "cell_type": "code",
   "execution_count": 37,
   "metadata": {},
   "outputs": [
    {
     "data": {
      "text/plain": [
       "[[0, 2], [1]]"
      ]
     },
     "execution_count": 37,
     "metadata": {},
     "output_type": "execute_result"
    }
   ],
   "source": [
    "KSplit(range(3), 3) #[[0, 2], [1]]) "
   ]
  },
  {
   "cell_type": "code",
   "execution_count": 35,
   "metadata": {},
   "outputs": [
    {
     "name": "stdout",
     "output_type": "stream",
     "text": [
      "0\n",
      "1\n",
      "2\n"
     ]
    }
   ],
   "source": [
    "test = range(3)\n",
    "for i in test:\n",
    "    print(i)"
   ]
  },
  {
   "cell_type": "code",
   "execution_count": 38,
   "metadata": {
    "deletable": false,
    "editable": false,
    "nbgrader": {
     "cell_type": "code",
     "checksum": "64a833f4a0d6c90811fd6ea710055551",
     "grade": true,
     "grade_id": "KSplit_test",
     "locked": true,
     "points": 1,
     "schema_version": 3,
     "solution": false
    }
   },
   "outputs": [
    {
     "name": "stdout",
     "output_type": "stream",
     "text": [
      "Ran 11 tests in 0.004s\n",
      "\n",
      "\u001b[1m\u001b[34mOK\u001b[0m\n",
      "test_00 (__main__.test_KSplit) ... \u001b[1m\u001b[34mok\u001b[0m\n",
      "test_01 (__main__.test_KSplit) ... \u001b[1m\u001b[34mok\u001b[0m\n",
      "test_02 (__main__.test_KSplit) ... \u001b[1m\u001b[34mok\u001b[0m\n",
      "test_03 (__main__.test_KSplit) ... \u001b[1m\u001b[34mok\u001b[0m\n",
      "test_04 (__main__.test_KSplit) ... \u001b[1m\u001b[34mok\u001b[0m\n",
      "test_05 (__main__.test_KSplit) ... \u001b[1m\u001b[34mok\u001b[0m\n",
      "test_06 (__main__.test_KSplit) ... \u001b[1m\u001b[34mok\u001b[0m\n",
      "test_07 (__main__.test_KSplit) ... \u001b[1m\u001b[34mok\u001b[0m\n",
      "test_08 (__main__.test_KSplit) ... \u001b[1m\u001b[34mok\u001b[0m\n",
      "test_09 (__main__.test_KSplit) ... \u001b[1m\u001b[34mok\u001b[0m\n",
      "test_10 (__main__.test_KSplit) ... \u001b[1m\u001b[34mok\u001b[0m\n",
      "\n",
      "----------------------------------------------------------------------\n",
      "\n"
     ]
    }
   ],
   "source": [
    "# TEST & AUTOGRADE CELL\n",
    "@run_unittest\n",
    "class test_KSplit(unittest.TestCase):\n",
    "    def test_00(self): eq(KSplit([], 2),         [[], []])\n",
    "    def test_01(self): eq(KSplit([1], 2),        [[1], []])\n",
    "    def test_02(self): eq(KSplit(range(3), -1),  [[0, 2], [1]])\n",
    "    def test_03(self): eq(KSplit(range(3), 1),   [[0, 1, 2]])\n",
    "    def test_04(self): eq(KSplit(range(3), 1.5), [[0, 2], [1]])\n",
    "    def test_05(self): eq(KSplit(range(3), 2),   [[0, 2], [1]])\n",
    "    def test_06(self): eq(KSplit(range(3), 3),   [[0, 2], [1]]) # Failsafe kicks in with a default of K=2\n",
    "    def test_07(self): eq(KSplit(range(4), 3),   [[0, 3], [1], [2]])\n",
    "    def test_07(self): eq(KSplit(range(3), 4),   [[0, 2], [1]]) # Failsafe kicks in with a default of K=2\n",
    "    def test_08(self): eq([len(x) for x in KSplit(range(1000), 6)], [167, 167, 167, 167, 166, 166])\n",
    "    def test_09(self): eq([len(x) for x in KSplit(LsM, 6)],         [491, 491, 491, 490, 490, 490])\n",
    "    def test_10(self): eq(KSplit(LsM, 7)[0][-3:],['Zary', 'Zed', 'Zollie'])"
   ]
  },
  {
   "cell_type": "code",
   "execution_count": null,
   "metadata": {},
   "outputs": [],
   "source": []
  }
 ],
 "metadata": {
  "anaconda-cloud": {},
  "kernelspec": {
   "display_name": "Python 3",
   "language": "python",
   "name": "python3"
  },
  "language_info": {
   "codemirror_mode": {
    "name": "ipython",
    "version": 3
   },
   "file_extension": ".py",
   "mimetype": "text/x-python",
   "name": "python",
   "nbconvert_exporter": "python",
   "pygments_lexer": "ipython3",
   "version": "3.6.9"
  },
  "toc": {
   "base_numbering": 1,
   "nav_menu": {},
   "number_sections": false,
   "sideBar": true,
   "skip_h1_title": false,
   "title_cell": "Table of Contents",
   "title_sidebar": "Contents",
   "toc_cell": false,
   "toc_position": {},
   "toc_section_display": true,
   "toc_window_display": false
  },
  "varInspector": {
   "cols": {
    "lenName": 16,
    "lenType": 16,
    "lenVar": 40
   },
   "kernels_config": {
    "python": {
     "delete_cmd_postfix": "",
     "delete_cmd_prefix": "del ",
     "library": "var_list.py",
     "varRefreshCmd": "print(var_dic_list())"
    },
    "r": {
     "delete_cmd_postfix": ") ",
     "delete_cmd_prefix": "rm(",
     "library": "var_list.r",
     "varRefreshCmd": "cat(var_dic_list()) "
    }
   },
   "types_to_exclude": [
    "module",
    "function",
    "builtin_function_or_method",
    "instance",
    "_Feature"
   ],
   "window_display": false
  }
 },
 "nbformat": 4,
 "nbformat_minor": 1
}
