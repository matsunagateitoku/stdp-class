{
 "cells": [
  {
   "cell_type": "markdown",
   "metadata": {},
   "source": [
    "# **Setup**\n",
    " \n",
    "Reset the Python environment to clear it of any previously loaded variables, functions, or libraries. Then, import the libraries needed to complete the code Professor Melnikov presented in the video."
   ]
  },
  {
   "cell_type": "code",
   "execution_count": null,
   "metadata": {},
   "outputs": [],
   "source": [
    "%reset -f\n",
    "from IPython.core.interactiveshell import InteractiveShell as IS\n",
    "IS.ast_node_interactivity = \"all\"    # allows multiple outputs from a cell\n",
    "import pandas as pd, numpy as np, seaborn as sns, matplotlib.pyplot as plt, nltk\n",
    "\n",
    "np.set_printoptions(linewidth=10000, precision=4, edgeitems=20, suppress=True)  # numpy print format\n",
    "pd.set_option('max_rows',100,'max_columns',100,'max_colwidth',100,'precision',2,'display.max_rows',8) # pandas print format"
   ]
  },
  {
   "cell_type": "markdown",
   "metadata": {},
   "source": [
    "<hr style=\"border-top: 2px solid #606366; background: transparent;\">\n",
    "\n",
    "# **Review**\n",
    "\n",
    "## Levenshtein or Edit Distance\n",
    "\n",
    "Levenshtein, or edit, distance counts the number of edits needed to convert one sequence to another (such as adding, deleting, or replacing). The can be done on a word, a sentence, binary code (sequence of zeros and ones), a DNA sequence of nucleotides A,C,G,T, etc.\n",
    "    \n",
    "\n",
    "## Dynamic Programing (DP)\n",
    "\n",
    "The dynamic programming (DP) algorithm builds a list of lists (or a matrix) with a number of columns and rows matching each element in two paired sequences. To start the comparison between the two sequenses, one column and one row are pre-pended to begin with a matching character (for example, \"\" or empty character). A typical DP algorithm will repeat the same operation on each subsequence, thereby recursively computing the desired result, which, in this case, is the count of edit operations. \n",
    " \n",
    "As iterations over elements of a column (row by row) are processed, the required edit operation is determined. The resulting matrix elements are counters of the operations needed thus far. If no new operations are needed for the current two characters (one from each sequence), the counter remains unchanged. If any operation is needed, the counter is incremented. \n",
    "\n",
    "While the algorithim can be hard to understand, it is a fairly simple algorithim in which all of the decisions are done inside conditional statements. The function `EditDist` applies the algorithm and returns the resulting matrix of edit counts."
   ]
  },
  {
   "cell_type": "code",
   "execution_count": null,
   "metadata": {},
   "outputs": [],
   "source": [
    "def EditDist(s1='', s2='', ShowMatrix=False):\n",
    "    '''Dynamic programming implementation builds a matrix M (or list of lists) \n",
    "    of best edits from sub-problems on substrings'''\n",
    "    if len(s1) > len(s2): s1, s2 = s2, s1  # keep the shortest word in s1 for matrix display convenience\n",
    "    n1, n2 = len(s1), len(s2)\n",
    "    M = [[0 for x in range(n2 + 1)] for x in range(n1 + 1)] # stores results of subproblems\n",
    "\n",
    "    for i in range(n1 + 1):    # row iterator for the shorter word\n",
    "        for j in range(n2 + 1):  # column iterator for the longer word\n",
    "            if   i == 0: M[i][j] = j  # s1 is empty => j ops to copy remaining s2 substring to s1\n",
    "            elif j == 0: M[i][j] = i  # s2 is empty => i ops to copy remaining s1 substring to s2\n",
    "            elif s1[i-1] == s2[j-1]: M[i][j] = M[i-1][j-1]  # If prev chars match, ignore these and proceed\n",
    "            else:  # If prev chars differ, consider all 3 ops on s1 and keep the best operation\n",
    "                nIns, nRem, nSub = M[i][j-1], M[i-1][j], M[i-1][j-1]  # insertion, removal, substitution\n",
    "                M[i][j] = 1 + min(nIns, nRem, nSub)\n",
    "    if ShowMatrix:\n",
    "        df = pd.DataFrame(M, index=['']+list(s1), columns=['']+list(s2))\n",
    "        ax = sns.heatmap(df, annot=True, cbar=False, cmap='coolwarm');\n",
    "        ax.set_title('Best edit distances on substrings')\n",
    "        ax.xaxis.tick_top()    # x axis on top\n",
    "        ax.xaxis.set_label_position('top')\n",
    "        plt.yticks(rotation=0)\n",
    "    return M[n1][n2]"
   ]
  },
  {
   "cell_type": "markdown",
   "metadata": {},
   "source": [
    "## Example Matrix\n",
    "\n",
    "Read the matrix below from left to right, top to bottom. \n",
    "\n",
    "1. Row 0:\n",
    "    1. Cell (0,0) has 0 edits since the corresponding row & column elements already match (both are `''`).\n",
    "    1. Cell (0,1) has 1 edit since it takes one operation to remove column index `'r'`. This updates cell (0,1) to `''`, which then matches cell (0,0).\n",
    "    1. For each remaining cell, DP confirms no match between characters and increases the counter.\n",
    "\n",
    "1. Row 1:\n",
    "    1. DP starts with a mismatch between `'c'` and `''` which restarts the counter at 1 edit operation.\n",
    "    1. DP continues, but increments only the smallest of the accessible previous edit counts, selected from the left of the current cell, above the current cell, or diagonally of the current cell.\n",
    "1. The bottom right corner will contain the final (smallest) count of the required edit operations needed to convert one string into another."
   ]
  },
  {
   "cell_type": "code",
   "execution_count": null,
   "metadata": {},
   "outputs": [],
   "source": [
    "EditDist('cat', 'rats', ShowMatrix=True)"
   ]
  },
  {
   "cell_type": "markdown",
   "metadata": {},
   "source": [
    "The example below computes the Edit distance between `'eCornell'` and a sentence starting with `'Cornell...'`. Since the first word of each string differs only by `'e'`, the leftmost submatrix has mostly low counts, with the lowest count of 1 staying approximately on the diagonal. \n",
    "\n",
    "After progressing past `'Cornell'`, the edit counts begin to grow since it takes an increasing number of deletions to transform the shorter string `'eCornell'` into a longer phrase."
   ]
  },
  {
   "cell_type": "code",
   "execution_count": null,
   "metadata": {},
   "outputs": [],
   "source": [
    "plt.figure(figsize=(20,3))\n",
    "EditDist('eCornell', 'Cornell University in Ithaca, New York', ShowMatrix=True);"
   ]
  },
  {
   "cell_type": "markdown",
   "metadata": {},
   "source": [
    "The following example compares two sequences using word elements instead of character elements. The bottom right corner of the DP matrix shows that only one edit is needed to make the sentences equal: adding or deleting `'University'`."
   ]
  },
  {
   "cell_type": "code",
   "execution_count": null,
   "metadata": {},
   "outputs": [],
   "source": [
    "EditDist('We study at Cornell'.split(), 'We study at Cornell University'.split(), ShowMatrix=True)"
   ]
  },
  {
   "cell_type": "markdown",
   "metadata": {},
   "source": [
    "The next example compares the distance between two strings of binary code. It may be less intuitive to compare these sequences manually, but the algorithm does the same amount of work regardless of the representation of the elements. The bottom right corner shows that one edit operation is needed. You can also see that it's required in the third position, since that's where the matrix's diagonal element switches from 0 to 1."
   ]
  },
  {
   "cell_type": "code",
   "execution_count": null,
   "metadata": {},
   "outputs": [],
   "source": [
    "EditDist('0101001010', '0111001010', ShowMatrix=True)"
   ]
  },
  {
   "cell_type": "markdown",
   "metadata": {},
   "source": [
    "This final example compares two DNA strings or sequences of nucleotides: A,C,G,T. This can be done to investigate the similarity between two DNA strings or to find the location of a mutation (which is an accidental change in nucleotides)."
   ]
  },
  {
   "cell_type": "code",
   "execution_count": null,
   "metadata": {},
   "outputs": [],
   "source": [
    "EditDist('ACGTACGT', 'ACGTTTTACGT', ShowMatrix=True)"
   ]
  },
  {
   "cell_type": "markdown",
   "metadata": {},
   "source": [
    "<hr style=\"border-top: 2px solid #606366; background: transparent;\">\n",
    "\n",
    "# **Optional Practice**\n",
    " \n",
    "Now, equipped with concepts and tools, let's try to tackle a few related tasks.\n",
    "\n",
    "\n",
    "As you work through these tasks, check your answers by running your code in the *#check solution here* cell, to see if you’ve gotten the correct result. If you get stuck on a task, click the See **solution** drop-down to view the answer."
   ]
  },
  {
   "cell_type": "markdown",
   "metadata": {},
   "source": [
    "## Task 1\n",
    "\n",
    "Consider directions North, South, East, and West corresponding to letters N,S,E,W, respectively. To get from point A to point B, one can either travel in a direction `'EEENNN'` or `'ENENEN'`. Where each letter indicates a passage of 1 mile distance. Compute the Edit distance between the two direction paths. \n",
    "\n",
    "<b>Hint:</b> Call <code>EditDist</code> with the strings corresponding to directions."
   ]
  },
  {
   "cell_type": "code",
   "execution_count": null,
   "metadata": {},
   "outputs": [],
   "source": [
    "# check solution here"
   ]
  },
  {
   "cell_type": "markdown",
   "metadata": {},
   "source": [
    "<hr>\n",
    "<font color=#606366>\n",
    "    <details><summary><font color=#B31B1B>▶ </font>See <b>solution</b>.</summary>\n",
    "<pre>\n",
    "EditDist('EEENNN', 'ENENEN', ShowMatrix=True)\n",
    "</pre>\n",
    "</details> \n",
    "</font>"
   ]
  },
  {
   "cell_type": "markdown",
   "metadata": {},
   "source": [
    "## Task 2\n",
    "\n",
    "The cell below already includes a line for downloading NLTK's `'names'` corpus. Use the file `female.txt` to identify all traditionally feminine names in this corpus. When lowercased, how many of these names are exactly two edits away from `'maria'`?\n",
    "\n",
    "<b>Hint:</b> You need to build a loop or list comprehension, where each lower cased name is compared to the query word 'maria'. Any names that are too long or too short can be dropped, so that the final list contains only names which are exactly two edit operations away from 'maria'."
   ]
  },
  {
   "cell_type": "code",
   "execution_count": null,
   "metadata": {},
   "outputs": [],
   "source": [
    "_ = nltk.download(['names'], quiet=True)   # download NLTK's name corpus\n",
    "\n",
    "# check solution here"
   ]
  },
  {
   "cell_type": "markdown",
   "metadata": {},
   "source": [
    "<hr>\n",
    "<font color=#606366>\n",
    "    <details><summary><font color=#B31B1B>▶ </font>See <b>solution</b>.</summary>\n",
    "<pre>\n",
    "AllComps = sorted([(EditDist(s.lower(), 'maria'),s) for s in nltk.corpus.names.words('female.txt')], reverse=False)\n",
    "CompsD2 = [s for d,s in AllComps if d==2]  # drop names that are too long or too short\n",
    "print(f'There are {len(CompsD2)} matches')\n",
    "'|'.join(s for d,s in AllComps if d==2)\n",
    "</pre>\n",
    "</details> \n",
    "</font>"
   ]
  }
 ],
 "metadata": {
  "anaconda-cloud": {},
  "kernelspec": {
   "display_name": "Python 3",
   "language": "python",
   "name": "python3"
  },
  "language_info": {
   "codemirror_mode": {
    "name": "ipython",
    "version": 3
   },
   "file_extension": ".py",
   "mimetype": "text/x-python",
   "name": "python",
   "nbconvert_exporter": "python",
   "pygments_lexer": "ipython3",
   "version": "3.6.9"
  },
  "toc": {
   "base_numbering": 1,
   "nav_menu": {},
   "number_sections": false,
   "sideBar": true,
   "skip_h1_title": false,
   "title_cell": "Table of Contents",
   "title_sidebar": "Contents",
   "toc_cell": false,
   "toc_position": {},
   "toc_section_display": true,
   "toc_window_display": false
  },
  "varInspector": {
   "cols": {
    "lenName": 16,
    "lenType": 16,
    "lenVar": 40
   },
   "kernels_config": {
    "python": {
     "delete_cmd_postfix": "",
     "delete_cmd_prefix": "del ",
     "library": "var_list.py",
     "varRefreshCmd": "print(var_dic_list())"
    },
    "r": {
     "delete_cmd_postfix": ") ",
     "delete_cmd_prefix": "rm(",
     "library": "var_list.r",
     "varRefreshCmd": "cat(var_dic_list()) "
    }
   },
   "types_to_exclude": [
    "module",
    "function",
    "builtin_function_or_method",
    "instance",
    "_Feature"
   ],
   "window_display": false
  }
 },
 "nbformat": 4,
 "nbformat_minor": 1
}
