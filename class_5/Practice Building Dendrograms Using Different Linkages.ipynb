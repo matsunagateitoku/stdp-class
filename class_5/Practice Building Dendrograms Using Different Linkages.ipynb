{
 "cells": [
  {
   "cell_type": "markdown",
   "metadata": {},
   "source": [
    "# **Setup**\n",
    " \n",
    "Reset the Python environment to clear it of any previously loaded variables, functions, or libraries. Then, import the libraries needed to complete the code Professor Melnikov presented in the video.\n",
    "\n",
    "For brevity shorter alias names are used for the two metrics: `HC` for [`AgglomerativeClustering`](https://scikit-learn.org/stable/modules/generated/sklearn.cluster.AgglomerativeClustering.html)."
   ]
  },
  {
   "cell_type": "code",
   "execution_count": null,
   "metadata": {},
   "outputs": [],
   "source": [
    "%reset -f\n",
    "from IPython.core.interactiveshell import InteractiveShell as IS\n",
    "IS.ast_node_interactivity = \"all\"                          # allows multiple outputs from a cell\n",
    "import pandas as pd, numpy as np, matplotlib.pyplot as plt \n",
    "from sklearn.cluster import AgglomerativeClustering as HC  # hierarchical clustering\n",
    "from sentence_transformers import SentenceTransformer      # encodes text documents to 768D vectors\n",
    "from scipy.cluster.hierarchy import dendrogram\n",
    "pd.set_option('max_rows', 5, 'max_columns', 20, 'max_colwidth', 100, 'precision', 2) # dataframe format for printing"
   ]
  },
  {
   "cell_type": "markdown",
   "metadata": {},
   "source": [
    "<hr style=\"border-top: 2px solid #606366; background: transparent;\">\n",
    "\n",
    "# **Review**\n",
    "\n",
    "Review the code Professor Melnikov used to demonstrate differences in hierarchical clustering ([HC](https://scikit-learn.org/stable/modules/clustering.html#hierarchical-clustering)) [dendrograms](https://scikit-learn.org/stable/auto_examples/cluster/plot_agglomerative_dendrogram.html) due to a choice of a [*linkage*](https://scikit-learn.org/stable/modules/clustering.html#hierarchical-clustering), which defines the distance between clusters of observations.\n",
    "\n",
    "Changes from the video:\n",
    "\n",
    "1. As in the previous Jupyter Notebook (JN), the movies are filtered before they are encoded to avoid unnecessary encoding of unused movie descriptions  \n",
    "1. A smaller (in file size) pre-trained [SBERT](https://www.sbert.net/) model is used\n",
    "1. Movie filtering is done simpler - based on the first letter of the movie title instead of disjoint genres\n",
    "1. For simplicity, textual attributes are concatenated without splitting them with JSON parser UDF.\n",
    "1. Other minor code improvements are introduced. \n",
    "\n",
    "\n",
    "## **Read Movie Attributes**\n",
    "\n",
    "The Movie Database ([TMDB](https://www.themoviedb.org/)) file (`movies.zip`) contains 4803 movies (rows) and 19 features (columns), which can be textual and numeric. You will build different types of dendrograms with a small sample of these movies.\n",
    "\n",
    "The next code cell loads the file, replaces missing values (i.e., [NA](https://pandas.pydata.org/docs/user_guide/missing_data.html#missing-data-na)) value with an empty string (to avoid NA after concatenation), and sets row indices of the dataframe. Then rows with movie titles starting with a letter `'Y'` are retrieved. This returns about 27 movies - sufficient for demonstration of different types of dendrograms. More observations will overplot the plots making them unusable for discussion or analysis. Naturally, in a production setting, you will need to similarly subsample your observations so that visualizations are not overplotted and can be meaningfully analyzed."
   ]
  },
  {
   "cell_type": "code",
   "execution_count": null,
   "metadata": {},
   "outputs": [],
   "source": [
    "df = pd.read_csv('movies.zip').fillna('').set_index('original_title')\n",
    "df = df[df.title.str.startswith('Y')]   # draw all titles starting with a capital letter 'Y'\n",
    "print('df.shape = ', df.shape)\n",
    "df[:1]"
   ]
  },
  {
   "cell_type": "markdown",
   "metadata": {},
   "source": [
    "## **Encode Movie Descriptions**\n",
    "\n",
    "The next cell creates a more comprehensive movie description consisting of the title, tagline, and other fields. Notice that you do not do any preprocessing except for adding `'. '` between each textual attribute. This separator symbolizes the end of a sentence. This may (but is not guaranteed) improve encoding of a description by a model that was likely trained on period-separated sentences. "
   ]
  },
  {
   "cell_type": "code",
   "execution_count": null,
   "metadata": {},
   "outputs": [],
   "source": [
    "dfMov = (df.title  + '. ' + df.tagline + '. ' + df.overview  + '. ' + \\\n",
    "         df.keywords + '. ' + df.production_countries).to_frame().rename(columns={0:'Desc'})\n",
    "dfMov"
   ]
  },
  {
   "cell_type": "markdown",
   "metadata": {},
   "source": [
    "The movie descriptions are encoded into a 768-dimensional space, where each movie is represented by a 768D numeric vector. Now mathematical calculations of distances can be applied to any pair of vectors. You will also see how distances can be calculated for sets of vectors using different *linkages*."
   ]
  },
  {
   "cell_type": "code",
   "execution_count": null,
   "metadata": {},
   "outputs": [],
   "source": [
    "SBERT = SentenceTransformer('paraphrase-albert-small-v2')  # load a pre-trained language model\n",
    "%time mEmb  = SBERT.encode(dfMov.Desc.tolist())  # embedding ~5K descriptions may take 10+ minutes\n",
    "dfEmb = pd.DataFrame(mEmb, index=df.title) # wrap matrix as dataframe with movie titles as indices\n",
    "dfEmb"
   ]
  },
  {
   "cell_type": "markdown",
   "metadata": {},
   "source": [
    "## **Plot Dendrogram Function**\n",
    "\n",
    "[`PlotDendrogram()` function](https://scikit-learn.org/stable/auto_examples/cluster/plot_agglomerative_dendrogram.html) plots an HC `hcModel` with relevant labels and other diagram characteristics. The linkage is specified when the HC object is initialized. It is then fitted and passed to `PlotDendrogram()` as a `hcModel` argument."
   ]
  },
  {
   "cell_type": "code",
   "execution_count": null,
   "metadata": {},
   "outputs": [],
   "source": [
    "def PlotDendrogram(hcModel, PlotTitle='', LeafTitles=[], th=0, **kwargs) -> None:\n",
    "    ''' Plots a dendrogram tree diagram, labels plot and leave nodes.\n",
    "    Create linkage matrix and counts of samples under each node of a dendrogram.\n",
    "    Source: Scikit-learn documentation\n",
    "    Inputs:\n",
    "        hcModel: trained AgglomerativeClustering() object\n",
    "        PlotTitle: title of the plot\n",
    "        LeafTitles: titles of the leaf nodes\n",
    "        kwargs: other parameters passed to scipy's dendrogram() function'''\n",
    "    vCounts, nSamples = np.zeros(len(hcModel.children_)), len(hcModel.labels_)\n",
    "    plt.title(PlotTitle);  # plot title\n",
    "    plt.axhline(y=th, color='r', linestyle='solid')\n",
    "    for i, merge in enumerate(hcModel.children_):\n",
    "        current_count = 0\n",
    "        for child_idx in merge:\n",
    "            if child_idx < nSamples: current_count += 1  # leaf node\n",
    "            else: current_count += vCounts[child_idx - nSamples]\n",
    "        vCounts[i] = current_count\n",
    "    mLinkage = np.column_stack([hcModel.children_, hcModel.distances_, vCounts]).astype(float)   # linkage matrix\n",
    "    dendrogram(mLinkage, labels=LeafTitles, leaf_font_size=15, orientation='top', **kwargs)      # Plot the corresponding dendrogram"
   ]
  },
  {
   "cell_type": "markdown",
   "metadata": {},
   "source": [
    "## **Single Linkage**\n",
    "\n",
    "You will begin by specifying a **single** (or **minimum**) linkage and plotting the corresponding dendrogram tree. A single linkage finds representative observations from each pair of clusters that are closest to each other."
   ]
  },
  {
   "cell_type": "code",
   "execution_count": null,
   "metadata": {},
   "outputs": [],
   "source": [
    "plt.rcParams['figure.figsize'] = [20, 3]\n",
    "hacSingle = HC(n_clusters=None, distance_threshold=0, linkage='single').fit(dfEmb)\n",
    "PlotDendrogram(hacSingle, PlotTitle='Single Linkage Dendrogram', LeafTitles=dfEmb.index, th=12);"
   ]
  },
  {
   "cell_type": "markdown",
   "metadata": {},
   "source": [
    "As a side effect, this linkage tends to combine or chain a series of close intermediate points, which makes cluster thresholding difficult. For example, the red horizontal threshold (at value 12) creates two clusters, one with a movie \"*Y Tu Mama Tambien*\" and another containing the rest of the movies. The next lower threshold has a similar problem. Identifying a \"good\" threshold is difficult because the nodes of the tree are located in a narrow horizontal band and are difficult to split consistently and unambiguously with a threshold. Of course, it could be that the existing set of movies doesn't cluster well, but we are still in hopes of finding clusters that have reasonably (and subjectively) \"equal\" number of movies."
   ]
  },
  {
   "cell_type": "markdown",
   "metadata": {},
   "source": [
    "## **Complete Linkage**\n",
    "\n",
    "You will now specify the **complete** (or **maximum**) linkage in the HC model. For each pair of clusters, it finds the maximally distant representative points (one from each cluster). This linkage tends to produce many small clusters with observations that are more similar to observations in other clusters."
   ]
  },
  {
   "cell_type": "code",
   "execution_count": null,
   "metadata": {},
   "outputs": [],
   "source": [
    "hacComplete = HC(n_clusters=None, distance_threshold=0, linkage='complete').fit(dfEmb)\n",
    "PlotDendrogram(hacComplete, PlotTitle='Complete Linkage Dendrogram', LeafTitles=dfEmb.index, th=15);"
   ]
  },
  {
   "cell_type": "markdown",
   "metadata": {},
   "source": [
    "## **Average Linkage**\n",
    "\n",
    "The **centroid** (or **average**) linkage finds cluster-representative points as cluster \"centers.\" Recall that a centroid of a set of vectors is just their mean or average vector. \n",
    "\n",
    "This linkage can result in dendrogram inversions, where edges cross each other. These inversions complicate interpretation and thresholding. The image below doesn't show an inversion, but does indicate a narrow horizontal band where most nodes are concentrated. This makes thresholding difficult as well. "
   ]
  },
  {
   "cell_type": "code",
   "execution_count": null,
   "metadata": {},
   "outputs": [],
   "source": [
    "hacAverage = HC(n_clusters=None, distance_threshold=0, linkage='average').fit(dfEmb)\n",
    "PlotDendrogram(hacAverage, PlotTitle='Average Linkage Dendrogram', LeafTitles=dfEmb.index, th=12);"
   ]
  },
  {
   "cell_type": "markdown",
   "metadata": {},
   "source": [
    "## **Ward Linkage**\n",
    "\n",
    "The Ward linkage (SKL's default) works well in general. To merge clusters, the Ward linkage tries to minimize intra-cluster sum of squared distances of points to their centroids."
   ]
  },
  {
   "cell_type": "code",
   "execution_count": null,
   "metadata": {},
   "outputs": [],
   "source": [
    "hacWard = HC(n_clusters=None, distance_threshold=0, linkage='ward').fit(dfEmb)\n",
    "PlotDendrogram(hacWard, PlotTitle='Ward Linkage Dendrogram', LeafTitles=dfEmb.index, th=16);"
   ]
  },
  {
   "cell_type": "markdown",
   "metadata": {
    "deletable": false,
    "editable": false,
    "nbgrader": {
     "cell_type": "markdown",
     "checksum": "4e967bbe29e32b5f5dd5b9ee73d173f5",
     "grade": false,
     "grade_id": "cell-defc94112170e7dc",
     "locked": true,
     "schema_version": 3,
     "solution": false
    }
   },
   "source": [
    "<hr style=\"border-top: 2px solid #606366; background: transparent;\">\n",
    "\n",
    "# **Optional Practice**\n",
    "\n",
    "Now you will practice cluster distances.\n",
    "\n",
    "As you work through these tasks, check your answers by running your code in the *#check solution here* cell, to see if you’ve gotten the correct result. If you get stuck on a task, click the **See solution** drop-down to view the answer."
   ]
  },
  {
   "cell_type": "markdown",
   "metadata": {},
   "source": [
    "## **Task 1**\n",
    "\n",
    "Cluster movies using their *overview vectors* (i.e. encoded `overview` text only without any preprocessing) and an appropriate linkage (that gives you the \"best\" possible top two clusters). Then build a dendrogram with a threshold that cuts these top two clusters. Would you consider these to be good clusters? Why or why not?\n",
    "\n",
    "<b>Hint:</b> You can pass just the <code>'overview'</code> column through the pre-loaded <code>SBERT</code> model. Then plot a dendrogram with each of the four linkages. Choose the one where the topmost split creates reasonably balanced (in number of leaves) subtrees. Finally, try different <code>th</code> argument values for <code>PlotDendrogram</code> UDF to pick an appropriate threshold level."
   ]
  },
  {
   "cell_type": "code",
   "execution_count": null,
   "metadata": {},
   "outputs": [],
   "source": [
    "# check solution here"
   ]
  },
  {
   "cell_type": "markdown",
   "metadata": {},
   "source": [
    "<font color=#606366>\n",
    "    <details><summary><font color=#B31B1B>▶ </font>See <b>solution</b>.</summary>\n",
    "<pre class=\"ec\">\n",
    "mEmb = SBERT.encode(df.overview)\n",
    "hacWard1 = HC(n_clusters=None, distance_threshold=0, linkage='ward').fit(mEmb)\n",
    "PlotDendrogram(hacWard1, PlotTitle='Ward Linkage Dendrogram', LeafTitles=df.title, th=21);\n",
    "            </pre>Even though this is the better linkage, the resulting dendrogram still has too many nodes in a relatively narrow horizontal band. Hence, thresholding seems unstable (i.e. may cut too many or too few clusters with a different subsample of movies). In general, we can't state whether the clustering is good or bad, but we can claim whether it's better than some other cluster (by some metric). In this case, it seems the clusters are poor regardless of the tried linkage. It may be worthwhile to investigate how the movies in any given subcluster relate to each other.\n",
    "</details>\n",
    "</font>\n",
    "\n",
    "<hr>"
   ]
  },
  {
   "cell_type": "markdown",
   "metadata": {},
   "source": [
    "## **Task 2**\n",
    "\n",
    "Cluster movies using their *genres vectors* (i.e., encoded `genres` text only without any preprocessing) and an appropriate linkage (that gives you the \"best\" possible top two clusters). Then build a dendrogram with a threshold that cuts these top two clusters. Would you consider these to be good clusters? Why or why not?\n",
    "\n",
    "<b>Hint:</b> You can pass just the <code>'overview'</code> column through the pre-loaded <code>SBERT</code> model. Then plot a dendrogram with each of the four linkages. Choose the one where the topmost split creates reasonably balanced (in number of leaves) subtrees. Finally, try different <code>th</code> argument values for <code>PlotDendrogram</code> UDF to pick an appropriate threshold level."
   ]
  },
  {
   "cell_type": "code",
   "execution_count": null,
   "metadata": {},
   "outputs": [],
   "source": [
    "# check solution here"
   ]
  },
  {
   "cell_type": "markdown",
   "metadata": {},
   "source": [
    "<font color=#606366>\n",
    "    <details><summary><font color=#B31B1B>▶ </font>See <b>solution</b>.</summary>\n",
    "<pre class=\"ec\">\n",
    "mEmb = SBERT.encode(df.genres)\n",
    "hacWard1 = HC(n_clusters=None, distance_threshold=0, linkage='ward').fit(mEmb)\n",
    "PlotDendrogram(hacWard1, PlotTitle='Ward Linkage Dendrogram', LeafTitles=df.title, th=19);\n",
    "            </pre>Arguably Ward linkage gives slightly more meaningful dendrogram than a complete linkage, but clustering movies by genre seems to produce more balanced size clusters, which are easier to threshold.\n",
    "</details> \n",
    "</font>\n",
    "\n",
    "<hr>"
   ]
  }
 ],
 "metadata": {
  "anaconda-cloud": {},
  "kernelspec": {
   "display_name": "Python 3",
   "language": "python",
   "name": "python3"
  },
  "language_info": {
   "codemirror_mode": {
    "name": "ipython",
    "version": 3
   },
   "file_extension": ".py",
   "mimetype": "text/x-python",
   "name": "python",
   "nbconvert_exporter": "python",
   "pygments_lexer": "ipython3",
   "version": "3.6.9"
  }
 },
 "nbformat": 4,
 "nbformat_minor": 1
}
