{
 "cells": [
  {
   "cell_type": "markdown",
   "metadata": {},
   "source": [
    "# **Setup**\n",
    " \n",
    "Reset the Python environment to clear it of any previously loaded variables, functions, or libraries. Then, import the libraries needed to complete the code Professor Melnikov presented in the video.\n",
    "\n",
    "In this Jupyter notebook (JN) you will investigate **centroids** and **medoids**, which are representative points for the groups of observations (i.e., points or vectors). The code below defines these two terms and then computes them for each simulated cluster and for all clusters at once.\n",
    "\n",
    "Centroids and medoids will later be used to define [KMeans](https://scikit-learn.org/stable/modules/generated/sklearn.cluster.KMeans.html) and [KMedoids](https://scikit-learn-extra.readthedocs.io/en/stable/generated/sklearn_extra.cluster.KMedoids.html) algorithms, which automatically identify clusters of similar observations."
   ]
  },
  {
   "cell_type": "code",
   "execution_count": null,
   "metadata": {},
   "outputs": [],
   "source": [
    "%reset -f\n",
    "from IPython.core.interactiveshell import InteractiveShell as IS\n",
    "IS.ast_node_interactivity = \"all\"    # allows multiple outputs from a cell\n",
    "import numpy as np, pandas as pd, matplotlib.pyplot as plt\n",
    "from mpl_toolkits.mplot3d import Axes3D"
   ]
  },
  {
   "cell_type": "markdown",
   "metadata": {},
   "source": [
    "<hr style=\"border-top: 2px solid #606366; background: transparent;\">\n",
    "\n",
    "# **Review**\n",
    "\n",
    "Review the code Professor Melnikov used to define centroid and medoid.\n",
    "\n",
    "## **Centroid and Medoid**\n",
    "\n",
    "Consider a set of observations $\\mathcal X:=\\{x_1,...,x_n\\}\\in\\mathbb R^d,d\\in\\mathbb N$\n",
    "\n",
    "**Centroid** of a $\\mathcal X$ is the arithmetic mean of points in $\\mathcal X$:\n",
    "\n",
    "$$x_{\\text{centroid}}:=\\frac{1}{n}\\sum_{i=1}^n x_i$$\n",
    "\n",
    "<span style=\"color:black\">**Medoid** of a set is a representative point in $\\mathcal X$. Often, a medoid is defined with the smallest sum of Euclidean distances to all other points in $\\mathcal X$, but here we define it as the closest point to the centroid $\\bar x$. In general, a medoid can be described as:\n",
    "\n",
    "$$x_{\\text{medoid}}:=\\underset{x\\in \\mathcal X}{\\text{argmin}}\\sum_{i=1}^n D(x,x_i)$$\n",
    "    \n",
    "<span style=\"color:black\">Where $D$ is the desired distance function (for example, a typical Euclidean distance). In this formula you are looking for any element $x$ in the original set of points, $\\mathcal X$, which minimizes the sum of all distances between $x$ and each other element $x_i$. Note that unlike $\\text{min}$, $\\text{argmin}$ returns the element that minimizes its argument, not the minimum value itself. Thus, $x_{\\text{medoid}}$ is one of the elements in $\\mathcal X$.\n",
    "\n",
    "<span style=\"color:black\">By definition, a medoid is guaranteed to be one of $x_1,...,x_n$, but a centroid typically is not. While a medoid is costlier to compute, it is often preferable when you want a representative point to be a point in the set. For example, you would compute a medoid if you would like to find the most representative book, phrase, film, person, etc. in a set. However, both the centroid and medoid are contained \"inside\" the sets they represent.\n",
    "    \n",
    "<span style=\"color:black\">Note that there can be multiple centroids and multiple medoids. For example, in the set $\\{1,1,1\\}$, each value is a medoid and a centroid. Other examples are \n",
    "    \n",
    "1. <span style=\"color:black\">$\\{-1,0,0,1\\}$ contains two centroids: $0,0$\n",
    "1. <span style=\"color:black\">$\\{-2,-1,1,2\\}$ contains two medoids: $-1,1$, which is closest to the centroid, $0$, which is not in the set\n",
    "\n",
    "These examples can be trivially extended to 2D (or $\\mathbb R^d$) space by adding a zero (or any number $a$) as a second coordinate of each value, i.e. $\\{[-1,0],[0,0],[0,0],[1,0]\\}$, as you can (should) verify.\n",
    "    \n",
    "<span style=\"color:black\">The next cell defines four points/vectors in 2D, `a`, `b`, `c`, and `d`. A centroid `vCentroid` is computed using the formula above. The function `GetMedoid()` takes a list of points, `vX`, and computes a centroid, `vMean`, which is then used to compute a medoid as the point in `vX` closest to `vMean`."
   ]
  },
  {
   "cell_type": "code",
   "execution_count": null,
   "metadata": {},
   "outputs": [],
   "source": [
    "ar = np.array # a shortcut \n",
    "a, b, c, d = ar([0,1]), ar([1, 3]), ar([4,2]), ar([3, 1.5])\n",
    "vCentroid = np.mean([a, b, c, d], axis=0)    # Equivalently: (a + b + c + d) / 4}\n",
    "\n",
    "def GetMedoid(vX:'list of vectors'):\n",
    "    vMean = np.mean(vX, axis=0)                               # compute centroid\n",
    "    return vX[np.argmin([sum((x - vMean)**2) for x in vX])]   # pick a point closest to centroid\n",
    "\n",
    "vMedoid = GetMedoid([a, b, c, d])\n",
    "\n",
    "print(f'centroid = {vCentroid}')   # not among the points a,b,c,d\n",
    "print(f'medoid   = {vMedoid}')     # precisely the point d"
   ]
  },
  {
   "cell_type": "markdown",
   "metadata": {},
   "source": [
    "## **Cluster Center in 2D**\n",
    "\n",
    "<span style=\"color:black\">The next cell plots all four points in blue. The centroid is marked as a red circle (and is not any of the original points), while the medoid, i.e., \"innermost\" blue point, is marked with a red X."
   ]
  },
  {
   "cell_type": "code",
   "execution_count": null,
   "metadata": {},
   "outputs": [],
   "source": [
    "df = pd.DataFrame([a, b, c, d], columns=['x', 'y'])\n",
    "ax = df.plot.scatter('x', 'y', grid=True, title='Centroid in 2D plane', s=100);\n",
    "fmt = dict(markerfacecolor='none', ms=10) # other plot formatting parameters\n",
    "plt.plot(vCentroid[0], vCentroid[1], 'ro', **fmt); # plot centroid as red circle\n",
    "plt.plot(vMedoid[0], vMedoid[1], 'rx', ms=20);    # plot medoid as red star"
   ]
  },
  {
   "cell_type": "markdown",
   "metadata": {},
   "source": [
    "## **Cluster Center in 3D**\n",
    "\n",
    "<span style=\"color:black\">A 3D visualization is also possible with [`scatter3D`](https://matplotlib.org/stable/api/_as_gen/mpl_toolkits.mplot3d.axes3d.Axes3D.html?highlight=scatter3d#mpl_toolkits.mplot3d.axes3d.Axes3D.scatter3D) method of matplotlib's `axes3d` object (which are beyond the scope of this course). In general, 3D plots are harder to visualize due to lost depth in 2D images, although they might look fancy.\n",
    "    \n",
    "<span style=\"color:black\">The next cell demonstrates a more complex example in 3D plot. Here each point has three coordinates (x,y,z), and the depth is a bit difficult to judge (unless color shades are used). Note that 3D plots such as this are notoriously harder to evaluate.\n",
    "    \n",
    "<span style=\"color:black\">All points are drawn from a [Gaussian](https://www.britannica.com/topic/normal-distribution) or normal distribution. The red point is the centroid and appears to be \"inside\" and \"most\" representative of the points."
   ]
  },
  {
   "cell_type": "code",
   "execution_count": null,
   "metadata": {},
   "outputs": [],
   "source": [
    "np.random.seed(0)\n",
    "n = 100\n",
    "vXYZ = np.random.normal(size=n*3).reshape((n, 3))  # sample values from univariate Gaussian(0,1) distribution\n",
    "mu = np.mean(vXYZ, axis=0)\n",
    "\n",
    "ax = plt.axes(projection='3d')\n",
    "ax.scatter3D(vXYZ[:,0], vXYZ[:,1], vXYZ[:,2]);\n",
    "ax.scatter3D(mu[0], mu[1], mu[2], cmap='red');\n",
    "plt.title('Centroid in 3D');"
   ]
  },
  {
   "cell_type": "markdown",
   "metadata": {},
   "source": [
    "## **Centers of Multiple Clusters**\n",
    "\n",
    "The next few cells will simulate multiple clusters, labeled as 0, 1, 2, and compute a centroid and medoid for each cluster, including for the overall set of points.\n",
    "\n",
    "The SKL function [`make_blobs()`](https://scikit-learn.org/stable/modules/generated/sklearn.datasets.make_blobs.html) takes the desired number of points, number of centers, number of features (i.e., point dimensions), random number generator seed, and dispersion (or standard deviation for each cluster).\n",
    "\n",
    "<span style=\"color:black\">The resulting set of 150 points have two coordinates, $x_1, x_2$, and a label $y$ identifying the point's cluster."
   ]
  },
  {
   "cell_type": "code",
   "execution_count": null,
   "metadata": {},
   "outputs": [],
   "source": [
    "from sklearn.datasets import make_blobs   # simulates points from multivariate Gaussian distributions\n",
    "# ?make_blobs\n",
    "X, y = make_blobs(n_samples=150, centers=3, n_features=2, random_state=0, cluster_std=0.6)\n",
    "df = pd.DataFrame(X, columns=['x1', 'x2'])\n",
    "df['y'] = y\n",
    "df"
   ]
  },
  {
   "cell_type": "markdown",
   "metadata": {},
   "source": [
    "To compute cluster centroids, simply group by the (known) cluster label and compute the arithmetic mean of each group."
   ]
  },
  {
   "cell_type": "code",
   "execution_count": null,
   "metadata": {},
   "outputs": [],
   "source": [
    "dfMeans = df.groupby('y').mean()  # centroids for each cluster\n",
    "dfMeans"
   ]
  },
  {
   "cell_type": "markdown",
   "metadata": {},
   "source": [
    "<span style=\"color:black\">To compute cluster medoids we again group by cluster label and apply the `GetMedoid()` UDF to each group of points, where `dfX.values` is a matrix with points placed as rows. Note that each of the medoids is one of the original points."
   ]
  },
  {
   "cell_type": "code",
   "execution_count": null,
   "metadata": {},
   "outputs": [],
   "source": [
    "dfMedoids = df.groupby('y')[['x1','x2']].apply(lambda dfX: pd.Series(GetMedoid(dfX.values)))   # medoids for each cluster\n",
    "dfMedoids.columns = ['x1', 'x2']\n",
    "dfMedoids"
   ]
  },
  {
   "cell_type": "markdown",
   "metadata": {},
   "source": [
    "<span style=\"color:black\">The global centroid is computed similarly, but without using the label $y$ for the grouping. Here, all available points contribute to the calculation of the most representative point."
   ]
  },
  {
   "cell_type": "code",
   "execution_count": null,
   "metadata": {},
   "outputs": [],
   "source": [
    "dfGlobalMean = df[['x1','x2']].mean().to_frame().T  # global centroid\n",
    "dfGlobalMean"
   ]
  },
  {
   "cell_type": "markdown",
   "metadata": {},
   "source": [
    "<span style=\"color:black\"> Similarly, the global medoid is also computed without aggregation over the labels, and again, the resulting point is one of the original points."
   ]
  },
  {
   "cell_type": "code",
   "execution_count": null,
   "metadata": {},
   "outputs": [],
   "source": [
    "dfGlobalMedoid = pd.DataFrame(GetMedoid(df[['x1','x2']].values)).T\n",
    "dfGlobalMedoid.columns = ['x1', 'x2']\n",
    "dfGlobalMedoid"
   ]
  },
  {
   "cell_type": "markdown",
   "metadata": {},
   "source": [
    "<span style=\"color:black\"> The next cell defines an aesthetical UDF used to alter the color of all of the points in a cluster by some amount."
   ]
  },
  {
   "cell_type": "code",
   "execution_count": null,
   "metadata": {},
   "outputs": [],
   "source": [
    "def Adjust_Lightness(color:'color name'='tan', amount=0.5) -> (float, float,float):\n",
    "    '''Adjusts the color's brightness and returns a new color in RGB format\n",
    "    color can be in a matplotlib-rcognizable format (string color name, RGB, HLS, ...) '''\n",
    "    import matplotlib.colors as mc, colorsys as cs\n",
    "    try: col = mc.cnames[color]\n",
    "    except: col = color\n",
    "    col = cs.rgb_to_hls(*mc.to_rgb(col))\n",
    "    return cs.hls_to_rgb(col[0], max(0, min(1, amount * col[1])), col[2])\n",
    "\n",
    "Adjust_Lightness('tan')"
   ]
  },
  {
   "cell_type": "markdown",
   "metadata": {},
   "source": [
    "<span style=\"color:black\"> Finally, all three clusters are plotted in distinguishing colors with the centroids and medoids plotted as well. Note that medoids are those that coincide with the original points, while centroids are those that do not. The cluster representations are \"inside\" their corresponding groups, while the global representations are inside the global set, although outside the individual clusters."
   ]
  },
  {
   "cell_type": "code",
   "execution_count": null,
   "metadata": {},
   "outputs": [],
   "source": [
    "vPalette = np.array(['gray', 'plum', 'tan'])\n",
    "vColors = vPalette[y]\n",
    "vMedoidColors = [Adjust_Lightness(c) for c in vPalette]\n",
    "vCentroidColors = [Adjust_Lightness(c) for c in vPalette]\n",
    "\n",
    "ax = dfMedoids.plot.scatter('x1', 'x2', color=vMedoidColors, grid=True, s=100);\n",
    "dfMeans.plot.scatter('x1', 'x2', color=vCentroidColors, grid=True, ax=ax, style='o', s=100);\n",
    "dfGlobalMean.plot.scatter('x1', 'x2', color='red', grid=True, ax=ax, style='x', s=100);\n",
    "dfGlobalMedoid.plot.scatter('x1', 'x2', color='red', grid=True, ax=ax, style='x', s=100);\n",
    "df.plot.scatter('x1', 'x2', color=vColors, grid=True, figsize=[8, 8], title='Simulated cluster blobs', ax=ax,);"
   ]
  },
  {
   "cell_type": "markdown",
   "metadata": {},
   "source": [
    "<hr style=\"border-top: 2px solid #606366; background: transparent;\">\n",
    "\n",
    "# **Optional Practice**\n",
    "\n",
    "Now you will practice building centroids and medoids for different groups of points.\n",
    "\n",
    "As you work through these tasks, check your answers by running your code in the *#check solution here* cell, to see if you’ve gotten the correct result. If you get stuck on a task, click the **See solution** drop-down to view the answer."
   ]
  },
  {
   "cell_type": "markdown",
   "metadata": {},
   "source": [
    "## **Task 1**\n",
    "\n",
    "In addition to points $a,b,c,d$ add a point $e$, which is the **centroid** of $a,b,c,d$ computed above. Then recompute the new centroid and new medoid. Do centroid and medoid differ from those above? Why or why not? (Plotting all points is not necessary, but may be helpful).\n",
    "\n",
    "<b>Hint:</b> Use <code>np.mean()</code> and <code>GetMedoid()</code> to compute a centroid and medoid, respectively."
   ]
  },
  {
   "cell_type": "code",
   "execution_count": null,
   "metadata": {},
   "outputs": [],
   "source": [
    "# check solution here"
   ]
  },
  {
   "cell_type": "markdown",
   "metadata": {},
   "source": [
    "<font color=#606366>\n",
    "    <details><summary><font color=#B31B1B>▶ </font>See <b>solution</b>.</summary>\n",
    "<pre class=\"ec\">\n",
    "a, b, c, d, e = ar([0,1]), ar([1, 3]), ar([4,2]), ar([3, 1.5]), ar([2,1.875])\n",
    "vCentroid, vMedoid = np.mean([a, b, c, d], axis=0), GetMedoid([a, b, c, d])\n",
    "vCentroid1, vMedoid1 = np.mean([a, b, c, d, e], axis=0), GetMedoid([a, b, c, d, e])\n",
    "\n",
    "print(f'centroid  = {vCentroid},  medoid   = {vMedoid}')\n",
    "print(f'centroid1 = {vCentroid1}, medoid1   = {vMedoid1}')\n",
    "\n",
    "df = pd.DataFrame([a, b, c, d, e], columns=['x', 'y'])\n",
    "ax = df.plot.scatter('x', 'y', grid=True, title='Centroid in 2D', s=100);\n",
    "fmt = dict(markerfacecolor='none', ms=10) # other plot formatting parameters\n",
    "plt.plot(vCentroid1[0], vCentroid1[1], 'ro', **fmt); # plot red centroid\n",
    "plt.plot(vMedoid1[0], vMedoid1[1], 'rx', ms=20); # plot medoid (red star)\n",
    "            </pre>When the average point is added to the list of points, the computed centroid doesn't change, but it now becomes one of the points.  Since this average point is the closest to the centroid (itself), it is now by definition the new medoid. You can check the first claim mathematically as the following. Say you have points $a,b$ with an average $(a+b)/2$, and now add this average as an additional point, i.e. $a,b,(a+b)/2$. Then the new average is unchanged, i.e. $\\frac{1}{3}(a+b+(a+b)/2)=(3a+3b)/6=(a+b)/2$. Now you can extend this to the points $x_1,x_2,...,x_n$\n",
    "</details> \n",
    "</font>\n",
    "\n",
    "<hr>"
   ]
  },
  {
   "cell_type": "markdown",
   "metadata": {},
   "source": [
    "## **Task 2**\n",
    "\n",
    "In addition to points $a,b,c,d$ add a point $e$, which is the **medoid** of $a,b,c,d$ computed above. Then recompute the new centroid and new medoid. Do centroid and medoid differ from those above? Why or why not? (Plotting all points is not necessary, but may be helpful).\n",
    "\n",
    "<b>Hint:</b> Use <code>np.mean()</code> and <code>GetMedoid()</code> to compute a centroid and medoid, respectively."
   ]
  },
  {
   "cell_type": "code",
   "execution_count": null,
   "metadata": {},
   "outputs": [],
   "source": [
    "# check solution here"
   ]
  },
  {
   "cell_type": "markdown",
   "metadata": {},
   "source": [
    "<font color=#606366>\n",
    "    <details><summary><font color=#B31B1B>▶ </font>See <b>solution</b>.</summary>\n",
    "<pre class=\"ec\">\n",
    "a, b, c, d, e = ar([0,1]), ar([1, 3]), ar([4,2]), ar([3, 1.5]), ar([3,1.5])\n",
    "vCentroid, vMedoid = np.mean([a, b, c, d], axis=0), GetMedoid([a, b, c, d])\n",
    "vCentroid1, vMedoid1 = np.mean([a, b, c, d, e], axis=0), GetMedoid([a, b, c, d, e])\n",
    "\n",
    "print(f'centroid  = {vCentroid},  medoid   = {vMedoid}')\n",
    "print(f'centroid1 = {vCentroid1}, medoid1   = {vMedoid1}')\n",
    "\n",
    "df = pd.DataFrame([a, b, c, d, e], columns=['x', 'y'])\n",
    "ax = df.plot.scatter('x', 'y', grid=True, title='Centroid in 2D', s=100);\n",
    "plt.plot(vCentroid[0], vCentroid[1], 'go', **fmt); # plot green centroid\n",
    "plt.plot(vMedoid[0], vMedoid[1], 'gx', ms=20); # plot medoid (green star)\n",
    "plt.plot(vCentroid1[0], vCentroid1[1], 'ro', **fmt); # plot red centroid\n",
    "plt.plot(vMedoid1[0], vMedoid1[1], 'rx', ms=20); # plot medoid (red star)\n",
    "            </pre>Since we added a medoid, we essentially duplicated the point $d$. This pulls the old centroid a bit closer to the $d$, which still doesn't guarantee the alignment between centroids and original points. The point $d$ is still the closest point to the new (and old) centroid. So, the medoid stays at the location of point $d$.\n",
    "</details> \n",
    "</font>\n",
    "\n",
    "<hr>"
   ]
  },
  {
   "cell_type": "markdown",
   "metadata": {},
   "source": [
    "## **Task 3**\n",
    "\n",
    "Use `a`, `b`, `c`, and `d` to define corners of a unit square, a square with unit length sides and left-lower corner at the origin. Then compute its centroid and medoid. Plotting is not necessary, but helps to visualize.\n",
    "\n",
    "<b>Hint:</b> Use <code>np.mean()</code> and <code>GetMedoid()</code> to compute a centroid and medoid, respectively."
   ]
  },
  {
   "cell_type": "code",
   "execution_count": null,
   "metadata": {},
   "outputs": [],
   "source": [
    "# check solution here"
   ]
  },
  {
   "cell_type": "markdown",
   "metadata": {},
   "source": [
    "\n",
    "\n",
    "<font color=#606366>\n",
    "    <details><summary><font color=#B31B1B>▶ </font>See <b>solution</b>.</summary>\n",
    "<pre class=\"ec\">\n",
    "a, b, c, d = ar([0,0]),ar([1,0]),ar([0,1]),ar([1,1])\n",
    "vCentroid = np.mean([a, b, c, d], axis=0)\n",
    "vMedoid = GetMedoid([a, b, c, d])\n",
    "\n",
    "print(f'centroid = {vCentroid}, medoid   = {vMedoid}')\n",
    "\n",
    "df = pd.DataFrame([a, b, c, d], columns=['x', 'y'])\n",
    "ax = df.plot.scatter('x', 'y', grid=True, title='Centroid in 2D', s=100);\n",
    "plt.plot(vCentroid[0], vCentroid[1], 'ro', markerfacecolor='none', ms=10); # plot red centroid\n",
    "plt.plot(vMedoid[0], vMedoid[1], 'rx', ms=20); # plot medoid (red star)\n",
    "</pre>\n",
    "</details> \n",
    "</font>\n",
    "\n",
    "<hr>"
   ]
  }
 ],
 "metadata": {
  "anaconda-cloud": {},
  "kernelspec": {
   "display_name": "Python 3",
   "language": "python",
   "name": "python3"
  },
  "language_info": {
   "codemirror_mode": {
    "name": "ipython",
    "version": 3
   },
   "file_extension": ".py",
   "mimetype": "text/x-python",
   "name": "python",
   "nbconvert_exporter": "python",
   "pygments_lexer": "ipython3",
   "version": "3.6.9"
  },
  "toc": {
   "base_numbering": 1,
   "nav_menu": {},
   "number_sections": false,
   "sideBar": true,
   "skip_h1_title": false,
   "title_cell": "Table of Contents",
   "title_sidebar": "Contents",
   "toc_cell": false,
   "toc_position": {},
   "toc_section_display": true,
   "toc_window_display": false
  },
  "varInspector": {
   "cols": {
    "lenName": 16,
    "lenType": 16,
    "lenVar": 40
   },
   "kernels_config": {
    "python": {
     "delete_cmd_postfix": "",
     "delete_cmd_prefix": "del ",
     "library": "var_list.py",
     "varRefreshCmd": "print(var_dic_list())"
    },
    "r": {
     "delete_cmd_postfix": ") ",
     "delete_cmd_prefix": "rm(",
     "library": "var_list.r",
     "varRefreshCmd": "cat(var_dic_list()) "
    }
   },
   "types_to_exclude": [
    "module",
    "function",
    "builtin_function_or_method",
    "instance",
    "_Feature"
   ],
   "window_display": false
  }
 },
 "nbformat": 4,
 "nbformat_minor": 1
}
