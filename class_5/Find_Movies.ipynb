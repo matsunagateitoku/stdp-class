{
 "cells": [
  {
   "cell_type": "markdown",
   "metadata": {
    "deletable": false,
    "editable": false,
    "nbgrader": {
     "cell_type": "markdown",
     "checksum": "21f8ce377d06bf20fb07934375e00654",
     "grade": false,
     "grade_id": "cell-2f34464092c6bada",
     "locked": true,
     "schema_version": 3,
     "solution": false
    }
   },
   "source": [
    "# **Setup**\n",
    " \n",
    "Reset the Python environment to clear it of any previously loaded variables, functions, or libraries. Then, import the libraries needed to complete the code Professor Melnikov presented in the video."
   ]
  },
  {
   "cell_type": "code",
   "execution_count": null,
   "metadata": {},
   "outputs": [],
   "source": [
    "%reset -f\n",
    "from IPython.core.interactiveshell import InteractiveShell as IS\n",
    "IS.ast_node_interactivity = \"all\"  # allows multiple outputs from a cell\n",
    "import numpy as np, pandas as pd, seaborn as sns, matplotlib.pyplot as plt, scipy\n",
    "import re, json                    # JavaScript Object Notation (JSON) is a string of key-value pairs\n",
    "from sentence_transformers import SentenceTransformer\n",
    "\n",
    "pd.set_option('max_rows', 20, 'max_columns', 15, 'max_colwidth', 1000, 'precision', 2)"
   ]
  },
  {
   "cell_type": "markdown",
   "metadata": {
    "deletable": false,
    "editable": false,
    "nbgrader": {
     "cell_type": "markdown",
     "checksum": "feb9caf18203d8a48b2479fd64502e61",
     "grade": false,
     "grade_id": "cell-19159571ac4524cd",
     "locked": true,
     "schema_version": 3,
     "solution": false
    }
   },
   "source": [
    "<hr style=\"border-top: 2px solid #606366; background: transparent;\">\n",
    "\n",
    "# **Review**\n",
    "\n",
    "Review the code Professor Melnikov used to prepare, encode and query the movie database in search of movies that are semantically similar to the query phrase."
   ]
  },
  {
   "cell_type": "markdown",
   "metadata": {
    "deletable": false,
    "editable": false,
    "nbgrader": {
     "cell_type": "markdown",
     "checksum": "b50f55f22c7cf54c5cf664dac16317a6",
     "grade": false,
     "grade_id": "cell-66986e21235dcce9",
     "locked": true,
     "schema_version": 3,
     "solution": false
    }
   },
   "source": [
    "## **JSON Strings**\n",
    "\n",
    "A JavaScript Object Notation ([JSON](https://www.json.org/json-en.html)) string is a dictionary-like object (written out as a string) containing key-value pairs (unique keys and the corresponding non-unique values). The JSON object is an exceptionally popular choice for storing and sharing data due to its transparency, safety and relative ease of use. The cost is speed of processing (compared to binary formats). The following JSON string has a key `\"id\"` mapped to the value `28` and key `\"name\"` mapped to the value `\"Action\"`.\n",
    "\n",
    "     '{\"id\": 28, \"name\": \"Action\"}'\n",
    "     \n",
    "Note that the whole value is a string containing double quotes specifying that both keys should themselves be interpreted as strings and only the value 28 should be interpreted as a number. To properly convert this JSON string as a Python dictionary, you will need a [*`json`*](https://docs.python.org/3/library/json.html) package, which, like many others, allows parsing and manipulation of JSON strings."
   ]
  },
  {
   "cell_type": "markdown",
   "metadata": {
    "deletable": false,
    "editable": false,
    "nbgrader": {
     "cell_type": "markdown",
     "checksum": "35a7af76d3336567ee8abef885701deb",
     "grade": false,
     "grade_id": "cell-ccfbb4be95a115cf",
     "locked": true,
     "schema_version": 3,
     "solution": false
    }
   },
   "source": [
    "## **The Movie Database (TMDB)**\n",
    "\n",
    "[TMBD](https://www.themoviedb.org/) data comes in a tabular datafile (saved as a compressed text file `movies.zip`) containing one row per movie with columns containing numeric and textual movie attributes, such as original title, movie budget, relevant genres, etc. Each movie has a original title, id, and a homepage URL, but can have multiple genres or use multiple spoken languages. These multiple values of movie attributes are stored as a list of JSON objects.\n",
    "\n",
    "Below is a sample of two movies with their attributes presented in transposed fashion (with rows/columns flipped). Each field describes the given movie either semantically or structurally or both. You will try to use some textual values to build a meaningful vector representation for each film for the purpose of a better search engine."
   ]
  },
  {
   "cell_type": "code",
   "execution_count": null,
   "metadata": {},
   "outputs": [],
   "source": [
    "pd.set_option('max_rows', 20, 'max_columns', 100, 'max_colwidth', 1000, 'precision', 2)\n",
    "df = pd.read_csv('movies.zip').fillna('').set_index('original_title')\n",
    "print(f'df.shape = {df.shape}')\n",
    "df[:2].T"
   ]
  },
  {
   "cell_type": "markdown",
   "metadata": {
    "deletable": false,
    "editable": false,
    "nbgrader": {
     "cell_type": "markdown",
     "checksum": "d019537091955d2bc1cdb6f3a3e8590f",
     "grade": false,
     "grade_id": "cell-1111bde1c1ab68a0",
     "locked": true,
     "schema_version": 3,
     "solution": false
    }
   },
   "source": [
    "## **Parsing Movie Genres**\n",
    "\n",
    "Note how the **genres** field contains a string which is a list-like format with several dictionary-like values (i.e. JSON strings). Thus, the movie *Avatar* has the following 4 genres packaged as 4 JSON strings: \n",
    "\n",
    "    '[{\"id\": 28,  \"name\": \"Action\"}, \n",
    "      {\"id\": 12,  \"name\": \"Adventure\"}, \n",
    "      {\"id\": 14,  \"name\": \"Fantasy\"}, \n",
    "      {\"id\": 878, \"name\": \"Science Fiction\"}]'\n",
    "\n",
    "The following UDF `JSON_Values()` takes one string (a list-like of JSON strings) and the desired key (`'name'`, in this case) and retreives (using [regex](https://docs.python.org/3/library/re.html)) all values associated with this key. Thus, a list of genres is returned for each movie, if the UDF is applied to each value of the column `genres`."
   ]
  },
  {
   "cell_type": "code",
   "execution_count": null,
   "metadata": {},
   "outputs": [],
   "source": [
    "def JSON_Values(sJSONs, sKey='name', asString=True, sep=', '):\n",
    "    # Convert: '[{\"iso_639_1\": \"en\", \"name\": \"English\"}, {\"iso_639_1\": \"es\", \"name\": \"Español\"}]' --->>> ['English', 'Español']\n",
    "    sJSONs = re.sub('[\\[\\]]', '', sJSONs)   # remove square brackets in a string\n",
    "    LsJSONs = re.sub('}, {', '}|{', sJSONs).split('|')   # relace comma with a pipe character separating JSON\n",
    "    try:    LsValues = [json.loads(s)[sKey] for s in LsJSONs]   # in case of an error, use empty list\n",
    "    except: LsValues = []\n",
    "    return sep.join(LsValues) if asString else LsValues\n",
    "\n",
    "print(df[:1].genres[0])                              # original JSON records as a string\n",
    "print(JSON_Values(df[:1].genres[0], asString=True))  # extracted values as a string\n",
    "print(JSON_Values(df[:1].genres[0], asString=False)) # extracted values as a list of strings"
   ]
  },
  {
   "cell_type": "markdown",
   "metadata": {
    "deletable": false,
    "editable": false,
    "nbgrader": {
     "cell_type": "markdown",
     "checksum": "503b435bee2f0ec3df8b36efd0536427",
     "grade": false,
     "grade_id": "cell-c89b6c1cb5cd0222",
     "locked": true,
     "schema_version": 3,
     "solution": false
    }
   },
   "source": [
    "## **Building More Complete Movie Descriptions**\n",
    "\n",
    "You will now preprocess the data. Several textual fields carrying semantically relevant text are concatenated (with a space) so as to produce a more complete textual description of each movie containing its title, tagline, overview, keywords, genres, etc. All JSON strings are parsed out into the lists using the UDF `ToStr()`. The goal is to pull together as much relevant text as possible in hopes that full sentences, phrases and even individual words will yield \"higher quality\" descriptive embeddings (i.e. word vectors)."
   ]
  },
  {
   "cell_type": "code",
   "execution_count": null,
   "metadata": {},
   "outputs": [],
   "source": [
    "pd.set_option('max_rows', 5)\n",
    "ToStr = lambda pdSeries: ' ' + pdSeries.apply(JSON_Values)\n",
    "dfMovAll = (df.title  + ' ' + df.tagline + ' ' + df.overview + ToStr(df.keywords) + ToStr(df.genres) + ToStr(df.production_countries)).to_frame().rename(columns={0:'Desc'})\n",
    "dfMovAll"
   ]
  },
  {
   "cell_type": "markdown",
   "metadata": {},
   "source": [
    "Embedding all ~4803 takes 10 minutes on a central processing unit (CPU), so you will work with a smaller subset of a movies only. In contrast, embedding takes about 10 seconds on a graphical processing unit (GPU), but this notebook uses CPU only."
   ]
  },
  {
   "cell_type": "code",
   "execution_count": null,
   "metadata": {},
   "outputs": [],
   "source": [
    "dfMov = dfMovAll[dfMovAll.Desc.str.contains('Fantasy')][:100]  # select a subset of movies\n",
    "dfMov.shape"
   ]
  },
  {
   "cell_type": "markdown",
   "metadata": {},
   "source": [
    "## **Encoding Movie Descriptions**\n",
    "\n",
    "After preprocessing, you are now ready to apply the [SBERT](https://www.sbert.net/) language model to embed each description into the same length numeric vector. \n",
    "\n",
    "<strong> Note:</strong> In the previous video, Professor Melnikov uses the `paraphrase-distilroberta-base-v1`(330 MB) model. In this activity, you will use a smaller model, `paraphrase-albert-small-v2` (~50 MB), which still encodes any sized text into a 768-dimensional vector."
   ]
  },
  {
   "cell_type": "code",
   "execution_count": null,
   "metadata": {},
   "outputs": [],
   "source": [
    "%time SBERT = SentenceTransformer('paraphrase-albert-small-v2')  # load a pre-trained language model"
   ]
  },
  {
   "cell_type": "markdown",
   "metadata": {
    "deletable": false,
    "editable": false,
    "nbgrader": {
     "cell_type": "markdown",
     "checksum": "38f3a68016b528a4927895f99e66d935",
     "grade": false,
     "grade_id": "cell-a4d4949b7564dc0e",
     "locked": true,
     "schema_version": 3,
     "solution": false
    }
   },
   "source": [
    "Next, you will derive a 768-dimensional movie vector for each of the selected movies. These vectors (as rows) will be packed together into a matrix and wrapped into the following dataframe `dfEmb`, with movie titles as row indices."
   ]
  },
  {
   "cell_type": "code",
   "execution_count": null,
   "metadata": {},
   "outputs": [],
   "source": [
    "%time mEmb = SBERT.encode(dfMov.Desc.tolist())  # embedding movie descriptions as vectors in a 768D vector space\n",
    "dfEmb = pd.DataFrame(mEmb, index=dfMov.index)\n",
    "dfEmb"
   ]
  },
  {
   "cell_type": "markdown",
   "metadata": {
    "deletable": false,
    "editable": false,
    "nbgrader": {
     "cell_type": "markdown",
     "checksum": "47c76e076b1ce3f3a52b0fe04a263d36",
     "grade": false,
     "grade_id": "cell-1411bec1dc2b3f72",
     "locked": true,
     "schema_version": 3,
     "solution": false
    }
   },
   "source": [
    "## **Finding a Similar Movie**\n",
    "\n",
    "These vectors can now be used just like any other numerical vector in a vector space. That means you can compute the proximity (i.e. similarity or distance) between any pair of movie vectors. Also, you can encode any search phrase, say `sQuery`, and use its vector to sort movies by relevance. "
   ]
  },
  {
   "cell_type": "code",
   "execution_count": null,
   "metadata": {},
   "outputs": [],
   "source": [
    "CosSim = lambda u, v: 1 - scipy.spatial.distance.cosine(u,v)\n",
    "sQuery = 'moon'\n",
    "vQuery = SBERT.encode(sQuery)\n",
    "dfCS = dfEmb.apply(lambda v: CosSim(vQuery, v), axis=1).to_frame().rename(columns={0:'CosSim'}) # Cosine similarities in oridinal order\n",
    "dfCSDecr = dfCS.sort_values('CosSim', ascending=False)    # Cosine similarities in decreasing order\n",
    "dfCSDecr.T"
   ]
  },
  {
   "cell_type": "markdown",
   "metadata": {
    "deletable": false,
    "editable": false,
    "nbgrader": {
     "cell_type": "markdown",
     "checksum": "b3989b23a6dcff13f8e2e8f26331aee5",
     "grade": false,
     "grade_id": "cell-87240088a00b1f73",
     "locked": true,
     "schema_version": 3,
     "solution": false
    }
   },
   "source": [
    "You can also print a bar plot with, say, the first few and every hundredth movie and its cosine similarity to the query phrase. Most of the movies show some positive cosine similarity, but we might be interested in, say, top 10 movie recommendations for the user making this search."
   ]
  },
  {
   "cell_type": "code",
   "execution_count": null,
   "metadata": {},
   "outputs": [],
   "source": [
    "RowIx = list(range(10)) + list(range(10, len(dfCS), 100)) # draw top 10 and then every 100th movie\n",
    "dfCSDecr.iloc[RowIx].plot(grid=True, figsize=(25,4), title=f'CosSim for movies similar to \"{sQuery}\"\"', kind='bar');"
   ]
  },
  {
   "cell_type": "markdown",
   "metadata": {},
   "source": [
    "<hr style=\"border-top: 2px solid #606366; background: transparent;\">\n",
    "\n",
    "# **Optional Practice**\n",
    "\n",
    "Now you will practice application of SBERT to a movie search.\n",
    "\n",
    "As you work through these tasks, check your answers by running your code in the *#check solution here* cell, to see if you’ve gotten the correct result. If you get stuck on a task, click the See **solution** drop-down to view the answer."
   ]
  },
  {
   "cell_type": "markdown",
   "metadata": {},
   "source": [
    "## Task 1\n",
    "\n",
    "Find top 5 movies related to query *'a whole new world'*.\n",
    "\n",
    "<b>Hint:</b> You can re-use the code above, which takes <code>sQuery</code> and returns all ranked movies, but keep only top few from that list."
   ]
  },
  {
   "cell_type": "code",
   "execution_count": null,
   "metadata": {},
   "outputs": [],
   "source": [
    "# check solution here"
   ]
  },
  {
   "cell_type": "markdown",
   "metadata": {},
   "source": [
    "<font color=#606366>\n",
    "    <details><summary><font color=#B31B1B>▶ </font>See <b>solution</b>.</summary>\n",
    "<pre class=\"ec\">\n",
    "sQuery = 'a whole new world'\n",
    "vQuery = SBERT.encode(sQuery)\n",
    "dfCS = dfEmb.apply(lambda v: CosSim(vQuery, v), axis=1).to_frame().rename(columns={0:'CosSim'}) # Cosine similarities in oridinal order\n",
    "dfCSDecr = dfCS.sort_values('CosSim', ascending=False)    # Cosine similarities in decreasing order\n",
    "dfCSDecr[:5].T\n",
    "</pre>\n",
    "</details> \n",
    "</font>\n",
    "\n",
    "<hr>"
   ]
  },
  {
   "cell_type": "markdown",
   "metadata": {},
   "source": [
    "## Task 2\n",
    "\n",
    "Find bottom five movies (i.e., least) related to movie title *'Battles of aliens'*.\n",
    "\n",
    "<b>Hint:</b> You can re-use the code above, which takes <code>sQuery</code> and returns all ranked movies, but keep only bottom few from that list."
   ]
  },
  {
   "cell_type": "code",
   "execution_count": null,
   "metadata": {},
   "outputs": [],
   "source": [
    "# check solution here"
   ]
  },
  {
   "cell_type": "markdown",
   "metadata": {},
   "source": [
    "<font color=#606366>\n",
    "    <details><summary><font color=#B31B1B>▶ </font>See <b>solution</b>.</summary>\n",
    "<pre class=\"ec\">\n",
    "sQuery = 'Battles of aliens'\n",
    "vQuery = SBERT.encode(sQuery)\n",
    "dfCS = dfEmb.apply(lambda v: CosSim(vQuery, v), axis=1).to_frame().rename(columns={0:'CosSim'}) # Cosine similarities in oridinal order\n",
    "dfCSDecr = dfCS.sort_values('CosSim', ascending=False)    # Cosine similarities in decreasing order\n",
    "dfCSDecr[-5:].T\n",
    "</pre>\n",
    "</details> \n",
    "</font>\n",
    "\n",
    "<hr>"
   ]
  }
 ],
 "metadata": {
  "anaconda-cloud": {},
  "kernelspec": {
   "display_name": "Python 3",
   "language": "python",
   "name": "python3"
  },
  "language_info": {
   "codemirror_mode": {
    "name": "ipython",
    "version": 3
   },
   "file_extension": ".py",
   "mimetype": "text/x-python",
   "name": "python",
   "nbconvert_exporter": "python",
   "pygments_lexer": "ipython3",
   "version": "3.6.9"
  },
  "toc": {
   "base_numbering": 1,
   "nav_menu": {},
   "number_sections": false,
   "sideBar": true,
   "skip_h1_title": false,
   "title_cell": "Table of Contents",
   "title_sidebar": "Contents",
   "toc_cell": false,
   "toc_position": {},
   "toc_section_display": true,
   "toc_window_display": false
  },
  "varInspector": {
   "cols": {
    "lenName": 16,
    "lenType": 16,
    "lenVar": 40
   },
   "kernels_config": {
    "python": {
     "delete_cmd_postfix": "",
     "delete_cmd_prefix": "del ",
     "library": "var_list.py",
     "varRefreshCmd": "print(var_dic_list())"
    },
    "r": {
     "delete_cmd_postfix": ") ",
     "delete_cmd_prefix": "rm(",
     "library": "var_list.r",
     "varRefreshCmd": "cat(var_dic_list()) "
    }
   },
   "types_to_exclude": [
    "module",
    "function",
    "builtin_function_or_method",
    "instance",
    "_Feature"
   ],
   "window_display": false
  }
 },
 "nbformat": 4,
 "nbformat_minor": 1
}
