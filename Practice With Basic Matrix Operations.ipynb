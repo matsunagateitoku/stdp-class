{
 "cells": [
  {
   "cell_type": "markdown",
   "metadata": {},
   "source": [
    "# **Setup**\n",
    " \n",
    "Reset the Python environment to clear it of any previously loaded variables, functions, or libraries. Then, import the libraries needed to complete the code Professor Melnikov presented in the video."
   ]
  },
  {
   "cell_type": "code",
   "execution_count": null,
   "metadata": {},
   "outputs": [],
   "source": [
    "%reset -f\n",
    "from IPython.core.interactiveshell import InteractiveShell as IS\n",
    "IS.ast_node_interactivity = \"all\"    # allows multiple outputs from a cell\n",
    "import numpy as np, sys, seaborn as sns, matplotlib.pyplot as plt"
   ]
  },
  {
   "cell_type": "markdown",
   "metadata": {},
   "source": [
    "<hr style=\"border-top: 2px solid #606366; background: transparent;\">\n",
    "\n",
    "# **Review**\n",
    "\n",
    "## Basic Matrix Operations\n",
    "\n",
    "<span style=\"color:black\">You can define vectors as one-dimensional NumPy arrays, two-dimensional arrays, or even lists of lists, lists of tuples, etc. For example, you can define a vector as `np.array([[0], [1], [2]])` or `np.array([[0, 1, 2]])`. Although you can store a vector in a higher dimensional array, doing so will complicate computation, so you should carefully consider the dimension that you want to operate on.\n",
    " "
   ]
  },
  {
   "cell_type": "code",
   "execution_count": null,
   "metadata": {},
   "outputs": [],
   "source": [
    "a, b = np.array([0,1,2]), np.ones(3)\n",
    "print(a)\n",
    "print(b)"
   ]
  },
  {
   "cell_type": "markdown",
   "metadata": {},
   "source": [
    "<span style=\"color:black\"> There are multiple ways to produce the **sum product** of two vectors `a` and `b`, which is the sum of element-wise products of elements of two vectors. Sum product is also known as **dot product** and **inner product**, although the latter is a more general concept intended for matrix arguments. A dot product takes two vectors that have the same dimensionality as arguments and produces a single number."
   ]
  },
  {
   "cell_type": "code",
   "execution_count": null,
   "metadata": {},
   "outputs": [],
   "source": [
    "print(f'element-wise product:', a * b)       # not a sum-product, but just an element-wise product.\n",
    "print(f'sum of products:', a[0]*b[0] + a[1]*b[1] + a[2]*b[2]) # sum product\n",
    "print(f'sum(a*b):\\t', sum(a*b))              # sum product\n",
    "print(f'np.dot(a, b):\\t', np.dot(a, b))      # dot product\n",
    "print(f'np.inner(a, b):\\t', np.inner(a, b))  # inner product\n",
    "print(f'np.matmul(a,b):\\t', np.matmul(a,b))  # matrix multiplication\n",
    "print(f'a @ b:\\t\\t', a @ b)                  # a compact notation of matrix multiplication"
   ]
  },
  {
   "cell_type": "markdown",
   "metadata": {},
   "source": [
    "## Define Matrices\n",
    "\n",
    "<span style=\"color:black\">Matrices are vectors of vectors, which can also be thought of as lists of lists. Matrices are useful because you can package many vectors into a single matrix and operate on them in a single operation. Many computer chips and computer languages are optimized to process matrices hundreds of times faster than processing its individual set of vectors. It is common to represent matrices using NumPy's 2D arrays."
   ]
  },
  {
   "cell_type": "code",
   "execution_count": null,
   "metadata": {},
   "outputs": [],
   "source": [
    "A = np.array(  # matrix with dimensions 2x3, i.e. 2 rows and 3 columns\n",
    "    [[1, 0, 1],\n",
    "     [0, 1, 0]])\n",
    "B = np.array(  # matrix with dimensions 3x4, i.e. 3 rows and 4 columns\n",
    "    [[1, 0, 1, 0],\n",
    "     [0, 1, 0, 1],\n",
    "     [1, 0, 1, 0]])"
   ]
  },
  {
   "cell_type": "markdown",
   "metadata": {},
   "source": [
    "## Transposition\n",
    "\n",
    "<span style=\"color:black\">Prior to performing matrix operations, it can be helpful to verify that the matrices are properly positioned. You can view the dimensionality of your NumPy and Pandas objects by calling the `shape` method. \n",
    "    \n",
    "<span style=\"color:black\">One common matrix operation is the transposition operation, which flips the matrix around its diagonal. So, $2\\times 3$ matrix $A$ becomes $3\\times 2$ matrix $A^\\top$, where superscript $\\top$ indicates a transposition operation. The transpose of $A$ can also be denoted with a single quote, $A'$."
   ]
  },
  {
   "cell_type": "code",
   "execution_count": null,
   "metadata": {},
   "outputs": [],
   "source": [
    "print(f'A.shape={A.shape}, B.shape={B.shape}')  # display the dimensions of A and B\n",
    "print('Transpose of A:\\n', A.T)                 # flip all values around the diagonal of the matrix"
   ]
  },
  {
   "cell_type": "markdown",
   "metadata": {},
   "source": [
    "<span style=\"color:black\"> Another matrix operation is multiplication by a scalar number. In this operation, the scalar is multiplied by each element of the matrix."
   ]
  },
  {
   "cell_type": "code",
   "execution_count": null,
   "metadata": {},
   "outputs": [],
   "source": [
    "print('3 * A:\\n', 3 * A)  "
   ]
  },
  {
   "cell_type": "markdown",
   "metadata": {},
   "source": [
    "## Matching Dimensions\n",
    "\n",
    "<span style=\"color:black\">In matrix addition, elements from the corresponding locations of two matrices are added together. Addition requires matching dimensions of the two summands. You cannot add two matrices if one of them has more rows or more columns."
   ]
  },
  {
   "cell_type": "code",
   "execution_count": null,
   "metadata": {},
   "outputs": [],
   "source": [
    "print('A + A:\\n', A + A)  # dimensions of two summands must match"
   ]
  },
  {
   "cell_type": "markdown",
   "metadata": {},
   "source": [
    "<span style=\"color:black\">If dimensions do not match, element-wise addition is no longer unambiguous. NumPy throws an error message, which you can catch with the [`try` and `except`](https://docs.python.org/3/tutorial/errors.html#handling-exceptions) statement. You will do this so that the notebook does not fail with an error message, but instead catches an error, displays it, and continues execution."
   ]
  },
  {
   "cell_type": "code",
   "execution_count": null,
   "metadata": {},
   "outputs": [],
   "source": [
    "try:     A + B\n",
    "except:  print('ERROR:', sys.exc_info()[1])"
   ]
  },
  {
   "cell_type": "markdown",
   "metadata": {},
   "source": [
    "## Hadamard Product\n",
    "\n",
    "<span style=\"color:black\">The element-wise multiplication, or Hadamard product, is an element-wise multiplication of matrices; and, hence, requires same-shape arguments, like a summation operation. "
   ]
  },
  {
   "cell_type": "code",
   "execution_count": null,
   "metadata": {},
   "outputs": [],
   "source": [
    "print('A * A:\\n', A * A)  # Hadamard product requires matching dimensions"
   ]
  },
  {
   "cell_type": "markdown",
   "metadata": {},
   "source": [
    "<span style=\"color:black\"> Now try catching the error when multiplying mismatching left and right matrices."
   ]
  },
  {
   "cell_type": "code",
   "execution_count": null,
   "metadata": {},
   "outputs": [],
   "source": [
    "try:     A * B\n",
    "except:  print('ERROR:', sys.exc_info()[1])"
   ]
  },
  {
   "cell_type": "markdown",
   "metadata": {},
   "source": [
    "## <span style=\"color:black\">Matrix Multiplication\n",
    "\n",
    "<span style=\"color:black\">Matrix multiplication is a dot product of each combination of rows of the left matrix `A` and the columns of the right matrix `B`. A row of `A` and a column of `B` must match in shape. In the colored matrices, multiply the first row of `A` and the first column of `B` to produce a value `2` in the top right corner of a matrix `C`, and so on.\n",
    " \n",
    "<span style=\"color:black\"><b>Note:</b> For brevity, use the `@` operation to multiply two matrices, but you could also use [`np.matmul`](https://numpy.org/doc/stable/reference/generated/numpy.matmul.html), and a few more more advanced functions in NumPy."
   ]
  },
  {
   "cell_type": "code",
   "execution_count": null,
   "metadata": {},
   "outputs": [],
   "source": [
    "def PlotMatMult(A, B, C, figSize=[10,2], nPrecision=2):\n",
    "    plt.rcParams['figure.figsize'] = figSize\n",
    "    fig, (axA, axB, axC) = plt.subplots(1, 3)\n",
    "    fig.suptitle('A @ B = C', fontsize=15)\n",
    "\n",
    "    def Heatmap(Arr, ax, sLab=''):\n",
    "        ax1 = sns.heatmap(Arr, annot=Arr.round(nPrecision), cbar=False, cmap='coolwarm', fmt='',\n",
    "                          annot_kws={\"fontsize\":15}, ax=ax, xticklabels=False, yticklabels=False);\n",
    "        ax1.tick_params(left=False, bottom=False);\n",
    "        ax.set(xlabel=sLab + ' ' + str(Arr.shape));\n",
    "  \n",
    "    Heatmap(A, axA, 'A')\n",
    "    Heatmap(B, axB, 'B')\n",
    "    Heatmap(C, axC, 'C')\n",
    "    fig.tight_layout(rect=[0, 0.03, 1, 0.95])\n",
    "    plt.show()\n",
    "\n",
    "C = A @ B\n",
    "PlotMatMult(A, B, C)"
   ]
  },
  {
   "cell_type": "markdown",
   "metadata": {},
   "source": [
    "<span style=\"color:black\">Matrix multiplication is not commutative, i.e., in general, $AB\\ne BA$. Assuming commutativity is a frequent mistake since commutativity is true for addition and multiplication of real numbers, e.g., $1+2=2+1$ and $1\\cdot2=2\\cdot1$. In many other domains of values (numeric or not) commutativity is a golden rarity. If you think of letter sequences as operations of concatenations, then these are not commutative operations, e.g.,  $\\text{hi}\\ne \\text{ih}$.\n",
    " \n",
    "<span style=\"color:black\">While matrices commute with Hadamard (element-wise) products, they do not commute with matrix product (i.e., dot products of rows and columns). Try catching this error."
   ]
  },
  {
   "cell_type": "code",
   "execution_count": null,
   "metadata": {},
   "outputs": [],
   "source": [
    "try:     B @ A      # raises an error, even though, A@B succeeds\n",
    "except:  print('ERROR:', sys.exc_info()[1])"
   ]
  },
  {
   "cell_type": "markdown",
   "metadata": {},
   "source": [
    "<hr style=\"border-top: 2px solid #606366; background: transparent;\">\n",
    "\n",
    "# **Optional Practice**\n",
    "Now, equipped with these concepts and tools, you will tackle a few related tasks.\n",
    "\n",
    "As you work through these tasks, check your answers by running your code in the *#check solution here* cell, to see if you’ve gotten the correct result. If you get stuck on a task, click the See **solution** drop-down to view the answer."
   ]
  },
  {
   "cell_type": "markdown",
   "metadata": {},
   "source": [
    "## Task 1\n",
    " \n",
    "Define a NumPy 1D array `c`, which contains elements as integer powers of 2 (e.g. $2^0, 2^1, ...$) and of length of array `a`, from the beginning of the **Review** section above. Then use it to show the associative property of vectors and element-wise multiplication. That is, show that $(ab)c=a(bc)$, where $ab$ is a Hadamard product.\n",
    "\n",
    "<b>Hint:</b> Use element-wise multiplication operation as used above and place parentheses accordingly."
   ]
  },
  {
   "cell_type": "code",
   "execution_count": null,
   "metadata": {},
   "outputs": [],
   "source": [
    "# check solution here"
   ]
  },
  {
   "cell_type": "markdown",
   "metadata": {},
   "source": [
    "\n",
    "<font color=#606366>\n",
    "    <details><summary><font color=#b31b1b>▶ </font>See <b>solution</b>.</summary>\n",
    "<pre>\n",
    "c = 2**np.arange(len(a))\n",
    "c\n",
    "print(f'(a * b) * c = ', (a * b) * c)\n",
    "print(f'a * (b * c) = ', a * (b * c))\n",
    "print(f'Alt: difference = ', ((a * b) * c) - (a * (b * c)))  # returns zero from element-wise difference\n",
    "</pre>\n",
    "</details> \n",
    "</font>\n",
    "<hr>"
   ]
  },
  {
   "cell_type": "markdown",
   "metadata": {},
   "source": [
    "## Task 2\n",
    " \n",
    "Use the vectors `a`, `b`, and `c` to show that associativity fails for dot products of three vectors, i.e., $(ab)c\\ne a(bc)$, where $ab$ is the dot product. Why does it fail?\n",
    "\n",
    "<b>Hint:</b> Try each product separately and place parentheses according to the expression given."
   ]
  },
  {
   "cell_type": "code",
   "execution_count": null,
   "metadata": {},
   "outputs": [],
   "source": [
    "# check solution here"
   ]
  },
  {
   "cell_type": "markdown",
   "metadata": {},
   "source": [
    "\n",
    "<font color=#606366>\n",
    "    <details><summary><font color=#b31b1b>▶ </font>See <b>solution</b>.</summary>\n",
    "<pre>\n",
    "try:\n",
    "    print(f'(a @ b) @ c = ', (a @ b) @ c)\n",
    "    print(f'a @ (b @ c) = ', a @ (b @ c))\n",
    "except:\n",
    "    print('ERROR:', sys.exc_info()[1])\n",
    "            </pre>\n",
    "            It fails because the first dot product (in parentheses) returns a real number and the second dot product can no longer be evaluated for a number and a vector. Each dot product requires vectors of exactly the same dimensions.\n",
    "</details>\n",
    "</font>\n",
    "<hr>"
   ]
  },
  {
   "cell_type": "markdown",
   "metadata": {},
   "source": [
    "## Task 3\n",
    " \n",
    "Given a variable $b=5$, show that associative property works, i.e., $ (ab)n=a(bn)$, where $ab$ is the dot product of vectors and $bn$ is the vector multiplication by a scalar. Why does dot product not fail on each side of equality?\n",
    "\n",
    "<b>Hint:</b> Use the examples above to multiple vectors and scalars with the appropriate multiplication operations."
   ]
  },
  {
   "cell_type": "code",
   "execution_count": null,
   "metadata": {},
   "outputs": [],
   "source": [
    "# check solution here"
   ]
  },
  {
   "cell_type": "markdown",
   "metadata": {},
   "source": [
    "\n",
    "<font color=#606366>\n",
    "    <details><summary><font color=#b31b1b>▶ </font>See <b>solution</b>.</summary>\n",
    "<pre>\n",
    "n = 5\n",
    "print(f'(a @ b) * n = ', (a @ b) * n)\n",
    "print(f'a * (b @ n) = ', a @ (b * n))\n",
    "            </pre>\n",
    "Dot product here always operates on vectors of the same shape. That is, multiplying a vector by a scalar does not change the vector's shape.\n",
    "</details>\n",
    "</font>\n",
    "<hr>"
   ]
  },
  {
   "cell_type": "markdown",
   "metadata": {},
   "source": [
    "## Task 4\n",
    "\n",
    "Define a submatrix of `B` as its first three columns and last two rows. Name it `B13`. Verify that it can be added to `A` without an error.\n",
    "\n",
    "<b>Hint:</b> Use slice operations of NumPy arrays to subset the matrix. "
   ]
  },
  {
   "cell_type": "code",
   "execution_count": null,
   "metadata": {},
   "outputs": [],
   "source": [
    "# check solution here"
   ]
  },
  {
   "cell_type": "markdown",
   "metadata": {},
   "source": [
    "\n",
    "<font color=#606366>\n",
    "    <details><summary><font color=#b31b1b>▶ </font>See <b>solution</b>.</summary>\n",
    "\n",
    "The new matrix can be added to <code>A</code> because their dimensions match. We can also just try adding two matrices to confirm that there is no error message.\n",
    "            <pre>\n",
    "B13 = B[-2:,:3]\n",
    "A + B13\n",
    "</pre>\n",
    "</details> \n",
    "</font>\n",
    "<hr>"
   ]
  },
  {
   "cell_type": "markdown",
   "metadata": {},
   "source": [
    "## Task 5\n",
    "\n",
    "Create a matrix `B23` by removing the row with index 1 and the column with index 1 from matrix `B`. Can `A` and `B23` be element-wise multiplied.\n",
    "\n",
    "<b>Hint:</b> Use the operations above to complete this assignment. Try <a href=\"https://numpy.org/doc/stable/reference/generated/numpy.delete.html\"><code>np.delete()</code></a> to delete rows or columns. Alternatively, you can slice any NumPy array with a list of specified integer indices for the rows or columns to keep."
   ]
  },
  {
   "cell_type": "code",
   "execution_count": null,
   "metadata": {},
   "outputs": [],
   "source": [
    "# check solution here"
   ]
  },
  {
   "cell_type": "markdown",
   "metadata": {},
   "source": [
    "\n",
    "<font color=#606366>\n",
    "    <details><summary><font color=#b31b1b>▶ </font>See <b>solution</b>.</summary>\n",
    "Yes, they can be multiplied because they have matching shapes. We can also just try multiplying these to see if a NumPy error is raised.\n",
    "            <pre>\n",
    "B23 = np.delete(np.delete(B, 1, axis=0), 1, axis=1)\n",
    "A * B23\n",
    "</pre>\n",
    "</details> \n",
    "</font>\n",
    "<hr>"
   ]
  },
  {
   "cell_type": "markdown",
   "metadata": {},
   "source": [
    "## Task 6\n",
    "\n",
    "Can you multiply matrix $B'$ by $A'$ ? Show it with code.\n",
    "\n",
    "<b>Hint:</b> Recall that single quote also means transpose. Use the example above to compute transpositions and then to compute their inner product."
   ]
  },
  {
   "cell_type": "code",
   "execution_count": null,
   "metadata": {},
   "outputs": [],
   "source": [
    "# check solution here"
   ]
  },
  {
   "cell_type": "markdown",
   "metadata": {},
   "source": [
    "\n",
    "<font color=#606366>\n",
    "    <details><summary><font color=#b31b1b>▶ </font>See <b>solution</b>.</summary>\n",
    "Since inner dimensions of the two transposed matrices match, the matrix product works.\n",
    "            <pre>\n",
    "B.T @ A.T\n",
    "</pre>\n",
    "</details> \n",
    "</font>\n",
    "<hr>"
   ]
  },
  {
   "cell_type": "markdown",
   "metadata": {},
   "source": [
    "## Task 7\n",
    " \n",
    "Explain why the following multiplication makes sense from the shape perspective: $(B'A')'=AB$. Verify the equality computationally.\n",
    "\n",
    "<b>Hint:</b> Recall that $AB$ is a matrix product. Note that element-wise product does not make sense here, since dimensions of $A$ and $B$ differ. Now, write out dimensions of each matrix (original or transposed) and verify that matrices going into a product operation have matching inner dimensions, i.e., the length of a row for the matrix on the left of the product operation equals length of a column for the matrix on the right of the operation."
   ]
  },
  {
   "cell_type": "code",
   "execution_count": null,
   "metadata": {},
   "outputs": [],
   "source": [
    "# check solution here"
   ]
  },
  {
   "cell_type": "markdown",
   "metadata": {},
   "source": [
    "\n",
    "<font color=#606366>\n",
    "    <details><summary><font color=#b31b1b>▶ </font>See <b>solution</b>.</summary>\n",
    "$B$ has a shape of $3\\times4$. So, $B'$ has a shape of $4\\times 3$. Likewise, $A'$ has a shape of $3\\times 2$. So, we have a matrix product in the form of $(4\\times3)\\cdot(3\\times2)$. Since the inner dimension is $3$ for both factors, the matrix multiplication makes sense. The inner dimension cancels and the resulting matrix $B'A'$ has a shape $4\\times2$. Hence, a transposed matrix $(B'A')'$ has a shape of $2\\times 4$. Likewise, on the right side of equality we have a product $(2\\times 3)\\cdot(3\\times 4)$ with a resulting shape of $2\\times 4$. So, the shapes of operations on each side of equality are equal. We can verify the equality as follows.\n",
    "            <pre>\n",
    "(B.T @ A.T).T - A @ B\n",
    "</pre>\n",
    "</details> \n",
    "</font>\n",
    "<hr>"
   ]
  }
 ],
 "metadata": {
  "anaconda-cloud": {},
  "kernelspec": {
   "display_name": "Python 3",
   "language": "python",
   "name": "python3"
  },
  "language_info": {
   "codemirror_mode": {
    "name": "ipython",
    "version": 3
   },
   "file_extension": ".py",
   "mimetype": "text/x-python",
   "name": "python",
   "nbconvert_exporter": "python",
   "pygments_lexer": "ipython3",
   "version": "3.6.9"
  },
  "toc": {
   "base_numbering": 1,
   "nav_menu": {},
   "number_sections": false,
   "sideBar": true,
   "skip_h1_title": false,
   "title_cell": "Table of Contents",
   "title_sidebar": "Contents",
   "toc_cell": false,
   "toc_position": {},
   "toc_section_display": true,
   "toc_window_display": false
  },
  "varInspector": {
   "cols": {
    "lenName": 16,
    "lenType": 16,
    "lenVar": 40
   },
   "kernels_config": {
    "python": {
     "delete_cmd_postfix": "",
     "delete_cmd_prefix": "del ",
     "library": "var_list.py",
     "varRefreshCmd": "print(var_dic_list())"
    },
    "r": {
     "delete_cmd_postfix": ") ",
     "delete_cmd_prefix": "rm(",
     "library": "var_list.r",
     "varRefreshCmd": "cat(var_dic_list()) "
    }
   },
   "types_to_exclude": [
    "module",
    "function",
    "builtin_function_or_method",
    "instance",
    "_Feature"
   ],
   "window_display": false
  }
 },
 "nbformat": 4,
 "nbformat_minor": 1
}
