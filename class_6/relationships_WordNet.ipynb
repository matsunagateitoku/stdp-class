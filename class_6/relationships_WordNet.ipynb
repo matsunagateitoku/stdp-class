{
 "cells": [
  {
   "cell_type": "markdown",
   "metadata": {},
   "source": [
    "# **Setup**\n",
    " \n",
    "Reset the Python environment to clear it of any previously loaded variables, functions, or libraries. Then, import the libraries needed to complete the code Professor Melnikov presented in the video."
   ]
  },
  {
   "cell_type": "code",
   "execution_count": null,
   "metadata": {},
   "outputs": [],
   "source": [
    "%reset -f\n",
    "import nltk\n",
    "from nltk.corpus import wordnet as wn\n",
    "_ = nltk.download(['wordnet'], quiet=True)"
   ]
  },
  {
   "cell_type": "markdown",
   "metadata": {},
   "source": [
    "<hr style=\"border-top: 2px solid #606366; background: transparent;\">\n",
    "\n",
    "# **Review**\n",
    "\n",
    "<font color='black'>Review the code Professor Melnikov used to retrieve lexical semantic relations.</font>\n",
    "\n",
    "\n",
    "## Lexical Semantic Relationships: Entailments, Homonyms, Antonyms\n",
    "\n",
    "### Entailments\n",
    "\n",
    "<font color='black'>In WordNet, you can analyze **lexical semantic relationships** among synsets. For example, you can retrieve or evaluate **entailments**, which are verbs causally evolved from another verb. Thus, 'eat' causes the entailment 'chew', but not the other way around. This allows for constructing or assessing a sequence of logical actions.\n",
    "\n",
    "<font color='black'>Some of the entailments are printed below for words '*walk*', '*eat*', etc. Also note the sequence of entailments '*watch*' → '*look*' → '*see*'."
   ]
  },
  {
   "cell_type": "code",
   "execution_count": null,
   "metadata": {},
   "outputs": [],
   "source": [
    "for sAction in ['walk', 'eat', 'digest', 'watch', 'look', 'see']: \n",
    "    ss = wn.synsets(sAction, pos='v')[0]\n",
    "    sEntailments = ', '.join(ss0.name() for ss0 in ss.entailments())  # retrieve entailments (verb synsets)\n",
    "    print(ss.name(), '\\t-- entails -->', sEntailments) "
   ]
  },
  {
   "cell_type": "markdown",
   "metadata": {},
   "source": [
    "### Homographs\n",
    "\n",
    "<font color='black'>Below are some common lexical relations. Note that in the present version of NLKT's WordNet, the first three attributes are not explicitly accessible.\n",
    "\n",
    "1. **Homographs** are spelled identically but have different meanings, or senses.\n",
    "   1. For example, \"bat\" can mean either a \"club for hitting a ball\" or a \"nocturnal flying animal.\" \n",
    "1. **Homophones** sound the same, but have different spellings and senses. \n",
    "   1. For example, in the phrases \"write on paper\" and \"turn right,\" \"write\" and \"right\" are homophones. Homophones often cause spelling errors and problems in speech synthesis. \n",
    "1. Both homographs and homophones are **homonyms**, which is their superset.\n",
    "1. **Synonyms** are words with similar senses.\n",
    "1. **Antonyms** are words with opposite senses.\n",
    "\n",
    "Examples of the homograph 'bank' are shown below, where `bank.n.01` denotes a river bank, whereas `bank.n.09` denotes a building. </font>"
   ]
  },
  {
   "cell_type": "code",
   "execution_count": null,
   "metadata": {},
   "outputs": [],
   "source": [
    "_ = [print(ss.name(), ':', ss.definition()) for ss in wn.synsets('bank')  # homographs\n",
    "  if ss.name().startswith('bank')]"
   ]
  },
  {
   "cell_type": "markdown",
   "metadata": {},
   "source": [
    "### Antonyms\n",
    "\n",
    "<font color='black'>You can retrieve the antonyms of a lemma by using its `antonyms()` method.</font>"
   ]
  },
  {
   "cell_type": "code",
   "execution_count": null,
   "metadata": {},
   "outputs": [],
   "source": [
    "lm = wn.synset('good.a.01').lemmas()[0]\n",
    "print(lm.antonyms())                          # some relations are defined over lemmas\n",
    "print(lm.derivationally_related_forms())"
   ]
  },
  {
   "cell_type": "markdown",
   "metadata": {},
   "source": [
    "## Lexical Semantic Relationships: Hyponyms and Hypernyms\n",
    "\n",
    "<font color='black'>A **hyponym** is a specific term whose meaning is also included in the meaning of a more general term, or **hypernym**. For example, \"vehicle\" is a hypernym of \"car,\" which is a hyponym of \"vehicle.\"</font>\n",
    "\n",
    "### Hyponyms\n",
    "\n",
    "<font color='black'>The cell below retrieves 18 hyponyms for the hypernymous synset *'dog.n.01'* using the `hyponyms()` method.\n",
    "</font>"
   ]
  },
  {
   "cell_type": "code",
   "execution_count": null,
   "metadata": {},
   "outputs": [],
   "source": [
    "ss = wn.synset('dog.n.01')      # word:dog, POS:noun, version:01 (domesticated canine animal)\n",
    "LsH = sorted([h.name() for h in ss.hyponyms()])  # collect all hyponyms\n",
    "print(f'{len(LsH)} hyponyms: ')\n",
    "', '.join(LsH)                  # breeds and types "
   ]
  },
  {
   "cell_type": "markdown",
   "metadata": {},
   "source": [
    "### Hypernyms\n",
    "\n",
    "<font color='black'>Next, extract all hypernyms from a synset using its `hypernyms()` method.</font>"
   ]
  },
  {
   "cell_type": "code",
   "execution_count": null,
   "metadata": {},
   "outputs": [],
   "source": [
    "ss = wn.synset('dog.n.01')\n",
    "LsH = sorted([h.name() for h in ss.hypernyms()])\n",
    "print(f'{len(LsH)} hypernyms: ', ', '.join(LsH))"
   ]
  },
  {
   "cell_type": "markdown",
   "metadata": {},
   "source": [
    "### Similarity Between Synsets\n",
    "\n",
    "<font color='black'>The hierarchical relationship between synsets can be represented in a tree structure. By measuring the shortest path between two synsets in this tree with WordNet's `path_similarity()` method, you can calculate their similarity. [Many algorithms](https://www.cs.princeton.edu/courses/archive/spring11/cos226/assignments/wordnet.html) compute the shortest path between synsets. When their results are rescaled to the [0,1] interval, 1 indicates the highest similarity.\n",
    "\n",
    "The cell below computes the similarities between two synset pairs: \"dog,\" \"cat\" and \"dog,\" \"puppy\". As expected, the sense \"dog\" is closer to the sense \"puppy\" than the sense \"cat.\"</green>"
   ]
  },
  {
   "cell_type": "code",
   "execution_count": null,
   "metadata": {},
   "outputs": [],
   "source": [
    "print('> dog.n.01:', wn.synset('dog.n.01').definition())\n",
    "print('> cat.n.01:', wn.synset('cat.n.01').definition())\n",
    "print('> puppy.n.01:', wn.synset('puppy.n.01').definition())\n",
    "\n",
    "print('dog-cat:', wn.path_similarity(wn.synset('dog.n.01'), wn.synset('cat.n.01')))\n",
    "print('dog-puppy:', wn.path_similarity(wn.synset('dog.n.01'), wn.synset('puppy.n.01')) )"
   ]
  },
  {
   "cell_type": "markdown",
   "metadata": {},
   "source": [
    "### Hypernym Paths\n",
    "\n",
    "<font color='black'>By following a path of hypernyms, you will eventually reach a single generic node (root `entity.n.01`) at the top of the **directed acyclic graph (DAG)**, given that cycles are absent and all relations are directional. You can use a synset's `hypernym_paths()` method to visualize the path from the root to any node. Multiple paths to any node may exist. \n",
    "\n",
    "The example below shows three paths from the root to the node `puppy.n.01`. All paths are identical until the `animal.n.01` node, but then branch out as following:\n",
    "1. `chordate.n.01➤ ... ➤dog.n.01➤puppy.n.01`\n",
    "1. `domestic_animal.n.01➤dog.n.01➤puppy.n.01`\n",
    "1. `young.n.01➤young_mammal.n.01➤pup.n.01➤puppy.n.01`\n",
    "\n",
    "Notice that each path finally completes at `puppy.n.01`, as desired.</font>"
   ]
  },
  {
   "cell_type": "code",
   "execution_count": null,
   "metadata": {},
   "outputs": [],
   "source": [
    "ssHyperPaths = wn.synset('puppy.n.01').hypernym_paths()\n",
    "_ = [print('➤'.join([ss.name() for ss in path])+'\\n') for path in ssHyperPaths]"
   ]
  },
  {
   "cell_type": "markdown",
   "metadata": {},
   "source": [
    "<font color='black'>Another example shows paths to the `tiger.n.01` node. Note that this synset refers to a person, not animal (which is `tiger.n.02`).</font>"
   ]
  },
  {
   "cell_type": "code",
   "execution_count": null,
   "metadata": {},
   "outputs": [],
   "source": [
    "print(wn.synset('tiger.n.01').definition())\n",
    "ssHyperPaths = wn.synset('tiger.n.01').hypernym_paths()\n",
    "_ = [print('➤'.join([ss.name() for ss in path])) for path in ssHyperPaths]"
   ]
  },
  {
   "cell_type": "markdown",
   "metadata": {},
   "source": [
    "## Lexical Semantic Relationships: Holonyms and Meronyms\n",
    "\n",
    "<font color='black'>Sometimes, you may want to evaluate whether two words have a part/whole relationship, where **holonym** refers to the whole and **meronym** refers to the part. For example, \"lettuce\" and \"tomato\" are meronyms of \"sandwich,\" which is their holonym.\n",
    "\n",
    "WordNet identifies several types of meronym/holonym relationships:\n",
    "\n",
    "1. **member**, where an object A is a member of an object B\n",
    "1. **part**, where an object A is a component of object B\n",
    "1. **substance**, where an object A is made up of an object B\n",
    "\n",
    "In the example below, a tree is a member of a forest, has a crown and is made of some type of wood.</font>"
   ]
  },
  {
   "cell_type": "code",
   "execution_count": null,
   "metadata": {},
   "outputs": [],
   "source": [
    "def HolMer(sSSName):\n",
    "    ss = wn.synset(sSSName)\n",
    "    print(ss.name())\n",
    "    print('Members:')\n",
    "    print('  holonyms:', ', '.join([ss.name() for ss in ss.member_holonyms()]))\n",
    "    print('  meronyms:', ', '.join([ss.name() for ss in ss.member_meronyms()]))\n",
    "    print('Part:')\n",
    "    print('  holonyms:', ', '.join([ss.name() for ss in ss.part_holonyms()]))\n",
    "    print('  meronyms:', ', '.join([ss.name() for ss in ss.part_meronyms()]))\n",
    "    print('Substance:')\n",
    "    print('  holonyms:', ', '.join([ss.name() for ss in ss.substance_holonyms()]))\n",
    "    print('  meronyms:', ', '.join([ss.name() for ss in ss.substance_meronyms()]))\n",
    "\n",
    "ss = HolMer('tree.n.01')"
   ]
  },
  {
   "cell_type": "markdown",
   "metadata": {},
   "source": [
    "In another example, water makes up ice and is made up of hydrogen and oxygen."
   ]
  },
  {
   "cell_type": "code",
   "execution_count": null,
   "metadata": {},
   "outputs": [],
   "source": [
    "ss = HolMer('water.n.01')"
   ]
  },
  {
   "cell_type": "markdown",
   "metadata": {},
   "source": [
    "Here, an atom is part of a molecule and consists of a nucleus."
   ]
  },
  {
   "cell_type": "code",
   "execution_count": null,
   "metadata": {},
   "outputs": [],
   "source": [
    "ss = HolMer('atom.n.01')"
   ]
  },
  {
   "cell_type": "markdown",
   "metadata": {},
   "source": [
    "In this example, a DNA consists of base pairs such as A(denine), C, G, and T"
   ]
  },
  {
   "cell_type": "code",
   "execution_count": null,
   "metadata": {},
   "outputs": [],
   "source": [
    "ss = HolMer('dna.n.01')"
   ]
  },
  {
   "cell_type": "markdown",
   "metadata": {},
   "source": [
    "A fish is a member of a school and conists of a fin."
   ]
  },
  {
   "cell_type": "code",
   "execution_count": null,
   "metadata": {},
   "outputs": [],
   "source": [
    "ss = HolMer('fish.n.01')"
   ]
  },
  {
   "cell_type": "markdown",
   "metadata": {},
   "source": [
    "An ear is part of a head and consists of an eardrum."
   ]
  },
  {
   "cell_type": "code",
   "execution_count": null,
   "metadata": {},
   "outputs": [],
   "source": [
    "ss = HolMer('ear.n.01')"
   ]
  },
  {
   "cell_type": "markdown",
   "metadata": {},
   "source": [
    "A kitchen is part of a dwelling."
   ]
  },
  {
   "cell_type": "code",
   "execution_count": null,
   "metadata": {},
   "outputs": [],
   "source": [
    "ss = HolMer('kitchen.n.01')"
   ]
  },
  {
   "cell_type": "markdown",
   "metadata": {},
   "source": [
    "<hr style=\"border-top: 2px solid #606366; background: transparent;\">\n",
    "\n",
    "# **Optional Practice**\n",
    "\n",
    "<font color='black'>Now you will practice retrieving lexical semantic relationships.\n",
    "\n",
    "As you work through these tasks, check your answers by running your code in the *#check solution here* cell, to see if you’ve gotten the correct result. If you get stuck on a task, click the See **solution** drop-down to view the answer."
   ]
  },
  {
   "cell_type": "markdown",
   "metadata": {},
   "source": [
    "## Task 1\n",
    "\n",
    "<font color='black'>Print the sequence of entailments beginning with the synset `'erase.v.02'`. In other words, find the name of `'erase.v.02'`'s entailment, then the name of that entailment's entailment, and so on.</font>\n",
    "\n",
    "<b>Hint:</b> You can use the <code>entailments()</code> method of <code>wn()</code> to print entailments of the given synset. Then repeat it for the entailment's synset."
   ]
  },
  {
   "cell_type": "code",
   "execution_count": null,
   "metadata": {},
   "outputs": [],
   "source": [
    "# check solution here"
   ]
  },
  {
   "cell_type": "markdown",
   "metadata": {},
   "source": [
    "<font color=#606366>\n",
    "    <details><summary><font color=#B31B1B>▶ </font>See <b>solution</b>.</summary>\n",
    "<pre class=\"ec\">\n",
    "#Solution 1\n",
    "sse = lambda s: wn.synset(s).entailments()[0].name()\n",
    "print('erase.v.02 ->', sse('erase.v.02'), '->', sse('rub.v.01'), '-> None')\n",
    "\n",
    "#Solution 2\n",
    "s = 'erase.v.02'\n",
    "while wn.synset(s).entailments(): \n",
    "    print(s + ' -> ', end='')\n",
    "    s=wn.synset(s).entailments()[0].name()   \n",
    "print(s + '-> None')\n",
    "</pre>\n",
    "</details> \n",
    "</font>\n",
    "\n",
    "<hr>"
   ]
  },
  {
   "cell_type": "markdown",
   "metadata": {},
   "source": [
    "## Task 2\n",
    "\n",
    "Compute the fraction of verbs with entailments (as fraction of all verbs) in WordNet.\n",
    "\n",
    "<b>Hint:</b> You can use the <code>all_synsets()</code> method of <code>wn</code> object to identify all verb synsets. Then count those that have any entailments. Given the two counts, you can then find the fraction."
   ]
  },
  {
   "cell_type": "code",
   "execution_count": null,
   "metadata": {},
   "outputs": [],
   "source": [
    "# check solution here"
   ]
  },
  {
   "cell_type": "markdown",
   "metadata": {},
   "source": [
    "<font color=#606366>\n",
    "    <details><summary><font color=#B31B1B>▶ </font>See <b>solution</b>.</summary>\n",
    "<pre class=\"ec\">\n",
    "N_ent = sum(1 for ss in wn.all_synsets(pos='v') if len(ss.entailments()) > 0)\n",
    "N_all = len([ss for ss in wn.all_synsets(pos='v')])  # count of all verbs\n",
    "N_ent / N_all # count of verbs with entailments / N_all\n",
    "</pre>\n",
    "</details> \n",
    "</font>\n",
    "\n",
    "<hr>\n",
    "\n",
    "\n"
   ]
  },
  {
   "cell_type": "markdown",
   "metadata": {},
   "source": [
    "## Task 3\n",
    "\n",
    "<font color='black'>Find all verbs having more than one entailment. Print the verb's count of entailments, the name of the verb, and the list of its entailments.</font>\n",
    "\n",
    "<font color='black'><b>Hint:</b> You can use the <code>all_synsets()</code> method of <code>wn</code> object to identify all verb synsets. Then print those having more than one entailment.</font>"
   ]
  },
  {
   "cell_type": "code",
   "execution_count": null,
   "metadata": {},
   "outputs": [],
   "source": [
    "# check solution here"
   ]
  },
  {
   "cell_type": "markdown",
   "metadata": {},
   "source": [
    "<font color=#606366>\n",
    "    <details><summary><font color=#B31B1B>▶ </font>See <b>solution</b>.</summary>\n",
    "<pre class=\"ec\">\n",
    "SS = [(len(ss.entailments()), ss.name(), ss.entailments()) for ss in wn.all_synsets(pos='v') if len(ss.entailments())>1]\n",
    "sorted(SS)\n",
    "</pre>\n",
    "</details> \n",
    "</font>\n",
    "\n",
    "<hr>\n",
    "\n",
    "\n"
   ]
  },
  {
   "cell_type": "markdown",
   "metadata": {},
   "source": [
    "## Task 4\n",
    "\n",
    "Find antonyms for the first lemmas in synsets `'up.r.01'`, `'left.a.01'`, `'rise.v.01'`, and `'dog.n.01'`.\n",
    "\n",
    "<b>Hint:</b> You can use the <code>antonyms()</code> method on the first element in the <code>lemmas()</code> list for each given synset object to identify all antonyms. "
   ]
  },
  {
   "cell_type": "code",
   "execution_count": null,
   "metadata": {},
   "outputs": [],
   "source": [
    "# check solution here"
   ]
  },
  {
   "cell_type": "markdown",
   "metadata": {},
   "source": [
    "<font color=#606366>\n",
    "    <details><summary><font color=#B31B1B>▶ </font>See <b>solution</b>.</summary>\n",
    "<pre class=\"ec\">\n",
    "for s in ['up.r.01', 'left.a.01', 'rise.v.01', 'dog.n.01']:\n",
    "    print(wn.synset(s).lemmas()[0].antonyms())\n",
    "</pre>\n",
    "</details> \n",
    "</font>\n",
    "\n",
    "<hr>\n",
    "\n",
    "\n"
   ]
  },
  {
   "cell_type": "markdown",
   "metadata": {},
   "source": [
    "## Task 5\n",
    "\n",
    "Find all hyponyms of `'teacher.n.01'`, `'ant.n.01'`, and `'rise.v.01'`.\n",
    "\n",
    "<b>Hint:</b> You can use the <code>hyponyms()</code> method of a synset object as shown in the examples above."
   ]
  },
  {
   "cell_type": "code",
   "execution_count": null,
   "metadata": {},
   "outputs": [],
   "source": [
    "# check solution here"
   ]
  },
  {
   "cell_type": "markdown",
   "metadata": {},
   "source": [
    "<font color=#606366>\n",
    "    <details><summary><font color=#B31B1B>▶ </font>See <b>solution</b>.</summary>\n",
    "<pre class=\"ec\">\n",
    "for s in ['teacher.n.01', 'ant.n.01', 'rise.v.01']:\n",
    "    ss = wn.synset(s)\n",
    "    print('>', ss.name(),':', ','.join(h.name() for h in ss.hyponyms()))\n",
    "</pre>\n",
    "</details> \n",
    "</font>\n",
    "\n",
    "<hr>\n",
    "\n",
    "\n"
   ]
  },
  {
   "cell_type": "markdown",
   "metadata": {},
   "source": [
    "## Task 6\n",
    "\n",
    "Compute a path similarity between rat (rodent) and bat (mammal) and then beween rat and bat (club used in baseball). Which senses are closer?\n",
    "\n",
    "<b>Hint:</b> First, you need to print descriptions of all available synsets for rat and bat and pick those that correspond to the mammals and a club. Then you can use the <code>path_similarity()</code> method of <code>wn</code> object to compute a path similarity among two synsets. "
   ]
  },
  {
   "cell_type": "code",
   "execution_count": null,
   "metadata": {},
   "outputs": [],
   "source": [
    "# check solution here"
   ]
  },
  {
   "cell_type": "markdown",
   "metadata": {},
   "source": [
    "<font color=#606366>\n",
    "    <details><summary><font color=#B31B1B>▶ </font>See <b>solution</b>.</summary>\n",
    "<pre class=\"ec\">\n",
    "_ = [print('>', ss.name(), ':', ss.definition()) for ss in wn.synsets(lemma='bat')]\n",
    "print('rat-bat mammal:', wn.path_similarity(wn.synset('rat.n.01'), wn.synset('bat.n.01')))\n",
    "print('rat-bat club:', wn.path_similarity(wn.synset('rat.n.01'), wn.synset('bat.n.05')))\n",
    "</pre>\n",
    "</details> \n",
    "</font>\n",
    "\n",
    "<hr>\n",
    "\n",
    "\n"
   ]
  }
 ],
 "metadata": {
  "anaconda-cloud": {},
  "kernelspec": {
   "display_name": "Python 3",
   "language": "python",
   "name": "python3"
  },
  "language_info": {
   "codemirror_mode": {
    "name": "ipython",
    "version": 3
   },
   "file_extension": ".py",
   "mimetype": "text/x-python",
   "name": "python",
   "nbconvert_exporter": "python",
   "pygments_lexer": "ipython3",
   "version": "3.6.7"
  }
 },
 "nbformat": 4,
 "nbformat_minor": 1
}
