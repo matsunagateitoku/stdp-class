{
 "cells": [
  {
   "cell_type": "markdown",
   "metadata": {},
   "source": [
    "# **Setup**\n",
    "\n",
    "<font color='black'>In this notebook, you will be using the NLTK's [`vader`](https://www.nltk.org/_modules/nltk/sentiment/vader.html) library, which contains the [`SentimentIntensityAnalyzer()`](https://www.nltk.org/api/nltk.sentiment.vader.html#nltk.sentiment.vader.SentimentIntensityAnalyzer) method used to assign a sentiment score to a given text. "
   ]
  },
  {
   "cell_type": "code",
   "execution_count": 1,
   "metadata": {},
   "outputs": [],
   "source": [
    "%reset -f\n",
    "from IPython.core.interactiveshell import InteractiveShell as IS\n",
    "IS.ast_node_interactivity = \"all\"    # allows multiple outputs from a cell\n",
    "import numpy as np, pandas as pd, nltk, seaborn as sns, matplotlib.pyplot as plt\n",
    "from nltk.sentiment.vader import SentimentIntensityAnalyzer\n",
    "from nltk.corpus import sentence_polarity\n",
    "from sklearn.metrics import confusion_matrix, classification_report\n",
    "pd.set_option('max_colwidth', 0, 'max_columns', 20)\n",
    "_ = nltk.download(['vader_lexicon', 'sentence_polarity'], quiet=True)\n",
    "\n",
    "sia = SentimentIntensityAnalyzer()"
   ]
  },
  {
   "cell_type": "markdown",
   "metadata": {},
   "source": [
    "<hr style=\"border-top: 2px solid #606366; background: transparent;\">\n",
    "\n",
    "# **Review**\n",
    "\n",
    "<font color='black'>The Valence Aware Dictionary for sEntiment Reasoning ([VADER](https://ojs.aaai.org/index.php/ICWSM/article/view/14550)) was developed in 2014 by C.J. Hutto and Eric Gilbert from Georgia Institute of Technology. It is a fast, simple, verifiable, and reasonably effective tool for identifying the degree of sentiment in short messages.\n",
    "\n",
    "<font color='black'>Many sentiment analysis tools use lexicons (i.e., vocabulary) of key words with known sentiments. These can be assigned polarities (i.e., a binary sentiment, negative or positive) or a valence (i.e., a continuous polarity in some interval, say $[-1,1]$). Because sentiment is assigned by experts or the crowdsourcing community (such as Amazon Mechanical Turks), this process is expensive and laborious. Hence, many of these tools extend their lexicon to include previously labeled words. VADER also extends the well known Linguistic Inquiry and Word Count ([LIWC](http://downloads.liwc.net.s3.amazonaws.com/LIWC2015_OperatorManual.pdf)), which identified 4500 words in at least one of 76 categories, including 406 words with positive emotions (love, nice, good great) and 499 words with negative emotions (hurt, ugly, sad, bad, worse).\n",
    "\n",
    "<font color='black'>VADER's unique contribution lies in identifying and implementing several human-curated rules extending the popular lexicons, including LIWC, Affective Norms for English Words ([ANEW](https://pdodds.w3.uvm.edu/teaching/courses/2009-08UVM-300/docs/others/everything/bradley1999a.pdf), 1034 valence-rated words on the scale 1-9), and general inquirer ([GI](https://psycnet.apa.org/record/1967-04539-000), 11K words, 1915 positive, 2291 negative). These lexicons were enlarged with Western-style emoticons (such as :-) ), acronyms and initialisms (LOL, WTF), and commonly used slang (such as nah, meh, yay). The authors then used AMC raters to reduce a lexicon with 9000 words to the validated lexicon with 7500 words. The rules accounted for intensity of emotions rising from:\n",
    "\n",
    "1. Punctuation. For example, the exclamation signs are thought to increase the intensity\n",
    "1. Capitalization, which is expected to raise the intensity\n",
    "1. Degree modifies. These include words like \"very,\" \"marginally,\" \"extremely\"\n",
    "1. Constructive junction of words like \"but\" and \"however\", which may result in a sentiment dominance of the following phrase\n",
    "1. Negation, which are likely to flip the sentiment polarity\n",
    "\n",
    "\n",
    "## Exploring VADER's Lexicon\n",
    "\n",
    "<font color='black'>As noted below, VADER's lexicon contains ~7500 words, including emoticons. Each word is a key in a dictionary with an assigned valence score ranging from -4 to 4. "
   ]
  },
  {
   "cell_type": "code",
   "execution_count": 2,
   "metadata": {},
   "outputs": [
    {
     "name": "stdout",
     "output_type": "stream",
     "text": [
      "<class 'dict'>, 7502 words {'$:': -1.5, '%)': -0.4, '%-)': -1.5, '&-:': -0.4, '&:': -0.7, \" ...\n"
     ]
    }
   ],
   "source": [
    "print(f'{type(sia.lexicon)}, {len(sia.lexicon)} words', str(sia.lexicon)[:64], '...')"
   ]
  },
  {
   "cell_type": "markdown",
   "metadata": {},
   "source": [
    "<font color='black'>Here, order all words by their valence score, with the most positive words appearing first. "
   ]
  },
  {
   "cell_type": "code",
   "execution_count": 3,
   "metadata": {},
   "outputs": [
    {
     "data": {
      "text/html": [
       "<div>\n",
       "<style scoped>\n",
       "    .dataframe tbody tr th:only-of-type {\n",
       "        vertical-align: middle;\n",
       "    }\n",
       "\n",
       "    .dataframe tbody tr th {\n",
       "        vertical-align: top;\n",
       "    }\n",
       "\n",
       "    .dataframe thead th {\n",
       "        text-align: right;\n",
       "    }\n",
       "</style>\n",
       "<table border=\"1\" class=\"dataframe\">\n",
       "  <thead>\n",
       "    <tr style=\"text-align: right;\">\n",
       "      <th></th>\n",
       "      <th>ilu</th>\n",
       "      <th>ily</th>\n",
       "      <th>aml</th>\n",
       "      <th>magnificently</th>\n",
       "      <th>sweetheart</th>\n",
       "      <th>euphoria</th>\n",
       "      <th>lya</th>\n",
       "      <th>ecstacy</th>\n",
       "      <th>cheerfullest</th>\n",
       "      <th>best</th>\n",
       "      <th>...</th>\n",
       "      <th>raped</th>\n",
       "      <th>hatefulness</th>\n",
       "      <th>fu</th>\n",
       "      <th>murder</th>\n",
       "      <th>terrorist</th>\n",
       "      <th>rape</th>\n",
       "      <th>kill</th>\n",
       "      <th>raping</th>\n",
       "      <th>slavery</th>\n",
       "      <th>rapist</th>\n",
       "    </tr>\n",
       "  </thead>\n",
       "  <tbody>\n",
       "    <tr>\n",
       "      <th>score</th>\n",
       "      <td>3.4</td>\n",
       "      <td>3.4</td>\n",
       "      <td>3.4</td>\n",
       "      <td>3.4</td>\n",
       "      <td>3.3</td>\n",
       "      <td>3.3</td>\n",
       "      <td>3.3</td>\n",
       "      <td>3.3</td>\n",
       "      <td>3.2</td>\n",
       "      <td>3.2</td>\n",
       "      <td>...</td>\n",
       "      <td>-3.6</td>\n",
       "      <td>-3.6</td>\n",
       "      <td>-3.7</td>\n",
       "      <td>-3.7</td>\n",
       "      <td>-3.7</td>\n",
       "      <td>-3.7</td>\n",
       "      <td>-3.7</td>\n",
       "      <td>-3.8</td>\n",
       "      <td>-3.8</td>\n",
       "      <td>-3.9</td>\n",
       "    </tr>\n",
       "  </tbody>\n",
       "</table>\n",
       "<p>1 rows × 7502 columns</p>\n",
       "</div>"
      ],
      "text/plain": [
       "       ilu  ily  aml  magnificently  sweetheart  euphoria  lya  ecstacy  \\\n",
       "score  3.4  3.4  3.4  3.4            3.3         3.3       3.3  3.3       \n",
       "\n",
       "       cheerfullest  best  ...  raped  hatefulness   fu  murder  terrorist  \\\n",
       "score  3.2           3.2   ... -3.6   -3.6         -3.7 -3.7    -3.7         \n",
       "\n",
       "       rape  kill  raping  slavery  rapist  \n",
       "score -3.7  -3.7  -3.8    -3.8     -3.9     \n",
       "\n",
       "[1 rows x 7502 columns]"
      ]
     },
     "execution_count": 3,
     "metadata": {},
     "output_type": "execute_result"
    }
   ],
   "source": [
    "df = pd.DataFrame(sia.lexicon, index=['score']).T.sort_values('score', ascending=False)\n",
    "df.T"
   ]
  },
  {
   "cell_type": "markdown",
   "metadata": {},
   "source": [
    "<font color='black'>Note that degree modifiers also have a valence score. Thus, `magnificently` is rated 3.4. Still, you would expect VADER to derive a negative sentiment for the phrase \"magnificently horrifying\". Also, while the word \"*kill*\" has a negative sentiment score, you might expect the expression \"kill the boredom\" to have some positive sentiment.\n",
    "\n",
    "The tokens in VADER's lexicon have continuous valence scores, most of which are clustered around -1.5 and 1.8. We would consider this a bi-modal distribution with counts around left mode being greater suggesting a larger number of negative words. On the other hand, positive words have greater valence on average; and, hence, the mode is at a higher (by magnitude) valence score (i.e., 1.8 vs 1.5). One can also evaluate whether the words with near-zero valence are almost lacking sentiment."
   ]
  },
  {
   "cell_type": "code",
   "execution_count": 4,
   "metadata": {},
   "outputs": [
    {
     "data": {
      "image/png": "[encoded data removed]",
      "text/plain": [
       "<Figure size 1440x216 with 1 Axes>"
      ]
     },
     "metadata": {
      "needs_background": "light"
     },
     "output_type": "display_data"
    }
   ],
   "source": [
    "df.score.hist(figsize=(20,3), bins=100);    # shows bimodal distribution (two clusters of sentiments)"
   ]
  },
  {
   "cell_type": "markdown",
   "metadata": {},
   "source": [
    "<font color='black'>The tokens in VADER's lexicon have continuous valence scores, most of which are clustered around -1.5 and 1.8. We would consider this a bi-modal distribution with counts around left mode being greater suggesting a larger number of negative words. On the other hand, positive words have greater valence on average; and, hence, the mode is at a higher (by magnitude) valence score (i.e., 1.8 vs 1.5). You could also evaluate whether the words with near-zero valence are almost lacking sentiment."
   ]
  },
  {
   "cell_type": "markdown",
   "metadata": {},
   "source": [
    "<font color='black'>Next, examine the following emoticons (emotion icons), slang, and words included in VADER's lexicon. For example, `143`=I love you, `8D`=happy face, `sweet<3`=sweetheart, `2g2b4g`=Too good to be forgotten, `ly4e`=Love You Forever"
   ]
  },
  {
   "cell_type": "code",
   "execution_count": 5,
   "metadata": {},
   "outputs": [
    {
     "data": {
      "text/html": [
       "<div>\n",
       "<style scoped>\n",
       "    .dataframe tbody tr th:only-of-type {\n",
       "        vertical-align: middle;\n",
       "    }\n",
       "\n",
       "    .dataframe tbody tr th {\n",
       "        vertical-align: top;\n",
       "    }\n",
       "\n",
       "    .dataframe thead th {\n",
       "        text-align: right;\n",
       "    }\n",
       "</style>\n",
       "<table border=\"1\" class=\"dataframe\">\n",
       "  <thead>\n",
       "    <tr style=\"text-align: right;\">\n",
       "      <th></th>\n",
       "      <th>143</th>\n",
       "      <th>sweet&lt;3</th>\n",
       "      <th>8d</th>\n",
       "      <th>2g2b4g</th>\n",
       "      <th>(-:0</th>\n",
       "      <th>:-))</th>\n",
       "      <th>ly4e</th>\n",
       "      <th>gr8</th>\n",
       "      <th>:'-)</th>\n",
       "      <th>ily2</th>\n",
       "      <th>...</th>\n",
       "      <th>^urs</th>\n",
       "      <th>d;</th>\n",
       "      <th>182</th>\n",
       "      <th>&gt;;(</th>\n",
       "      <th>v.v</th>\n",
       "      <th>&lt;/3</th>\n",
       "      <th>4q</th>\n",
       "      <th>187</th>\n",
       "      <th>d:&lt;</th>\n",
       "      <th>d8</th>\n",
       "    </tr>\n",
       "  </thead>\n",
       "  <tbody>\n",
       "    <tr>\n",
       "      <th>score</th>\n",
       "      <td>3.2</td>\n",
       "      <td>3.0</td>\n",
       "      <td>2.9</td>\n",
       "      <td>2.8</td>\n",
       "      <td>2.8</td>\n",
       "      <td>2.8</td>\n",
       "      <td>2.7</td>\n",
       "      <td>2.7</td>\n",
       "      <td>2.7</td>\n",
       "      <td>2.6</td>\n",
       "      <td>...</td>\n",
       "      <td>-2.8</td>\n",
       "      <td>-2.9</td>\n",
       "      <td>-2.9</td>\n",
       "      <td>-2.9</td>\n",
       "      <td>-2.9</td>\n",
       "      <td>-3.0</td>\n",
       "      <td>-3.1</td>\n",
       "      <td>-3.1</td>\n",
       "      <td>-3.2</td>\n",
       "      <td>-3.2</td>\n",
       "    </tr>\n",
       "  </tbody>\n",
       "</table>\n",
       "<p>1 rows × 296 columns</p>\n",
       "</div>"
      ],
      "text/plain": [
       "       143  sweet<3   8d  2g2b4g  (-:0  :-))  ly4e  gr8  :'-)  ily2  ...  \\\n",
       "score  3.2  3.0      2.9  2.8     2.8   2.8   2.7   2.7  2.7   2.6   ...   \n",
       "\n",
       "       ^urs   d;  182  >;(  v.v  </3   4q  187  d:<   d8  \n",
       "score -2.8  -2.9 -2.9 -2.9 -2.9 -3.0 -3.1 -3.1 -3.2 -3.2  \n",
       "\n",
       "[1 rows x 296 columns]"
      ]
     },
     "execution_count": 5,
     "metadata": {},
     "output_type": "execute_result"
    }
   ],
   "source": [
    "LsNonWords = [s for s in df.index if not s.isalpha()]\n",
    "df.loc[LsNonWords].T"
   ]
  },
  {
   "cell_type": "markdown",
   "metadata": {},
   "source": [
    "## Simple Application of VADER Analyzer\n",
    "\n",
    "<font color='black'>Next, apply an analyzer with `sia.polarity_scores()`. By passing some text, you can retrieve scores for text's positivity, negativity, and neutrality as well as compound scores for all three sentiments. \n",
    "\n",
    "<font color='black'>However, before implementing the VADER analyzer, you should be familiar with what it can and cannot evaluate. The examples below demonstrate expected and unexpected valence scores for seemingly similar sentences. It's a good idea to first assess your corpora for the needed preprocessing in order to prepare the text for a higher quality evaluation by VADER."
   ]
  },
  {
   "cell_type": "code",
   "execution_count": 6,
   "metadata": {},
   "outputs": [
    {
     "data": {
      "text/html": [
       "<style  type=\"text/css\" >\n",
       "#T_7acd5478_fc3e_11ef_a954_000067ca82ddrow0_col0,#T_7acd5478_fc3e_11ef_a954_000067ca82ddrow0_col3,#T_7acd5478_fc3e_11ef_a954_000067ca82ddrow0_col4,#T_7acd5478_fc3e_11ef_a954_000067ca82ddrow0_col5,#T_7acd5478_fc3e_11ef_a954_000067ca82ddrow0_col6,#T_7acd5478_fc3e_11ef_a954_000067ca82ddrow0_col7,#T_7acd5478_fc3e_11ef_a954_000067ca82ddrow0_col8,#T_7acd5478_fc3e_11ef_a954_000067ca82ddrow0_col9,#T_7acd5478_fc3e_11ef_a954_000067ca82ddrow1_col0,#T_7acd5478_fc3e_11ef_a954_000067ca82ddrow1_col1,#T_7acd5478_fc3e_11ef_a954_000067ca82ddrow1_col2,#T_7acd5478_fc3e_11ef_a954_000067ca82ddrow2_col1,#T_7acd5478_fc3e_11ef_a954_000067ca82ddrow2_col7,#T_7acd5478_fc3e_11ef_a954_000067ca82ddrow2_col10,#T_7acd5478_fc3e_11ef_a954_000067ca82ddrow2_col11,#T_7acd5478_fc3e_11ef_a954_000067ca82ddrow3_col7{\n",
       "            background-color:  #dddcdc;\n",
       "            color:  #000000;\n",
       "        }#T_7acd5478_fc3e_11ef_a954_000067ca82ddrow0_col1,#T_7acd5478_fc3e_11ef_a954_000067ca82ddrow1_col7,#T_7acd5478_fc3e_11ef_a954_000067ca82ddrow2_col0{\n",
       "            background-color:  #b40426;\n",
       "            color:  #f1f1f1;\n",
       "        }#T_7acd5478_fc3e_11ef_a954_000067ca82ddrow0_col2{\n",
       "            background-color:  #f59d7e;\n",
       "            color:  #000000;\n",
       "        }#T_7acd5478_fc3e_11ef_a954_000067ca82ddrow0_col10{\n",
       "            background-color:  #f29072;\n",
       "            color:  #000000;\n",
       "        }#T_7acd5478_fc3e_11ef_a954_000067ca82ddrow0_col11,#T_7acd5478_fc3e_11ef_a954_000067ca82ddrow3_col3{\n",
       "            background-color:  #f6a586;\n",
       "            color:  #000000;\n",
       "        }#T_7acd5478_fc3e_11ef_a954_000067ca82ddrow0_col12,#T_7acd5478_fc3e_11ef_a954_000067ca82ddrow2_col13,#T_7acd5478_fc3e_11ef_a954_000067ca82ddrow3_col12{\n",
       "            background-color:  #f5c1a9;\n",
       "            color:  #000000;\n",
       "        }#T_7acd5478_fc3e_11ef_a954_000067ca82ddrow0_col13{\n",
       "            background-color:  #f7bca1;\n",
       "            color:  #000000;\n",
       "        }#T_7acd5478_fc3e_11ef_a954_000067ca82ddrow1_col3{\n",
       "            background-color:  #f5c4ac;\n",
       "            color:  #000000;\n",
       "        }#T_7acd5478_fc3e_11ef_a954_000067ca82ddrow1_col4{\n",
       "            background-color:  #f2c9b4;\n",
       "            color:  #000000;\n",
       "        }#T_7acd5478_fc3e_11ef_a954_000067ca82ddrow1_col5{\n",
       "            background-color:  #f4c6af;\n",
       "            color:  #000000;\n",
       "        }#T_7acd5478_fc3e_11ef_a954_000067ca82ddrow1_col6{\n",
       "            background-color:  #f2cab5;\n",
       "            color:  #000000;\n",
       "        }#T_7acd5478_fc3e_11ef_a954_000067ca82ddrow1_col8{\n",
       "            background-color:  #f7b89c;\n",
       "            color:  #000000;\n",
       "        }#T_7acd5478_fc3e_11ef_a954_000067ca82ddrow1_col9{\n",
       "            background-color:  #f2cbb7;\n",
       "            color:  #000000;\n",
       "        }#T_7acd5478_fc3e_11ef_a954_000067ca82ddrow1_col10{\n",
       "            background-color:  #f6a283;\n",
       "            color:  #000000;\n",
       "        }#T_7acd5478_fc3e_11ef_a954_000067ca82ddrow1_col11,#T_7acd5478_fc3e_11ef_a954_000067ca82ddrow3_col4{\n",
       "            background-color:  #f18d6f;\n",
       "            color:  #000000;\n",
       "        }#T_7acd5478_fc3e_11ef_a954_000067ca82ddrow1_col12{\n",
       "            background-color:  #f6bda2;\n",
       "            color:  #000000;\n",
       "        }#T_7acd5478_fc3e_11ef_a954_000067ca82ddrow1_col13{\n",
       "            background-color:  #f7a98b;\n",
       "            color:  #000000;\n",
       "        }#T_7acd5478_fc3e_11ef_a954_000067ca82ddrow2_col2{\n",
       "            background-color:  #f39577;\n",
       "            color:  #000000;\n",
       "        }#T_7acd5478_fc3e_11ef_a954_000067ca82ddrow2_col3{\n",
       "            background-color:  #de614d;\n",
       "            color:  #000000;\n",
       "        }#T_7acd5478_fc3e_11ef_a954_000067ca82ddrow2_col4{\n",
       "            background-color:  #d85646;\n",
       "            color:  #000000;\n",
       "        }#T_7acd5478_fc3e_11ef_a954_000067ca82ddrow2_col5{\n",
       "            background-color:  #dc5d4a;\n",
       "            color:  #000000;\n",
       "        }#T_7acd5478_fc3e_11ef_a954_000067ca82ddrow2_col6{\n",
       "            background-color:  #d75445;\n",
       "            color:  #000000;\n",
       "        }#T_7acd5478_fc3e_11ef_a954_000067ca82ddrow2_col8{\n",
       "            background-color:  #e7745b;\n",
       "            color:  #000000;\n",
       "        }#T_7acd5478_fc3e_11ef_a954_000067ca82ddrow2_col9{\n",
       "            background-color:  #d65244;\n",
       "            color:  #000000;\n",
       "        }#T_7acd5478_fc3e_11ef_a954_000067ca82ddrow2_col12{\n",
       "            background-color:  #f7a688;\n",
       "            color:  #000000;\n",
       "        }#T_7acd5478_fc3e_11ef_a954_000067ca82ddrow3_col0{\n",
       "            background-color:  #f7ac8e;\n",
       "            color:  #000000;\n",
       "        }#T_7acd5478_fc3e_11ef_a954_000067ca82ddrow3_col1{\n",
       "            background-color:  #b1cbfc;\n",
       "            color:  #000000;\n",
       "        }#T_7acd5478_fc3e_11ef_a954_000067ca82ddrow3_col2{\n",
       "            background-color:  #e3d9d3;\n",
       "            color:  #000000;\n",
       "        }#T_7acd5478_fc3e_11ef_a954_000067ca82ddrow3_col5{\n",
       "            background-color:  #f49a7b;\n",
       "            color:  #000000;\n",
       "        }#T_7acd5478_fc3e_11ef_a954_000067ca82ddrow3_col6{\n",
       "            background-color:  #ef886b;\n",
       "            color:  #000000;\n",
       "        }#T_7acd5478_fc3e_11ef_a954_000067ca82ddrow3_col8,#T_7acd5478_fc3e_11ef_a954_000067ca82ddrow3_col9{\n",
       "            background-color:  #ec7f63;\n",
       "            color:  #000000;\n",
       "        }#T_7acd5478_fc3e_11ef_a954_000067ca82ddrow3_col10,#T_7acd5478_fc3e_11ef_a954_000067ca82ddrow3_col11{\n",
       "            background-color:  #a9c6fd;\n",
       "            color:  #000000;\n",
       "        }#T_7acd5478_fc3e_11ef_a954_000067ca82ddrow3_col13{\n",
       "            background-color:  #d4dbe6;\n",
       "            color:  #000000;\n",
       "        }</style><table id=\"T_7acd5478_fc3e_11ef_a954_000067ca82dd\" ><thead>    <tr>        <th class=\"blank level0\" ></th>        <th class=\"col_heading level0 col0\" >Yes</th>        <th class=\"col_heading level0 col1\" >No</th>        <th class=\"col_heading level0 col2\" >Yes :-(</th>        <th class=\"col_heading level0 col3\" >good idea</th>        <th class=\"col_heading level0 col4\" >GOOD idea</th>        <th class=\"col_heading level0 col5\" >good idea!</th>        <th class=\"col_heading level0 col6\" >good idea!!!</th>        <th class=\"col_heading level0 col7\" >idea's good!!!!!!!!</th>        <th class=\"col_heading level0 col8\" >idea's good !!!!!!!!</th>        <th class=\"col_heading level0 col9\" >good idea!!!!!!!!</th>        <th class=\"col_heading level0 col10\" >not a good idea</th>        <th class=\"col_heading level0 col11\" >it isn't a good idea</th>        <th class=\"col_heading level0 col12\" >good and risky idea</th>        <th class=\"col_heading level0 col13\" >idea is good, but risky</th>    </tr></thead><tbody>\n",
       "                <tr>\n",
       "                        <th id=\"T_7acd5478_fc3e_11ef_a954_000067ca82ddlevel0_row0\" class=\"row_heading level0 row0\" >neg</th>\n",
       "                        <td id=\"T_7acd5478_fc3e_11ef_a954_000067ca82ddrow0_col0\" class=\"data row0 col0\" >0.00</td>\n",
       "                        <td id=\"T_7acd5478_fc3e_11ef_a954_000067ca82ddrow0_col1\" class=\"data row0 col1\" >1.00</td>\n",
       "                        <td id=\"T_7acd5478_fc3e_11ef_a954_000067ca82ddrow0_col2\" class=\"data row0 col2\" >0.48</td>\n",
       "                        <td id=\"T_7acd5478_fc3e_11ef_a954_000067ca82ddrow0_col3\" class=\"data row0 col3\" >0.00</td>\n",
       "                        <td id=\"T_7acd5478_fc3e_11ef_a954_000067ca82ddrow0_col4\" class=\"data row0 col4\" >0.00</td>\n",
       "                        <td id=\"T_7acd5478_fc3e_11ef_a954_000067ca82ddrow0_col5\" class=\"data row0 col5\" >0.00</td>\n",
       "                        <td id=\"T_7acd5478_fc3e_11ef_a954_000067ca82ddrow0_col6\" class=\"data row0 col6\" >0.00</td>\n",
       "                        <td id=\"T_7acd5478_fc3e_11ef_a954_000067ca82ddrow0_col7\" class=\"data row0 col7\" >0.00</td>\n",
       "                        <td id=\"T_7acd5478_fc3e_11ef_a954_000067ca82ddrow0_col8\" class=\"data row0 col8\" >0.00</td>\n",
       "                        <td id=\"T_7acd5478_fc3e_11ef_a954_000067ca82ddrow0_col9\" class=\"data row0 col9\" >0.00</td>\n",
       "                        <td id=\"T_7acd5478_fc3e_11ef_a954_000067ca82ddrow0_col10\" class=\"data row0 col10\" >0.55</td>\n",
       "                        <td id=\"T_7acd5478_fc3e_11ef_a954_000067ca82ddrow0_col11\" class=\"data row0 col11\" >0.45</td>\n",
       "                        <td id=\"T_7acd5478_fc3e_11ef_a954_000067ca82ddrow0_col12\" class=\"data row0 col12\" >0.27</td>\n",
       "                        <td id=\"T_7acd5478_fc3e_11ef_a954_000067ca82ddrow0_col13\" class=\"data row0 col13\" >0.31</td>\n",
       "            </tr>\n",
       "            <tr>\n",
       "                        <th id=\"T_7acd5478_fc3e_11ef_a954_000067ca82ddlevel0_row1\" class=\"row_heading level0 row1\" >neu</th>\n",
       "                        <td id=\"T_7acd5478_fc3e_11ef_a954_000067ca82ddrow1_col0\" class=\"data row1 col0\" >0.00</td>\n",
       "                        <td id=\"T_7acd5478_fc3e_11ef_a954_000067ca82ddrow1_col1\" class=\"data row1 col1\" >0.00</td>\n",
       "                        <td id=\"T_7acd5478_fc3e_11ef_a954_000067ca82ddrow1_col2\" class=\"data row1 col2\" >0.00</td>\n",
       "                        <td id=\"T_7acd5478_fc3e_11ef_a954_000067ca82ddrow1_col3\" class=\"data row1 col3\" >0.26</td>\n",
       "                        <td id=\"T_7acd5478_fc3e_11ef_a954_000067ca82ddrow1_col4\" class=\"data row1 col4\" >0.22</td>\n",
       "                        <td id=\"T_7acd5478_fc3e_11ef_a954_000067ca82ddrow1_col5\" class=\"data row1 col5\" >0.24</td>\n",
       "                        <td id=\"T_7acd5478_fc3e_11ef_a954_000067ca82ddrow1_col6\" class=\"data row1 col6\" >0.21</td>\n",
       "                        <td id=\"T_7acd5478_fc3e_11ef_a954_000067ca82ddrow1_col7\" class=\"data row1 col7\" >1.00</td>\n",
       "                        <td id=\"T_7acd5478_fc3e_11ef_a954_000067ca82ddrow1_col8\" class=\"data row1 col8\" >0.33</td>\n",
       "                        <td id=\"T_7acd5478_fc3e_11ef_a954_000067ca82ddrow1_col9\" class=\"data row1 col9\" >0.20</td>\n",
       "                        <td id=\"T_7acd5478_fc3e_11ef_a954_000067ca82ddrow1_col10\" class=\"data row1 col10\" >0.45</td>\n",
       "                        <td id=\"T_7acd5478_fc3e_11ef_a954_000067ca82ddrow1_col11\" class=\"data row1 col11\" >0.56</td>\n",
       "                        <td id=\"T_7acd5478_fc3e_11ef_a954_000067ca82ddrow1_col12\" class=\"data row1 col12\" >0.30</td>\n",
       "                        <td id=\"T_7acd5478_fc3e_11ef_a954_000067ca82ddrow1_col13\" class=\"data row1 col13\" >0.42</td>\n",
       "            </tr>\n",
       "            <tr>\n",
       "                        <th id=\"T_7acd5478_fc3e_11ef_a954_000067ca82ddlevel0_row2\" class=\"row_heading level0 row2\" >pos</th>\n",
       "                        <td id=\"T_7acd5478_fc3e_11ef_a954_000067ca82ddrow2_col0\" class=\"data row2 col0\" >1.00</td>\n",
       "                        <td id=\"T_7acd5478_fc3e_11ef_a954_000067ca82ddrow2_col1\" class=\"data row2 col1\" >0.00</td>\n",
       "                        <td id=\"T_7acd5478_fc3e_11ef_a954_000067ca82ddrow2_col2\" class=\"data row2 col2\" >0.52</td>\n",
       "                        <td id=\"T_7acd5478_fc3e_11ef_a954_000067ca82ddrow2_col3\" class=\"data row2 col3\" >0.74</td>\n",
       "                        <td id=\"T_7acd5478_fc3e_11ef_a954_000067ca82ddrow2_col4\" class=\"data row2 col4\" >0.78</td>\n",
       "                        <td id=\"T_7acd5478_fc3e_11ef_a954_000067ca82ddrow2_col5\" class=\"data row2 col5\" >0.76</td>\n",
       "                        <td id=\"T_7acd5478_fc3e_11ef_a954_000067ca82ddrow2_col6\" class=\"data row2 col6\" >0.79</td>\n",
       "                        <td id=\"T_7acd5478_fc3e_11ef_a954_000067ca82ddrow2_col7\" class=\"data row2 col7\" >0.00</td>\n",
       "                        <td id=\"T_7acd5478_fc3e_11ef_a954_000067ca82ddrow2_col8\" class=\"data row2 col8\" >0.67</td>\n",
       "                        <td id=\"T_7acd5478_fc3e_11ef_a954_000067ca82ddrow2_col9\" class=\"data row2 col9\" >0.80</td>\n",
       "                        <td id=\"T_7acd5478_fc3e_11ef_a954_000067ca82ddrow2_col10\" class=\"data row2 col10\" >0.00</td>\n",
       "                        <td id=\"T_7acd5478_fc3e_11ef_a954_000067ca82ddrow2_col11\" class=\"data row2 col11\" >0.00</td>\n",
       "                        <td id=\"T_7acd5478_fc3e_11ef_a954_000067ca82ddrow2_col12\" class=\"data row2 col12\" >0.43</td>\n",
       "                        <td id=\"T_7acd5478_fc3e_11ef_a954_000067ca82ddrow2_col13\" class=\"data row2 col13\" >0.27</td>\n",
       "            </tr>\n",
       "            <tr>\n",
       "                        <th id=\"T_7acd5478_fc3e_11ef_a954_000067ca82ddlevel0_row3\" class=\"row_heading level0 row3\" >compound</th>\n",
       "                        <td id=\"T_7acd5478_fc3e_11ef_a954_000067ca82ddrow3_col0\" class=\"data row3 col0\" >0.40</td>\n",
       "                        <td id=\"T_7acd5478_fc3e_11ef_a954_000067ca82ddrow3_col1\" class=\"data row3 col1\" >-0.30</td>\n",
       "                        <td id=\"T_7acd5478_fc3e_11ef_a954_000067ca82ddrow3_col2\" class=\"data row3 col2\" >0.05</td>\n",
       "                        <td id=\"T_7acd5478_fc3e_11ef_a954_000067ca82ddrow3_col3\" class=\"data row3 col3\" >0.44</td>\n",
       "                        <td id=\"T_7acd5478_fc3e_11ef_a954_000067ca82ddrow3_col4\" class=\"data row3 col4\" >0.56</td>\n",
       "                        <td id=\"T_7acd5478_fc3e_11ef_a954_000067ca82ddrow3_col5\" class=\"data row3 col5\" >0.49</td>\n",
       "                        <td id=\"T_7acd5478_fc3e_11ef_a954_000067ca82ddrow3_col6\" class=\"data row3 col6\" >0.58</td>\n",
       "                        <td id=\"T_7acd5478_fc3e_11ef_a954_000067ca82ddrow3_col7\" class=\"data row3 col7\" >0.00</td>\n",
       "                        <td id=\"T_7acd5478_fc3e_11ef_a954_000067ca82ddrow3_col8\" class=\"data row3 col8\" >0.62</td>\n",
       "                        <td id=\"T_7acd5478_fc3e_11ef_a954_000067ca82ddrow3_col9\" class=\"data row3 col9\" >0.62</td>\n",
       "                        <td id=\"T_7acd5478_fc3e_11ef_a954_000067ca82ddrow3_col10\" class=\"data row3 col10\" >-0.34</td>\n",
       "                        <td id=\"T_7acd5478_fc3e_11ef_a954_000067ca82ddrow3_col11\" class=\"data row3 col11\" >-0.34</td>\n",
       "                        <td id=\"T_7acd5478_fc3e_11ef_a954_000067ca82ddrow3_col12\" class=\"data row3 col12\" >0.27</td>\n",
       "                        <td id=\"T_7acd5478_fc3e_11ef_a954_000067ca82ddrow3_col13\" class=\"data row3 col13\" >-0.06</td>\n",
       "            </tr>\n",
       "    </tbody></table>"
      ],
      "text/plain": [
       "<pandas.io.formats.style.Styler at 0x778aa348a668>"
      ]
     },
     "execution_count": 6,
     "metadata": {},
     "output_type": "execute_result"
    }
   ],
   "source": [
    "# VADER scores emoticons, capitals, exclamations, adverb boosters\n",
    "LsDocs = \\\n",
    "  ['Yes', 'No', 'Yes :-(', \"good idea\", \"GOOD idea\", \"good idea!\", \"good idea!!!\",\n",
    "   \"idea's good!!!!!!!!\", \"idea's good !!!!!!!!\", \"good idea!!!!!!!!\",      # too many exlamations may fail\n",
    "   \"not a good idea\", \"it isn't a good idea\", \"good and risky idea\",   # negation and multi-attitude towards the movie\n",
    "   \"idea is good, but risky\"]           # conjunction \"but\" sigmals change in polarity towards dominanty phrase\n",
    "df = pd.DataFrame([sia.polarity_scores(s) for s in LsDocs], index=LsDocs)\n",
    "df.T.style.background_gradient(cmap='coolwarm', vmin=-1, vmax=1).set_precision(2)"
   ]
  },
  {
   "cell_type": "markdown",
   "metadata": {},
   "source": [
    "## Movie Reviews\n",
    "\n",
    "<font color='black'>Consider 5331 positive and 5331 negative Rotten Tomatoes [movie reviews](https://www.cs.cornell.edu/people/pabo/movie-review-data/) published by [Bo Pang and Lillian Lee](https://arxiv.org/pdf/cs/0205070.pdf) (Cornell University, Computer Science Department) in 2002. Each lower-cased review snippet is approximately one sentence, which is a text length better suited to VADER's algorithm. "
   ]
  },
  {
   "cell_type": "code",
   "execution_count": 7,
   "metadata": {},
   "outputs": [
    {
     "name": "stdout",
     "output_type": "stream",
     "text": [
      "files:\t\t ['rt-polarity.neg', 'rt-polarity.pos']\n",
      "categories:\t ['neg', 'pos']\n"
     ]
    }
   ],
   "source": [
    "print('files:\\t\\t', sentence_polarity.fileids())\n",
    "print('categories:\\t', sentence_polarity.categories())"
   ]
  },
  {
   "cell_type": "markdown",
   "metadata": {},
   "source": [
    "<font color='black'>Here, evaluate all movie reviews with VADER. The binary polarity, `pY`, is computed from the sign of the compound valence score. You can compare it to the expert-assigned polarity, `vY`."
   ]
  },
  {
   "cell_type": "code",
   "execution_count": 8,
   "metadata": {},
   "outputs": [
    {
     "name": "stdout",
     "output_type": "stream",
     "text": [
      "CPU times: user 3.37 s, sys: 20 ms, total: 3.39 s\n",
      "Wall time: 3.39 s\n"
     ]
    },
    {
     "data": {
      "text/html": [
       "<div>\n",
       "<style scoped>\n",
       "    .dataframe tbody tr th:only-of-type {\n",
       "        vertical-align: middle;\n",
       "    }\n",
       "\n",
       "    .dataframe tbody tr th {\n",
       "        vertical-align: top;\n",
       "    }\n",
       "\n",
       "    .dataframe thead th {\n",
       "        text-align: right;\n",
       "    }\n",
       "</style>\n",
       "<table border=\"1\" class=\"dataframe\">\n",
       "  <thead>\n",
       "    <tr style=\"text-align: right;\">\n",
       "      <th></th>\n",
       "      <th>neg</th>\n",
       "      <th>neu</th>\n",
       "      <th>pos</th>\n",
       "      <th>compound</th>\n",
       "      <th>nChar</th>\n",
       "      <th>vY</th>\n",
       "      <th>pY</th>\n",
       "      <th>review</th>\n",
       "    </tr>\n",
       "  </thead>\n",
       "  <tbody>\n",
       "    <tr>\n",
       "      <th>0</th>\n",
       "      <td>0.000</td>\n",
       "      <td>0.918</td>\n",
       "      <td>0.082</td>\n",
       "      <td>0.3612</td>\n",
       "      <td>177</td>\n",
       "      <td>1</td>\n",
       "      <td>1</td>\n",
       "      <td>the rock is destined to be the 21st century's new \" conan \" and that he's going to make a splash even greater than arnold schwarzenegger , jean-claud van damme or steven segal .</td>\n",
       "    </tr>\n",
       "    <tr>\n",
       "      <th>1</th>\n",
       "      <td>0.000</td>\n",
       "      <td>0.758</td>\n",
       "      <td>0.242</td>\n",
       "      <td>0.8069</td>\n",
       "      <td>226</td>\n",
       "      <td>1</td>\n",
       "      <td>1</td>\n",
       "      <td>the gorgeously elaborate continuation of \" the lord of the rings \" trilogy is so huge that a column of words cannot adequately describe co-writer/director peter jackson's expanded vision of j . r . r . tolkien's middle-earth .</td>\n",
       "    </tr>\n",
       "    <tr>\n",
       "      <th>2</th>\n",
       "      <td>0.000</td>\n",
       "      <td>0.594</td>\n",
       "      <td>0.406</td>\n",
       "      <td>0.2617</td>\n",
       "      <td>30</td>\n",
       "      <td>1</td>\n",
       "      <td>1</td>\n",
       "      <td>effective but too-tepid biopic</td>\n",
       "    </tr>\n",
       "    <tr>\n",
       "      <th>3</th>\n",
       "      <td>0.000</td>\n",
       "      <td>0.633</td>\n",
       "      <td>0.367</td>\n",
       "      <td>0.8271</td>\n",
       "      <td>89</td>\n",
       "      <td>1</td>\n",
       "      <td>1</td>\n",
       "      <td>if you sometimes like to go to the movies to have fun , wasabi is a good place to start .</td>\n",
       "    </tr>\n",
       "    <tr>\n",
       "      <th>4</th>\n",
       "      <td>0.086</td>\n",
       "      <td>0.650</td>\n",
       "      <td>0.264</td>\n",
       "      <td>0.6592</td>\n",
       "      <td>111</td>\n",
       "      <td>1</td>\n",
       "      <td>1</td>\n",
       "      <td>emerges as something rare , an issue movie that's so honest and keenly observed that it doesn't feel like one .</td>\n",
       "    </tr>\n",
       "    <tr>\n",
       "      <th>...</th>\n",
       "      <td>...</td>\n",
       "      <td>...</td>\n",
       "      <td>...</td>\n",
       "      <td>...</td>\n",
       "      <td>...</td>\n",
       "      <td>...</td>\n",
       "      <td>...</td>\n",
       "      <td>...</td>\n",
       "    </tr>\n",
       "    <tr>\n",
       "      <th>10657</th>\n",
       "      <td>0.279</td>\n",
       "      <td>0.721</td>\n",
       "      <td>0.000</td>\n",
       "      <td>-0.4767</td>\n",
       "      <td>65</td>\n",
       "      <td>-1</td>\n",
       "      <td>-1</td>\n",
       "      <td>a terrible movie that some people will nevertheless find moving .</td>\n",
       "    </tr>\n",
       "    <tr>\n",
       "      <th>10658</th>\n",
       "      <td>0.000</td>\n",
       "      <td>0.796</td>\n",
       "      <td>0.204</td>\n",
       "      <td>0.5927</td>\n",
       "      <td>87</td>\n",
       "      <td>-1</td>\n",
       "      <td>1</td>\n",
       "      <td>there are many definitions of 'time waster' but this movie must surely be one of them .</td>\n",
       "    </tr>\n",
       "    <tr>\n",
       "      <th>10659</th>\n",
       "      <td>0.171</td>\n",
       "      <td>0.829</td>\n",
       "      <td>0.000</td>\n",
       "      <td>-0.7783</td>\n",
       "      <td>225</td>\n",
       "      <td>-1</td>\n",
       "      <td>-1</td>\n",
       "      <td>as it stands , crocodile hunter has the hurried , badly cobbled look of the 1959 godzilla , which combined scenes of a japanese monster flick with canned shots of raymond burr commenting on the monster's path of destruction .</td>\n",
       "    </tr>\n",
       "    <tr>\n",
       "      <th>10660</th>\n",
       "      <td>0.000</td>\n",
       "      <td>0.667</td>\n",
       "      <td>0.333</td>\n",
       "      <td>0.3612</td>\n",
       "      <td>52</td>\n",
       "      <td>-1</td>\n",
       "      <td>1</td>\n",
       "      <td>the thing looks like a made-for-home-video quickie .</td>\n",
       "    </tr>\n",
       "    <tr>\n",
       "      <th>10661</th>\n",
       "      <td>0.000</td>\n",
       "      <td>1.000</td>\n",
       "      <td>0.000</td>\n",
       "      <td>0.0000</td>\n",
       "      <td>60</td>\n",
       "      <td>-1</td>\n",
       "      <td>1</td>\n",
       "      <td>enigma is well-made , but it's just too dry and too placid .</td>\n",
       "    </tr>\n",
       "  </tbody>\n",
       "</table>\n",
       "<p>10662 rows × 8 columns</p>\n",
       "</div>"
      ],
      "text/plain": [
       "         neg    neu    pos  compound  nChar  vY  pY  \\\n",
       "0      0.000  0.918  0.082  0.3612    177    1   1    \n",
       "1      0.000  0.758  0.242  0.8069    226    1   1    \n",
       "2      0.000  0.594  0.406  0.2617    30     1   1    \n",
       "3      0.000  0.633  0.367  0.8271    89     1   1    \n",
       "4      0.086  0.650  0.264  0.6592    111    1   1    \n",
       "...      ...    ...    ...     ...    ...   ..  ..    \n",
       "10657  0.279  0.721  0.000 -0.4767    65    -1  -1    \n",
       "10658  0.000  0.796  0.204  0.5927    87    -1   1    \n",
       "10659  0.171  0.829  0.000 -0.7783    225   -1  -1    \n",
       "10660  0.000  0.667  0.333  0.3612    52    -1   1    \n",
       "10661  0.000  1.000  0.000  0.0000    60    -1   1    \n",
       "\n",
       "                                                                                                                                                                                                                                   review  \n",
       "0      the rock is destined to be the 21st century's new \" conan \" and that he's going to make a splash even greater than arnold schwarzenegger , jean-claud van damme or steven segal .                                                   \n",
       "1      the gorgeously elaborate continuation of \" the lord of the rings \" trilogy is so huge that a column of words cannot adequately describe co-writer/director peter jackson's expanded vision of j . r . r . tolkien's middle-earth .  \n",
       "2      effective but too-tepid biopic                                                                                                                                                                                                      \n",
       "3      if you sometimes like to go to the movies to have fun , wasabi is a good place to start .                                                                                                                                           \n",
       "4      emerges as something rare , an issue movie that's so honest and keenly observed that it doesn't feel like one .                                                                                                                     \n",
       "...                                                                                                                ...                                                                                                                     \n",
       "10657  a terrible movie that some people will nevertheless find moving .                                                                                                                                                                   \n",
       "10658  there are many definitions of 'time waster' but this movie must surely be one of them .                                                                                                                                             \n",
       "10659  as it stands , crocodile hunter has the hurried , badly cobbled look of the 1959 godzilla , which combined scenes of a japanese monster flick with canned shots of raymond burr commenting on the monster's path of destruction .   \n",
       "10660  the thing looks like a made-for-home-video quickie .                                                                                                                                                                                \n",
       "10661  enigma is well-made , but it's just too dry and too placid .                                                                                                                                                                        \n",
       "\n",
       "[10662 rows x 8 columns]"
      ]
     },
     "execution_count": 8,
     "metadata": {},
     "output_type": "execute_result"
    }
   ],
   "source": [
    "LsPos = [' '.join(sSent) for sSent in sentence_polarity.sents('rt-polarity.pos')]\n",
    "LsNeg = [' '.join(sSent) for sSent in sentence_polarity.sents('rt-polarity.neg')]\n",
    "LsReviews = LsPos + LsNeg\n",
    "LnPolarity = [1] * len(LsPos) + [-1] * len(LsNeg)   # original polarity lacks neutral values\n",
    "\n",
    "%time dfSP = pd.DataFrame([sia.polarity_scores(s) for s in LsReviews])\n",
    "dfSP['nChar'] = [len(s) for s in LsReviews]\n",
    "dfSP['vY'] = LnPolarity\n",
    "dfSP['pY'] = dfSP.compound.apply(lambda c: -1 if c < 0 else 1 if c >= 0 else 0)   # predicted polarity (based on threshold)\n",
    "dfSP['review'] = LsReviews\n",
    "dfSP"
   ]
  },
  {
   "cell_type": "markdown",
   "metadata": {},
   "source": [
    "## Quantitative Performance Metrics\n",
    "\n",
    "<font color='black'>You can compute performance metrics with a confusion matrix, which shows correctly classified categories on diagonal and failed classifications off diagonal. "
   ]
  },
  {
   "cell_type": "code",
   "execution_count": 9,
   "metadata": {},
   "outputs": [
    {
     "data": {
      "text/plain": [
       "array([[2137, 3194],\n",
       "       [ 945, 4386]])"
      ]
     },
     "execution_count": 9,
     "metadata": {},
     "output_type": "execute_result"
    }
   ],
   "source": [
    "LsLbl = sorted(np.unique(dfSP[['vY','pY']].values.flatten()))         # polarity labels: [-1, 0, 1]\n",
    "cm = confusion_matrix(y_true=dfSP.vY, y_pred=dfSP.pY, labels=LsLbl)\n",
    "cm      # this confusion matrix is difficult to interpret due to lack of printed labels"
   ]
  },
  {
   "cell_type": "markdown",
   "metadata": {},
   "source": [
    "<font color='black'>Next, add titles and percentages to this array for convenience. The matrix below shows that roughly 61% of movie reviews were classified correctly, 30% were misclassified as positives, and 9% were misclassified as negatives. \n",
    "    \n",
    "<font color='black'>If you don't have a specific business goal, you could try to preprocess reviews and tune the algorithm to improve the overall correct classifications. However, there are some business cases where one type of misclassification is far costlier than the other. Then you would focus on balance the **overall cost** of misclassifications."
   ]
  },
  {
   "cell_type": "code",
   "execution_count": 10,
   "metadata": {},
   "outputs": [
    {
     "name": "stdout",
     "output_type": "stream",
     "text": [
      "Confusion Matrix: counts and % of total count\n"
     ]
    },
    {
     "data": {
      "image/png": "[encoded data removed]",
      "text/plain": [
       "<Figure size 720x144 with 1 Axes>"
      ]
     },
     "metadata": {
      "needs_background": "light"
     },
     "output_type": "display_data"
    }
   ],
   "source": [
    "plt.rcParams['figure.figsize'] = [10, 2]\n",
    "MsTxt = np.core.defchararray.add(np.char.array(cm.astype(str)) + '; ', np.char.array((cm/cm.sum() * 100).round(1)) + '%')\n",
    "\n",
    "ax = sns.heatmap(cm, annot=MsTxt, cbar=False, cmap='coolwarm', fmt='', annot_kws={\"fontsize\":15}, xticklabels=LsLbl, yticklabels=LsLbl);\n",
    "print('Confusion Matrix: counts and % of total count')\n",
    "ax.set(xlabel='Predicted labels', ylabel='True labels');"
   ]
  },
  {
   "cell_type": "markdown",
   "metadata": {},
   "source": [
    "<font color='black'>Next, compute precision and recall from the confusion matrix and aggregate these values into an f1 score, which is a single metric (per category) you might be interested in improving."
   ]
  },
  {
   "cell_type": "code",
   "execution_count": 11,
   "metadata": {},
   "outputs": [
    {
     "name": "stdout",
     "output_type": "stream",
     "text": [
      "              precision    recall  f1-score   support\n",
      "\n",
      "          -1       0.69      0.40      0.51      5331\n",
      "           1       0.58      0.82      0.68      5331\n",
      "\n",
      "    accuracy                           0.61     10662\n",
      "   macro avg       0.64      0.61      0.59     10662\n",
      "weighted avg       0.64      0.61      0.59     10662\n",
      "\n"
     ]
    }
   ],
   "source": [
    "print(classification_report(y_true=dfSP.vY, y_pred=dfSP.pY, labels=LsLbl))"
   ]
  },
  {
   "cell_type": "markdown",
   "metadata": {},
   "source": [
    "## Improving Lexicon\n",
    "\n",
    "<font color='black'>Here, sort the misclassified examples by their compound value. "
   ]
  },
  {
   "cell_type": "code",
   "execution_count": 12,
   "metadata": {},
   "outputs": [
    {
     "data": {
      "text/html": [
       "<div>\n",
       "<style scoped>\n",
       "    .dataframe tbody tr th:only-of-type {\n",
       "        vertical-align: middle;\n",
       "    }\n",
       "\n",
       "    .dataframe tbody tr th {\n",
       "        vertical-align: top;\n",
       "    }\n",
       "\n",
       "    .dataframe thead th {\n",
       "        text-align: right;\n",
       "    }\n",
       "</style>\n",
       "<table border=\"1\" class=\"dataframe\">\n",
       "  <thead>\n",
       "    <tr style=\"text-align: right;\">\n",
       "      <th></th>\n",
       "      <th>neg</th>\n",
       "      <th>neu</th>\n",
       "      <th>pos</th>\n",
       "      <th>compound</th>\n",
       "      <th>nChar</th>\n",
       "      <th>vY</th>\n",
       "      <th>pY</th>\n",
       "      <th>review</th>\n",
       "      <th>isCorrect</th>\n",
       "    </tr>\n",
       "  </thead>\n",
       "  <tbody>\n",
       "    <tr>\n",
       "      <th>6847</th>\n",
       "      <td>0.000</td>\n",
       "      <td>0.574</td>\n",
       "      <td>0.426</td>\n",
       "      <td>0.9674</td>\n",
       "      <td>223</td>\n",
       "      <td>-1</td>\n",
       "      <td>1</td>\n",
       "      <td>it's inoffensive , cheerful , built to inspire the young people , set to an unending soundtrack of beach party pop numbers and aside from its remarkable camerawork and awesome scenery , it's about as exciting as a sunburn .</td>\n",
       "      <td>-1</td>\n",
       "    </tr>\n",
       "    <tr>\n",
       "      <th>8492</th>\n",
       "      <td>0.000</td>\n",
       "      <td>0.610</td>\n",
       "      <td>0.390</td>\n",
       "      <td>0.9511</td>\n",
       "      <td>216</td>\n",
       "      <td>-1</td>\n",
       "      <td>1</td>\n",
       "      <td>the plot's clearly mythic structure may owe more to disney's strong sense of formula than to the original story . but while the highly predictable narrative falls short , treasure planet is truly gorgeous to behold .</td>\n",
       "      <td>-1</td>\n",
       "    </tr>\n",
       "    <tr>\n",
       "      <th>7734</th>\n",
       "      <td>0.000</td>\n",
       "      <td>0.607</td>\n",
       "      <td>0.393</td>\n",
       "      <td>0.9501</td>\n",
       "      <td>195</td>\n",
       "      <td>-1</td>\n",
       "      <td>1</td>\n",
       "      <td>the makers of divine secrets of the ya-ya sisterhood should offer a free ticket ( second prize , of course , two free tickets ) to anyone who can locate a genuinely honest moment in their movie .</td>\n",
       "      <td>-1</td>\n",
       "    </tr>\n",
       "    <tr>\n",
       "      <th>7744</th>\n",
       "      <td>0.000</td>\n",
       "      <td>0.546</td>\n",
       "      <td>0.454</td>\n",
       "      <td>0.9431</td>\n",
       "      <td>153</td>\n",
       "      <td>-1</td>\n",
       "      <td>1</td>\n",
       "      <td>but buying into sham truths and routine \" indie \" filmmaking , freundlich has made just another safe movie . it's not horrible , just horribly mediocre .</td>\n",
       "      <td>-1</td>\n",
       "    </tr>\n",
       "    <tr>\n",
       "      <th>9363</th>\n",
       "      <td>0.098</td>\n",
       "      <td>0.237</td>\n",
       "      <td>0.664</td>\n",
       "      <td>0.9403</td>\n",
       "      <td>105</td>\n",
       "      <td>-1</td>\n",
       "      <td>1</td>\n",
       "      <td>it's mindless junk like this that makes you appreciate original romantic comedies like punch-drunk love .</td>\n",
       "      <td>-1</td>\n",
       "    </tr>\n",
       "    <tr>\n",
       "      <th>...</th>\n",
       "      <td>...</td>\n",
       "      <td>...</td>\n",
       "      <td>...</td>\n",
       "      <td>...</td>\n",
       "      <td>...</td>\n",
       "      <td>...</td>\n",
       "      <td>...</td>\n",
       "      <td>...</td>\n",
       "      <td>...</td>\n",
       "    </tr>\n",
       "    <tr>\n",
       "      <th>3809</th>\n",
       "      <td>0.504</td>\n",
       "      <td>0.403</td>\n",
       "      <td>0.092</td>\n",
       "      <td>-0.9360</td>\n",
       "      <td>130</td>\n",
       "      <td>1</td>\n",
       "      <td>-1</td>\n",
       "      <td>succeeds where its recent predecessor miserably fails because it demands that you suffer the dreadfulness of war from both sides .</td>\n",
       "      <td>-1</td>\n",
       "    </tr>\n",
       "    <tr>\n",
       "      <th>932</th>\n",
       "      <td>0.406</td>\n",
       "      <td>0.594</td>\n",
       "      <td>0.000</td>\n",
       "      <td>-0.9398</td>\n",
       "      <td>153</td>\n",
       "      <td>1</td>\n",
       "      <td>-1</td>\n",
       "      <td>frailty isn't as gory or explicit . but in its child-centered , claustrophobic context , it can be just as frightening and disturbing -- even punishing .</td>\n",
       "      <td>-1</td>\n",
       "    </tr>\n",
       "    <tr>\n",
       "      <th>4598</th>\n",
       "      <td>0.501</td>\n",
       "      <td>0.432</td>\n",
       "      <td>0.066</td>\n",
       "      <td>-0.9524</td>\n",
       "      <td>124</td>\n",
       "      <td>1</td>\n",
       "      <td>-1</td>\n",
       "      <td>contrasting the original ringu with the current americanized adaptation is akin to comparing the evil dead with evil dead ii</td>\n",
       "      <td>-1</td>\n",
       "    </tr>\n",
       "    <tr>\n",
       "      <th>5179</th>\n",
       "      <td>0.431</td>\n",
       "      <td>0.517</td>\n",
       "      <td>0.052</td>\n",
       "      <td>-0.9674</td>\n",
       "      <td>209</td>\n",
       "      <td>1</td>\n",
       "      <td>-1</td>\n",
       "      <td>for more than two decades mr . nachtwey has traveled to places in the world devastated by war , famine and poverty and documented the cruelty and suffering he has found with an devastating , eloquent clarity .</td>\n",
       "      <td>-1</td>\n",
       "    </tr>\n",
       "    <tr>\n",
       "      <th>4772</th>\n",
       "      <td>0.525</td>\n",
       "      <td>0.475</td>\n",
       "      <td>0.000</td>\n",
       "      <td>-0.9682</td>\n",
       "      <td>168</td>\n",
       "      <td>1</td>\n",
       "      <td>-1</td>\n",
       "      <td>this harrowing journey into combat hell vividly captures the chaotic insanity and personal tragedies that are all too abundant when human hatred spews forth unchecked .</td>\n",
       "      <td>-1</td>\n",
       "    </tr>\n",
       "  </tbody>\n",
       "</table>\n",
       "<p>4139 rows × 9 columns</p>\n",
       "</div>"
      ],
      "text/plain": [
       "        neg    neu    pos  compound  nChar  vY  pY  \\\n",
       "6847  0.000  0.574  0.426  0.9674    223   -1   1    \n",
       "8492  0.000  0.610  0.390  0.9511    216   -1   1    \n",
       "7734  0.000  0.607  0.393  0.9501    195   -1   1    \n",
       "7744  0.000  0.546  0.454  0.9431    153   -1   1    \n",
       "9363  0.098  0.237  0.664  0.9403    105   -1   1    \n",
       "...     ...    ...    ...     ...    ...   ..  ..    \n",
       "3809  0.504  0.403  0.092 -0.9360    130    1  -1    \n",
       "932   0.406  0.594  0.000 -0.9398    153    1  -1    \n",
       "4598  0.501  0.432  0.066 -0.9524    124    1  -1    \n",
       "5179  0.431  0.517  0.052 -0.9674    209    1  -1    \n",
       "4772  0.525  0.475  0.000 -0.9682    168    1  -1    \n",
       "\n",
       "                                                                                                                                                                                                                               review  \\\n",
       "6847  it's inoffensive , cheerful , built to inspire the young people , set to an unending soundtrack of beach party pop numbers and aside from its remarkable camerawork and awesome scenery , it's about as exciting as a sunburn .   \n",
       "8492  the plot's clearly mythic structure may owe more to disney's strong sense of formula than to the original story . but while the highly predictable narrative falls short , treasure planet is truly gorgeous to behold .          \n",
       "7734  the makers of divine secrets of the ya-ya sisterhood should offer a free ticket ( second prize , of course , two free tickets ) to anyone who can locate a genuinely honest moment in their movie .                               \n",
       "7744  but buying into sham truths and routine \" indie \" filmmaking , freundlich has made just another safe movie . it's not horrible , just horribly mediocre .                                                                         \n",
       "9363  it's mindless junk like this that makes you appreciate original romantic comedies like punch-drunk love .                                                                                                                         \n",
       "...                                                                                                         ...                                                                                                                         \n",
       "3809  succeeds where its recent predecessor miserably fails because it demands that you suffer the dreadfulness of war from both sides .                                                                                                \n",
       "932   frailty isn't as gory or explicit . but in its child-centered , claustrophobic context , it can be just as frightening and disturbing -- even punishing .                                                                         \n",
       "4598  contrasting the original ringu with the current americanized adaptation is akin to comparing the evil dead with evil dead ii                                                                                                      \n",
       "5179  for more than two decades mr . nachtwey has traveled to places in the world devastated by war , famine and poverty and documented the cruelty and suffering he has found with an devastating , eloquent clarity .                 \n",
       "4772  this harrowing journey into combat hell vividly captures the chaotic insanity and personal tragedies that are all too abundant when human hatred spews forth unchecked .                                                          \n",
       "\n",
       "      isCorrect  \n",
       "6847 -1          \n",
       "8492 -1          \n",
       "7734 -1          \n",
       "7744 -1          \n",
       "9363 -1          \n",
       "...  ..          \n",
       "3809 -1          \n",
       "932  -1          \n",
       "4598 -1          \n",
       "5179 -1          \n",
       "4772 -1          \n",
       "\n",
       "[4139 rows x 9 columns]"
      ]
     },
     "execution_count": 12,
     "metadata": {},
     "output_type": "execute_result"
    }
   ],
   "source": [
    "pd.set_option('display.max_colwidth', 0)\n",
    "dfSP['isCorrect'] = dfSP.vY * dfSP.pY\n",
    "dfSP.query('isCorrect==-1').sort_values('compound', ascending=False)"
   ]
  },
  {
   "cell_type": "markdown",
   "metadata": {},
   "source": [
    "<font color='black'>Notice that the strongest misclassifications appear to be related to the length of the text. You could verify this by computing the average length for misclassified and correctly classified examples."
   ]
  },
  {
   "cell_type": "code",
   "execution_count": 13,
   "metadata": {},
   "outputs": [
    {
     "data": {
      "text/html": [
       "<div>\n",
       "<style scoped>\n",
       "    .dataframe tbody tr th:only-of-type {\n",
       "        vertical-align: middle;\n",
       "    }\n",
       "\n",
       "    .dataframe tbody tr th {\n",
       "        vertical-align: top;\n",
       "    }\n",
       "\n",
       "    .dataframe thead th {\n",
       "        text-align: right;\n",
       "    }\n",
       "</style>\n",
       "<table border=\"1\" class=\"dataframe\">\n",
       "  <thead>\n",
       "    <tr style=\"text-align: right;\">\n",
       "      <th>isCorrect</th>\n",
       "      <th>-1</th>\n",
       "      <th>1</th>\n",
       "    </tr>\n",
       "  </thead>\n",
       "  <tbody>\n",
       "    <tr>\n",
       "      <th>nChar</th>\n",
       "      <td>113.7</td>\n",
       "      <td>114.5</td>\n",
       "    </tr>\n",
       "  </tbody>\n",
       "</table>\n",
       "</div>"
      ],
      "text/plain": [
       "isCorrect     -1      1\n",
       "nChar      113.7  114.5"
      ]
     },
     "execution_count": 13,
     "metadata": {},
     "output_type": "execute_result"
    }
   ],
   "source": [
    "dfSP[['nChar','isCorrect']].groupby('isCorrect').mean().round(1).T"
   ]
  },
  {
   "cell_type": "markdown",
   "metadata": {},
   "source": [
    "<font color='black'>Surprisingly, incorrect sentiment classifications are coming from messages that are about one character shorter, on average. Given a relatively long average sentence, this finding is unlikely to be helpful in improving the model.\n",
    "    \n",
    "<font color='black'>Next, try improving your model by hypothesizing about the cause of misclassified movies. \n",
    "\n",
    "<font color='black'>One possible cause of a misclassified review could be a polarized movie title that is present within the review text. Consider the movie \"*divine secrets of the ya-ya sisterhood*\". Its positive reviews are classified correctly, but its negative reviews are classified incorrectly. To improve your model, you could use a named entity tagger to identify movie titles and replace them with a neutral word *'movie'*."
   ]
  },
  {
   "cell_type": "code",
   "execution_count": 14,
   "metadata": {},
   "outputs": [
    {
     "data": {
      "text/html": [
       "<div>\n",
       "<style scoped>\n",
       "    .dataframe tbody tr th:only-of-type {\n",
       "        vertical-align: middle;\n",
       "    }\n",
       "\n",
       "    .dataframe tbody tr th {\n",
       "        vertical-align: top;\n",
       "    }\n",
       "\n",
       "    .dataframe thead th {\n",
       "        text-align: right;\n",
       "    }\n",
       "</style>\n",
       "<table border=\"1\" class=\"dataframe\">\n",
       "  <thead>\n",
       "    <tr style=\"text-align: right;\">\n",
       "      <th></th>\n",
       "      <th>neg</th>\n",
       "      <th>neu</th>\n",
       "      <th>pos</th>\n",
       "      <th>compound</th>\n",
       "      <th>nChar</th>\n",
       "      <th>vY</th>\n",
       "      <th>pY</th>\n",
       "      <th>review</th>\n",
       "      <th>isCorrect</th>\n",
       "    </tr>\n",
       "  </thead>\n",
       "  <tbody>\n",
       "    <tr>\n",
       "      <th>553</th>\n",
       "      <td>0.197</td>\n",
       "      <td>0.533</td>\n",
       "      <td>0.270</td>\n",
       "      <td>0.4215</td>\n",
       "      <td>115</td>\n",
       "      <td>1</td>\n",
       "      <td>1</td>\n",
       "      <td>for all its failed connections , divine secrets of the ya-ya sisterhood is nurturing , in a gauzy , dithering way .</td>\n",
       "      <td>1</td>\n",
       "    </tr>\n",
       "    <tr>\n",
       "      <th>560</th>\n",
       "      <td>0.000</td>\n",
       "      <td>0.611</td>\n",
       "      <td>0.389</td>\n",
       "      <td>0.9354</td>\n",
       "      <td>176</td>\n",
       "      <td>1</td>\n",
       "      <td>1</td>\n",
       "      <td>divine secrets of the ya-ya sisterhood may not be exactly divine , but it's definitely -- defiantly -- ya ya , what with all of those terrific songs and spirited performances .</td>\n",
       "      <td>1</td>\n",
       "    </tr>\n",
       "    <tr>\n",
       "      <th>1500</th>\n",
       "      <td>0.000</td>\n",
       "      <td>0.719</td>\n",
       "      <td>0.281</td>\n",
       "      <td>0.8402</td>\n",
       "      <td>173</td>\n",
       "      <td>1</td>\n",
       "      <td>1</td>\n",
       "      <td>another one of those estrogen overdose movies like \" divine secrets of the ya ya sisterhood , \" except that the writing , acting and character development are a lot better .</td>\n",
       "      <td>1</td>\n",
       "    </tr>\n",
       "    <tr>\n",
       "      <th>2782</th>\n",
       "      <td>0.000</td>\n",
       "      <td>0.682</td>\n",
       "      <td>0.318</td>\n",
       "      <td>0.8126</td>\n",
       "      <td>145</td>\n",
       "      <td>1</td>\n",
       "      <td>1</td>\n",
       "      <td>me without you has a bracing truth that's refreshing after the phoniness of female-bonding pictures like divine secrets of the ya-ya sisterhood .</td>\n",
       "      <td>1</td>\n",
       "    </tr>\n",
       "    <tr>\n",
       "      <th>3510</th>\n",
       "      <td>0.131</td>\n",
       "      <td>0.717</td>\n",
       "      <td>0.152</td>\n",
       "      <td>0.1280</td>\n",
       "      <td>131</td>\n",
       "      <td>1</td>\n",
       "      <td>1</td>\n",
       "      <td>if divine secrets of the ya-ya sisterhood suffers from a ploddingly melodramatic structure , it comes to life in the performances .</td>\n",
       "      <td>1</td>\n",
       "    </tr>\n",
       "    <tr>\n",
       "      <th>4475</th>\n",
       "      <td>0.000</td>\n",
       "      <td>0.864</td>\n",
       "      <td>0.136</td>\n",
       "      <td>0.5023</td>\n",
       "      <td>176</td>\n",
       "      <td>1</td>\n",
       "      <td>1</td>\n",
       "      <td>to those who have not read the book , the film is a much better mother-daughter tale than last summer's 'divine secrets of the ya-ya sisterhood , ' but that's not saying much .</td>\n",
       "      <td>1</td>\n",
       "    </tr>\n",
       "    <tr>\n",
       "      <th>5540</th>\n",
       "      <td>0.000</td>\n",
       "      <td>0.845</td>\n",
       "      <td>0.155</td>\n",
       "      <td>0.2960</td>\n",
       "      <td>97</td>\n",
       "      <td>-1</td>\n",
       "      <td>1</td>\n",
       "      <td>a not-so-divine secrets of the ya-ya sisterhood with a hefty helping of re-fried green tomatoes .</td>\n",
       "      <td>-1</td>\n",
       "    </tr>\n",
       "    <tr>\n",
       "      <th>7734</th>\n",
       "      <td>0.000</td>\n",
       "      <td>0.607</td>\n",
       "      <td>0.393</td>\n",
       "      <td>0.9501</td>\n",
       "      <td>195</td>\n",
       "      <td>-1</td>\n",
       "      <td>1</td>\n",
       "      <td>the makers of divine secrets of the ya-ya sisterhood should offer a free ticket ( second prize , of course , two free tickets ) to anyone who can locate a genuinely honest moment in their movie .</td>\n",
       "      <td>-1</td>\n",
       "    </tr>\n",
       "  </tbody>\n",
       "</table>\n",
       "</div>"
      ],
      "text/plain": [
       "        neg    neu    pos  compound  nChar  vY  pY  \\\n",
       "553   0.197  0.533  0.270  0.4215    115    1   1    \n",
       "560   0.000  0.611  0.389  0.9354    176    1   1    \n",
       "1500  0.000  0.719  0.281  0.8402    173    1   1    \n",
       "2782  0.000  0.682  0.318  0.8126    145    1   1    \n",
       "3510  0.131  0.717  0.152  0.1280    131    1   1    \n",
       "4475  0.000  0.864  0.136  0.5023    176    1   1    \n",
       "5540  0.000  0.845  0.155  0.2960    97    -1   1    \n",
       "7734  0.000  0.607  0.393  0.9501    195   -1   1    \n",
       "\n",
       "                                                                                                                                                                                                   review  \\\n",
       "553   for all its failed connections , divine secrets of the ya-ya sisterhood is nurturing , in a gauzy , dithering way .                                                                                   \n",
       "560   divine secrets of the ya-ya sisterhood may not be exactly divine , but it's definitely -- defiantly -- ya ya , what with all of those terrific songs and spirited performances .                      \n",
       "1500  another one of those estrogen overdose movies like \" divine secrets of the ya ya sisterhood , \" except that the writing , acting and character development are a lot better .                         \n",
       "2782  me without you has a bracing truth that's refreshing after the phoniness of female-bonding pictures like divine secrets of the ya-ya sisterhood .                                                     \n",
       "3510  if divine secrets of the ya-ya sisterhood suffers from a ploddingly melodramatic structure , it comes to life in the performances .                                                                   \n",
       "4475  to those who have not read the book , the film is a much better mother-daughter tale than last summer's 'divine secrets of the ya-ya sisterhood , ' but that's not saying much .                      \n",
       "5540  a not-so-divine secrets of the ya-ya sisterhood with a hefty helping of re-fried green tomatoes .                                                                                                     \n",
       "7734  the makers of divine secrets of the ya-ya sisterhood should offer a free ticket ( second prize , of course , two free tickets ) to anyone who can locate a genuinely honest moment in their movie .   \n",
       "\n",
       "      isCorrect  \n",
       "553   1          \n",
       "560   1          \n",
       "1500  1          \n",
       "2782  1          \n",
       "3510  1          \n",
       "4475  1          \n",
       "5540 -1          \n",
       "7734 -1          "
      ]
     },
     "execution_count": 14,
     "metadata": {},
     "output_type": "execute_result"
    }
   ],
   "source": [
    "dfSP[dfSP.review.str.lower().str.contains('divine secrets')]"
   ]
  },
  {
   "cell_type": "markdown",
   "metadata": {},
   "source": [
    "<font color='black'>In the made-up example below, the compound sentiment for the review is strongly positive, which is likely due to presence of the positive word \"divine.\" However, most human evaluators would rate this review as negative. "
   ]
  },
  {
   "cell_type": "code",
   "execution_count": 15,
   "metadata": {},
   "outputs": [
    {
     "name": "stdout",
     "output_type": "stream",
     "text": [
      "{'neg': 0.0, 'neu': 0.494, 'pos': 0.506, 'compound': 0.8491}\n",
      "score for \"divine\":  2.6\n"
     ]
    }
   ],
   "source": [
    "sReview = 'divine secrets of the ya-ya sisterhood is not horrible, just horribly mediocre'\n",
    "print(sia.polarity_scores(sReview))\n",
    "print(f'score for \"divine\": ', sia.lexicon['divine'])   # this word is in movie title, not in sentiment"
   ]
  },
  {
   "cell_type": "markdown",
   "metadata": {},
   "source": [
    "<font color='black'>Before spending additional time solving this problem, you should first evaluate whether it is causing many other reviews to be misclassified."
   ]
  },
  {
   "cell_type": "markdown",
   "metadata": {},
   "source": [
    "<font color='black'>Another possible cause of misclassification could be that your corpus has words that are absent from VADER's lexicon or incorrectly valued for your purpose. In this case, you could add new words to VADER's lexicon or overwrite their scores. For example, you could expand the lexicon with high frequency tokens and phrases, which have a strong sentiment. \n",
    "    \n",
    "<font color='black'>The UDF `AddWord()` below does just that. You just need to provide the new word and a synonym for that word that already exists in VADER's lexicon. The synonym's valency score will be used for the new word. If the word is already in the lexicon, then this is noted on screen."
   ]
  },
  {
   "cell_type": "code",
   "execution_count": 16,
   "metadata": {},
   "outputs": [
    {
     "name": "stdout",
     "output_type": "stream",
     "text": [
      "added \"smashing\" with a score of 2.9\n",
      "added \"top-notch\" with a score of 2.9\n"
     ]
    }
   ],
   "source": [
    "# We add new scored words to in-memory dictinary or to vader_lexicon.txt (more persistent)\n",
    "def AddWord(sNewWord='top-notch', ValenceScore=0):\n",
    "    '''If the word in not in VADER's lexicon, it is added '''\n",
    "    if sNewWord in sia.lexicon:\n",
    "        print(f'{sNewWord} \\tis already in the lexicon with a score {sia.lexicon[sNewWord]}')\n",
    "    else:\n",
    "        sia.lexicon.update({sNewWord: ValenceScore})                # we can add new words to lexicon's dictionary\n",
    "        print(f'added \"{sNewWord}\" with a score of {ValenceScore}')\n",
    "\n",
    "AddWord('smashing', sia.lexicon['super'])\n",
    "AddWord('top-notch', sia.lexicon['super'])"
   ]
  },
  {
   "cell_type": "markdown",
   "metadata": {},
   "source": [
    "<hr style=\"border-top: 2px solid #606366; background: transparent;\">\n",
    "\n",
    "# **Optional Practice**\n",
    "\n",
    "<font color='black'>Now you will practice retrieving valence scores for various words in VADER's lexicon.\n",
    "    \n",
    "As you work through these tasks, check your answers by running your code in the *#check solution here* cell, to see if you’ve gotten the correct result. If you get stuck on a task, click the See **solution** drop-down to view the answer."
   ]
  },
  {
   "cell_type": "markdown",
   "metadata": {},
   "source": [
    "##  Task 1\n",
    "\n",
    "Retrieve all words from VADER's lexicon that have the same valence score as \"great.\" Do you agree with these words and their scores?\n",
    "\n",
    "<b>Hint:</b> Use <code>sia.lexicon</code> as you would any other dictionary. First find the valence score for \"great.\" Then iterate over all <code>.items()</code> to find those keys that have values equal to the score of \"great.\""
   ]
  },
  {
   "cell_type": "code",
   "execution_count": 17,
   "metadata": {},
   "outputs": [],
   "source": [
    "# check solution here"
   ]
  },
  {
   "cell_type": "markdown",
   "metadata": {},
   "source": [
    "<font color=#606366>\n",
    "    <details><summary><font color=#B31B1B>▶ </font>See <b>solution</b>.</summary>\n",
    "<pre class=\"ec\">\n",
    "print(sia.lexicon['great'])  # show valence score of 'great'\n",
    "print(', '.join(w for w,s in sia.lexicon.items() if s==3.1))\n",
    "pd.DataFrame.from_dict(sia.lexicon, orient='index', columns=['score']).query('score==3.1').T # alternative solution\n",
    "</pre>\n",
    "</details> \n",
    "</font>\n",
    "\n",
    "<hr>"
   ]
  },
  {
   "cell_type": "markdown",
   "metadata": {},
   "source": [
    "##  Task 2\n",
    "\n",
    "Retrieve all words containing \"nice\" with their valence scores from VADER's lexicon. Do you agree with these words and their scores?\n",
    "\n",
    "<b>Hint:</b> Again, iterate over all <code>.items()</code> of the dictionary and keep only those that have \"nice\" in the key."
   ]
  },
  {
   "cell_type": "code",
   "execution_count": 18,
   "metadata": {},
   "outputs": [],
   "source": [
    "# check solution here"
   ]
  },
  {
   "cell_type": "markdown",
   "metadata": {},
   "source": [
    "<font color=#606366>\n",
    "    <details><summary><font color=#B31B1B>▶ </font>See <b>solution</b>.</summary>\n",
    "<pre class=\"ec\">\n",
    "print([(w,s) for w,s in sia.lexicon.items() if 'nice' in w])\n",
    "</pre>\n",
    "</details> \n",
    "</font>\n",
    "\n",
    "<hr>"
   ]
  },
  {
   "cell_type": "markdown",
   "metadata": {},
   "source": [
    "##  Task 3\n",
    "\n",
    "Find all words with valence score in $[-0.1, 0.1]$ interval. Do you agree with these (\"neutral\") words and their scores?\n",
    "\n",
    "<b>Hint:</b> You can either iterate over key-value pairs and keep those keys/values that are within 0.1 of zero. Or you can load the dictionary into a dataframe and filter on the score column."
   ]
  },
  {
   "cell_type": "code",
   "execution_count": 19,
   "metadata": {},
   "outputs": [],
   "source": [
    "# check solution here"
   ]
  },
  {
   "cell_type": "markdown",
   "metadata": {},
   "source": [
    "<font color=#606366> \n",
    "    <details><summary><font color=#B31B1B>▶ </font>See <b>solution</b>.</summary>\n",
    "<pre class=\"ec\">\n",
    "df1 = pd.DataFrame.from_dict(sia.lexicon, orient='index', columns=['score'])\n",
    "df1.query('score >= -0.1 and score <= 0.1').sort_values('score').T\n",
    "</pre>\n",
    "</details> \n",
    "</font>\n",
    "<hr>"
   ]
  },
  {
   "cell_type": "markdown",
   "metadata": {},
   "source": [
    "##  Task 4\n",
    "\n",
    "Identify the top 20 shortest misclassified reviews. Which of the words in these reviews are not in VADER's lexicon?\n",
    "\n",
    "<b>Hint:</b> Filter <code>dfSP</code> on misclassified values and order by character length column."
   ]
  },
  {
   "cell_type": "code",
   "execution_count": 20,
   "metadata": {},
   "outputs": [],
   "source": [
    "# check solution here"
   ]
  },
  {
   "cell_type": "markdown",
   "metadata": {},
   "source": [
    "<font color=#606366>\n",
    "    <details><summary><font color=#B31B1B>▶ </font>See <b>solution</b>.</summary>\n",
    "<pre class=\"ec\">\n",
    "df20 = dfSP.query('isCorrect==-1').sort_values('nChar')[['review','vY']].head(20) # top 20 shortest misclassifications\n",
    "df20.T\n",
    "SsRWords = set(' '.join(df20.review.tolist()).split(' ')) # create a list of words from the top 20 reviews\n",
    "print([(w, sia.lexicon.get(w, '')) for w in SsRWords])    # check each word in lexicon\n",
    "</pre>\n",
    "</details> \n",
    "</font>\n",
    "\n",
    "<hr>"
   ]
  },
  {
   "cell_type": "markdown",
   "metadata": {},
   "source": [
    "##  Task 5\n",
    "\n",
    "\n",
    "Add missing words to VADER's lexicon with the (subjectively) appropriate valence scores. For example, you could look at a review's sentiment or word synonyms's scores or make up a score.\n",
    "\n",
    "<b>Hint:</b> This is subjective, but you can web-search synonyms of the words which are not in the lexicon. WordNet library can also be used, but it is unlikely to contain these somewhat rare words."
   ]
  },
  {
   "cell_type": "code",
   "execution_count": 21,
   "metadata": {},
   "outputs": [],
   "source": [
    "# check solution here"
   ]
  },
  {
   "cell_type": "markdown",
   "metadata": {},
   "source": [
    "<font color=#606366>\n",
    "    <details><summary><font color=#B31B1B>▶ </font>See <b>solution</b>.</summary>\n",
    "<pre class=\"ec\">\n",
    "sia.lexicon['weak']\n",
    "sia.lexicon.update({'crummy': sia.lexicon['inferior']})\n",
    "dfSP[dfSP.review.str.contains('obvious')][['review']]  # check other reviews containing the word\n",
    "sia.lexicon.update({'obvious': -0.1})  # give it a smal negative score, obvious~predictabile, slightly negative\n",
    "sia.lexicon.update({'shallow': sia.lexicon['empty']})\n",
    "sia.lexicon.update({'execrable': sia.lexicon['awful']})\n",
    "sia.lexicon.update({'snooze': -0.5})\n",
    "sia.lexicon.update({'poo': -2})\n",
    "sia.lexicon.update({'slummer': -2})\n",
    "sia.lexicon.update({'plain': -0.5})\n",
    "</pre>\n",
    "</details> \n",
    "</font>\n",
    "\n",
    "<hr>"
   ]
  }
 ],
 "metadata": {
  "anaconda-cloud": {},
  "kernelspec": {
   "display_name": "Python 3",
   "language": "python",
   "name": "python3"
  },
  "language_info": {
   "codemirror_mode": {
    "name": "ipython",
    "version": 3
   },
   "file_extension": ".py",
   "mimetype": "text/x-python",
   "name": "python",
   "nbconvert_exporter": "python",
   "pygments_lexer": "ipython3",
   "version": "3.6.9"
  }
 },
 "nbformat": 4,
 "nbformat_minor": 1
}
