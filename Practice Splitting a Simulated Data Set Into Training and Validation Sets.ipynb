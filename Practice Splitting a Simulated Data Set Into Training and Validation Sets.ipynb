{
 "cells": [
  {
   "cell_type": "markdown",
   "metadata": {},
   "source": [
    "# **Setup**\n",
    " \n",
    "Reset the Python environment to clear it of any previously loaded variables, functions, or libraries. Then, import the libraries needed to complete the code Professor Melnikov presented in the video."
   ]
  },
  {
   "cell_type": "code",
   "execution_count": 1,
   "metadata": {},
   "outputs": [],
   "source": [
    "%reset -f\n",
    "from IPython.core.interactiveshell import InteractiveShell as IS\n",
    "IS.ast_node_interactivity = \"all\"    # allows multiple outputs from a cell\n",
    "import numpy as np"
   ]
  },
  {
   "cell_type": "markdown",
   "metadata": {},
   "source": [
    "<hr style=\"border-top: 2px solid #606366; background: transparent;\">\n",
    "\n",
    "# **Review**\n",
    "\n",
    "### **Seed a Random Number Generator (RNG)**\n",
    "\n",
    "<span style=\"color:black\">For many machine learning models, random numbers are generated and iteratively updated during the training process. Many programming languages, including Python, use pseudo-random number generators that produce \"almost random\" numbers and allow you to \"set a seed.\" Seeding the generator is important to ensure reproducible results.\n",
    "\n",
    "<span style=\"color:black\">Set the random seed to zero and generate arrays with random integers.\n",
    "\n",
    "<span style=\"color:black\"> See NumPy documentation for more info on  [`seed()`](https://numpy.org/doc/stable/reference/random/generated/numpy.random.seed.html) and [`randint()`](https://numpy.org/doc/stable/reference/random/generated/numpy.random.randint.html)  or use `np.random.seed`. "
   ]
  },
  {
   "cell_type": "code",
   "execution_count": 2,
   "metadata": {},
   "outputs": [
    {
     "name": "stdout",
     "output_type": "stream",
     "text": [
      "Y =  [0 1 1 0 1 1 1 1 1 1]\n",
      "X = \n",
      " [[5 2 4 7]\n",
      " [6 8 8 1]\n",
      " [6 7 7 8]\n",
      " [1 5 9 8]\n",
      " [9 4 3 0]\n",
      " [3 5 0 2]\n",
      " [3 8 1 3]\n",
      " [3 3 7 0]\n",
      " [1 9 9 0]\n",
      " [4 7 3 2]]\n"
     ]
    }
   ],
   "source": [
    "n, p = 10, 4  # observations x features\n",
    "\n",
    "np.random.seed(0)                      # we seed the random number generator (RNG)\n",
    "Y = np.random.randint(2, size=n)       # 1D array of n outputs from values {0,1}\n",
    "X = np.random.randint(10, size=(n, p)) # 2D array data matrix with n observations from values {0,1,2,3,4,5,6,7,8,9}\n",
    "\n",
    "print('Y = ', Y)\n",
    "print('X = \\n', X)"
   ]
  },
  {
   "cell_type": "markdown",
   "metadata": {},
   "source": [
    "### **NumPy library and `RandomState()` object**\n",
    "\n",
    "Often we'd like to generate random values from a specific distribution (such as uniform or Gaussian). These values can be integers, floats or any other objects from a specified collection. Such random number generation (RNG) is offered by many established packages, but often fundamentally is supported by the NumPy library. One way to generate such values is to create an object [`numpy.random.RandomState(...)`](https://numpy.org/doc/stable/reference/random/legacy.html#numpy.random.RandomState), which can take an integer to seed RNG. Seeding simply ensures that every time the same seed is used, the exactly same sequence of random numbers is generated. This guarantees reproducibility of randomness, which helps troubleshooting and debugging one's code.\n",
    "\n",
    "The object `RandomState()` offers several methods to return a desired-size sequence of random values. For example [`.randint(low=2, high=10, size=5)`](https://numpy.org/doc/stable/reference/random/generated/numpy.random.randint.html) returns a 1D numpy array of five random integers from 2 to 9 (or 10-1). If size is a tuple of two numbers, such as `size=(3,4)`, then a 2D numpy  array is returned, which is similar to a matrix of 3 by 4 (i.e. 3 rows and 4 columns).\n",
    "\n",
    "Let's see this in the following example, where we use a seeded RNG to generate a size `n` array `Y` of some (random) target values, and a size `10x4` 2D array of observations, `X`. Each of the ten observations corresponds to the target value with the same index. The data matrix `X` has four features (columns). Further these matrices will be split into a training and testing sample."
   ]
  },
  {
   "cell_type": "code",
   "execution_count": 3,
   "metadata": {},
   "outputs": [
    {
     "name": "stdout",
     "output_type": "stream",
     "text": [
      "Y =  [0 1 1 0 1 1 1 1 1 1]\n",
      "X = \n",
      " [[5 2 4 7]\n",
      " [6 8 8 1]\n",
      " [6 7 7 8]\n",
      " [1 5 9 8]\n",
      " [9 4 3 0]\n",
      " [3 5 0 2]\n",
      " [3 8 1 3]\n",
      " [3 3 7 0]\n",
      " [1 9 9 0]\n",
      " [4 7 3 2]]\n"
     ]
    }
   ],
   "source": [
    "n, p = 10, 4                     # number of n observations and p features\n",
    "rng = np.random.RandomState(0)   # save the random state object that can be used to seed sampling from distributions\n",
    "Y, X = rng.randint(2, size=n), rng.randint(10, size=(n, p))\n",
    "\n",
    "print('Y = ', Y)\n",
    "print('X = \\n', X)"
   ]
  },
  {
   "cell_type": "markdown",
   "metadata": {},
   "source": [
    "### **Training and Validation Data Sets**\n",
    "\n",
    "<span style=\"color:black\">You can use scikit-learn's `train_test_split()` function to split observations (i.e., the rows of matrix $X$) into training and validation subsets. By specifying the `random_state` parameter, you can also use this function to shuffle the rows prior to splitting the data. Notice that the row labels, which are stored in array $Y$ are split in the same way so that every row of the training matrix `tX` is associated with its training label `tY`. The same goes for the validation rows and labels, `vX` and `vY`.\n",
    "\n",
    "<span style=\"color:black\">Note that seeding `random_state` seeds the shuffling. The values themselves are already drawn from the seed in the previous code block."
   ]
  },
  {
   "cell_type": "code",
   "execution_count": 4,
   "metadata": {},
   "outputs": [
    {
     "name": "stdout",
     "output_type": "stream",
     "text": [
      "tX.shape = (8, 4)\n",
      " [[9 4 3 0]\n",
      " [4 7 3 2]\n",
      " [6 8 8 1]\n",
      " [3 8 1 3]\n",
      " [3 3 7 0]\n",
      " [1 5 9 8]\n",
      " [5 2 4 7]\n",
      " [3 5 0 2]]\n",
      "vX.shape = (2, 4)\n",
      " [[6 7 7 8]\n",
      " [1 9 9 0]]\n",
      "tY.shape = (8,)\n",
      " [1 1 1 1 1 0 0 1]\n",
      "vY.shape = (2,)\n",
      " [1 1]\n"
     ]
    }
   ],
   "source": [
    "from sklearn.model_selection import train_test_split\n",
    "\n",
    "tX, vX, tY, vY = train_test_split(X, Y, test_size=0.2, random_state=0) \n",
    "\n",
    "print(f'tX.shape = {tX.shape}\\n', tX)  # training inputs\n",
    "print(f'vX.shape = {vX.shape}\\n', vX)  # validation  inputs\n",
    "print(f'tY.shape = {tY.shape}\\n', tY)  # training outputs\n",
    "print(f'vY.shape = {vY.shape}\\n', vY)  # validation  outputs"
   ]
  },
  {
   "cell_type": "markdown",
   "metadata": {},
   "source": [
    "<hr style=\"border-top: 2px solid #606366; background: transparent;\">\n",
    "\n",
    "# **Optional Practice**\n",
    "\n",
    "Now, equipped with these concepts and tools you will tackle a few related tasks.\n",
    "\n",
    "As you work through these tasks, check your answers by running your code in the *#check solution here* cell, to see if you’ve gotten the correct result. If you get stuck on a task, click the See **solution** drop-down to view the answer."
   ]
  },
  {
   "cell_type": "markdown",
   "metadata": {},
   "source": [
    "## Task 1\n",
    "\n",
    "In the following example you will practice seeding an RNG for each matrix in a sequence (for reproducibility). The goal is to find a matrix with the largest sum of its elements.\n",
    "\n",
    "Create a loop for $k$ in 0..10000. In each iteration:\n",
    "1. seed random number generator with $k$\n",
    "1. sample $X_{9\\times 5}$ matrix with values $X_{ij}$ from the set $\\{\\pm1,\\pm2,\\pm3,\\pm4,\\pm5\\}$\n",
    "1. compute the sum of matrix values, $S_k:=\\sum_{i,j}X_{ij}(k)$, which is the sum of all values in the matrix $X$ seeded with $k$, herein as $X(k)$\n",
    "\n",
    "Find $k$, which yields the highest $S_k$.\n",
    "\n",
    "Note: This $k$ is called a **maximizer** of $S$, and may not be unique. This is a small exercise with a random number generator and sampling of random values from a discrete distribution, as above.\n",
    "\n",
    "<b>Hint:</b> Check out <code>low</code> and <code>high</code> parameters of <code>np.random.randint()</code>.\n"
   ]
  },
  {
   "cell_type": "code",
   "execution_count": 5,
   "metadata": {},
   "outputs": [
    {
     "name": "stdout",
     "output_type": "stream",
     "text": [
      "i=1097;\t X.sum()=83 \n",
      " [[ 4  4 -4 -2  2]\n",
      " [ 2  5  1  5  4]\n",
      " [-3  5  1  2  5]\n",
      " [ 4 -2  0  3  5]\n",
      " [-3  4  5  3  0]\n",
      " [ 4  5 -4  4  4]\n",
      " [ 5  3  5 -2  4]\n",
      " [ 4 -1 -4  5 -1]\n",
      " [ 5 -2  3 -2 -2]]\n"
     ]
    }
   ],
   "source": [
    "# returns a 9x5 matrix (i.e. numpy 2D array) with random integers in range from -5 to 5:\n",
    "GetX = lambda i: np.random.RandomState(i).randint(low=-5, high=6, size=(9, 5)) \n",
    "ArraySums = [GetX(i).sum() for i in range(10001)] # list of sums of elements of 10K matrices\n",
    "i = np.argmax(ArraySums)  # returns the maximizer, i.e. the index that results in largest sum of 10k matrices \n",
    "X = GetX(i)               # returns the matrix for the given maximizer\n",
    "print(f'i={i};\\t', f'X.sum()={X.sum()}','\\n', X)"
   ]
  },
  {
   "cell_type": "markdown",
   "metadata": {},
   "source": [
    "\n",
    "<font color=#606366>\n",
    "    <details><summary><font color=#b31b1b>▶ </font>See <b>solution</b>.</summary>\n",
    "<pre>\n",
    "# returns a 9x5 matrix (i.e. numpy 2D array) with random integers in range from -5 to 5:\n",
    "GetX = lambda i: np.random.RandomState(i).randint(low=-5, high=6, size=(9, 5)) \n",
    "ArraySums = [GetX(i).sum() for i in range(10001)] # list of sums of elements of 10K matrices\n",
    "i = np.argmax(ArraySums)  # returns the maximizer, i.e. the index that results in largest sum of 10k matrices \n",
    "X = GetX(i)               # returns the matrix for the given maximizer\n",
    "print(f'i={i};\\t', f'X.sum()={X.sum()}','\\n', X)\n",
    "</pre>\n",
    "</details> \n",
    "</font>\n",
    "<hr>"
   ]
  },
  {
   "cell_type": "markdown",
   "metadata": {},
   "source": [
    "## Task 2\n",
    "\n",
    "Now split $X$ into a training set of six observations with the rest allocated to the validation set. See [`train_test_split`](https://scikit-learn.org/stable/modules/generated/sklearn.model_selection.train_test_split.html) documentation. \n"
   ]
  },
  {
   "cell_type": "code",
   "execution_count": null,
   "metadata": {},
   "outputs": [],
   "source": [
    "# check solution here"
   ]
  },
  {
   "cell_type": "markdown",
   "metadata": {},
   "source": [
    "\n",
    "<font color=#606366>\n",
    "    <details><summary><font color=#b31b1b>▶ </font>See <b>solution</b>.</summary>\n",
    "<pre>\n",
    "tX, vX = train_test_split(X, train_size=6, random_state=0) \n",
    "print(f'tX.shape = {tX.shape}\\n', tX)  # training inputs\n",
    "print(f'vX.shape = {vX.shape}\\n', vX)  # validation  inputs\n",
    "</pre>\n",
    "</details> \n",
    "</font>\n",
    "<hr>\n"
   ]
  }
 ],
 "metadata": {
  "anaconda-cloud": {},
  "kernelspec": {
   "display_name": "Python 3",
   "language": "python",
   "name": "python3"
  },
  "language_info": {
   "codemirror_mode": {
    "name": "ipython",
    "version": 3
   },
   "file_extension": ".py",
   "mimetype": "text/x-python",
   "name": "python",
   "nbconvert_exporter": "python",
   "pygments_lexer": "ipython3",
   "version": "3.6.9"
  },
  "toc": {
   "base_numbering": 1,
   "nav_menu": {},
   "number_sections": false,
   "sideBar": true,
   "skip_h1_title": false,
   "title_cell": "Table of Contents",
   "title_sidebar": "Contents",
   "toc_cell": false,
   "toc_position": {},
   "toc_section_display": true,
   "toc_window_display": false
  },
  "varInspector": {
   "cols": {
    "lenName": 16,
    "lenType": 16,
    "lenVar": 40
   },
   "kernels_config": {
    "python": {
     "delete_cmd_postfix": "",
     "delete_cmd_prefix": "del ",
     "library": "var_list.py",
     "varRefreshCmd": "print(var_dic_list())"
    },
    "r": {
     "delete_cmd_postfix": ") ",
     "delete_cmd_prefix": "rm(",
     "library": "var_list.r",
     "varRefreshCmd": "cat(var_dic_list()) "
    }
   },
   "types_to_exclude": [
    "module",
    "function",
    "builtin_function_or_method",
    "instance",
    "_Feature"
   ],
   "window_display": false
  }
 },
 "nbformat": 4,
 "nbformat_minor": 1
}
