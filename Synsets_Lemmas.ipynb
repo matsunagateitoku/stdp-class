{
 "cells": [
  {
   "cell_type": "markdown",
   "metadata": {},
   "source": [
    "# **Setup**\n",
    " \n",
    "Reset the Python environment to clear it of any previously loaded variables, functions, or libraries. Then, import the libraries needed to complete the code Professor Melnikov presented in the video."
   ]
  },
  {
   "cell_type": "code",
   "execution_count": null,
   "metadata": {},
   "outputs": [],
   "source": [
    "%reset -f\n",
    "from IPython.core.interactiveshell import InteractiveShell as IS\n",
    "IS.ast_node_interactivity = \"all\"    # allows multiple outputs from a cell\n",
    "import nltk, pandas as pd, itertools as it\n",
    "from nltk.corpus import wordnet as wn\n",
    "_ = nltk.download(['wordnet'], quiet=True)  # load WordNet ontology database\n",
    "# _ = nltk.download(['wordnet'], quiet=True, download_dir='/home/codio/workspace')  # import WordNet ontology database\n",
    "# nltk.data.path.clear()\n",
    "# nltk.data.path.append('/home/codio/workspace/corpora/')\n",
    "# nltk.data.path"
   ]
  },
  {
   "cell_type": "markdown",
   "metadata": {},
   "source": [
    "<hr style=\"border-top: 2px solid #606366; background: transparent;\">\n",
    "\n",
    "# **Review**\n",
    "\n",
    "<font color='black'>Review Professor Melnikov's code to familiarize yourself with the operations of a WordNet database.</font>\n",
    "\n",
    "## **WordNet Database**\n",
    "\n",
    "<font color='black'>[WordNet](https://wordnet.princeton.edu/) is a lexical database that groups words into sets of synonyms, called **synsets**. Each word in a synset is known as a **lemma**, and all lemmas in a synset share a common meaning. \n",
    "\n",
    "Using the WordNet object `wn`, the following code demonstrates a WordNet's structure and operations. The `wn.words()` command, which takes language as an argument, lists all 147,306 words in the English language. A few selected words are printed below.</font>"
   ]
  },
  {
   "cell_type": "code",
   "execution_count": null,
   "metadata": {},
   "outputs": [],
   "source": [
    "LsWords = [w for w in wn.words(lang='eng')]\n",
    "print(f'{len(LsWords):,} words:', ', '.join(LsWords[1000:1010]) + ', ...')"
   ]
  },
  {
   "cell_type": "markdown",
   "metadata": {},
   "source": [
    "## Synsets\n",
    "\n",
    "<font color=\"black\">You can draw a list of all synsets that are linked to a lemma using the `wn.synsets()` command. Optionally, you can also limit the resulting synsets by specifying a part of speech (POS):\n",
    "\n",
    "1. `v` for verb or `wn.VERB`\n",
    "1. `n` for noun or `wn.NOUN`\n",
    "1. `a` for adjective or `wn.ADJ`\n",
    "1. `r` for adverb or `wn.ADV`\n",
    "\n",
    "In the example below, the lemma `'dog'` (with no specified POS) has eight related synsets. The name of each synset takes the form of `word lemma`.`POS tag`.`number`, and can be retrieved using the `name()` method.</font>"
   ]
  },
  {
   "cell_type": "code",
   "execution_count": null,
   "metadata": {},
   "outputs": [],
   "source": [
    "# ?wn.synsets                                 # check help manual for full functionality\n",
    "sWord = 'dog'                                 # A word -> synsets. A synset (many attributes) -> lemmas (many attributes)\n",
    "wnSynsets = wn.synsets(lemma=sWord, pos=None) # retrieve synsets linked to the word \n",
    "sNames = ', '.join(sorted(ss.name() for ss in wnSynsets))\n",
    "print(len(wnSynsets), 'synsets:', sNames)     # each synset (with unique sense) has a form: word.pos.nn"
   ]
  },
  {
   "cell_type": "markdown",
   "metadata": {},
   "source": [
    "<font color=\"black\">You can also retrieve only the verb synsets of the lemma `'dog'` by specifying the POS.</font>"
   ]
  },
  {
   "cell_type": "code",
   "execution_count": null,
   "metadata": {},
   "outputs": [],
   "source": [
    "wn.synsets(sWord, pos=wn.VERB) # we can restrict results to POS of VERB, NOUN, ADJ, ADV"
   ]
  },
  {
   "cell_type": "markdown",
   "metadata": {},
   "source": [
    "<font color=\"black\">A few common synset attributes for the word `dog` are displayed in the dataframe below, but they are not exhaustive. Notice that the synset `dog.n.01` is linked to three lemmas with names `'dog, domestic_dog, Canis_familiaris'`.</font>"
   ]
  },
  {
   "cell_type": "code",
   "execution_count": null,
   "metadata": {},
   "outputs": [],
   "source": [
    "pd.set_option('max_colwidth', 1000)\n",
    "ss = wn.synset('dog.n.01')                    # we can retrieve a specific synset object\n",
    "LsAttrValues = [ss.name(), ss.pos(), ss.lexname(), ss.definition(), ss.examples(), ss.lemmas(), ss.lemma_names()]\n",
    "LsIx = ['name', 'pos', 'lex name', 'definition', 'example', 'lemmas', 'lemma names']\n",
    "print(type(ss))\n",
    "pd.DataFrame(LsAttrValues, index=LsIx).T"
   ]
  },
  {
   "cell_type": "markdown",
   "metadata": {},
   "source": [
    "<font color=\"black\">Synsets have almost 50 attributes and methods to help you relate words to each other in the WordNet taxonomic tree.</font>"
   ]
  },
  {
   "cell_type": "code",
   "execution_count": null,
   "metadata": {},
   "outputs": [],
   "source": [
    "LsSynAttrNames = [a for a in dir(ss) if a[0]!='_']       # ignore internal attributes with an underscore\n",
    "print(f'{len(LsSynAttrNames)} synset attributes:')\n",
    "', '.join(LsSynAttrNames)"
   ]
  },
  {
   "cell_type": "markdown",
   "metadata": {},
   "source": [
    "<font color=\"black\">You can use the `wn.all_synsets(pos)` method to retrieve all synsets, with or without a specified `pos` argument. There are 117K synsets in NLTK's WordNet, 82K of which are nouns. A few such nouns are shown below.</font>"
   ]
  },
  {
   "cell_type": "code",
   "execution_count": null,
   "metadata": {},
   "outputs": [],
   "source": [
    "LssAll = list(wn.all_synsets())\n",
    "LssNouns = list(wn.all_synsets('n'))      # synsets for nouns only\n",
    "print(f'{len(LssAll):,} synsets\\n {len(LssNouns):,} noun synsets')\n",
    "print('A few nouns: ', ', '.join([ss.name() for ss in LssNouns[:10]]))"
   ]
  },
  {
   "cell_type": "markdown",
   "metadata": {},
   "source": [
    "## Lemma\n",
    "\n",
    "<font color=\"black\">You can retrieve a lemma by specifying its full name in the form `word lemma`.`POS code`.`number`.`lemma name`. A lemma's synset, or parent object, can be retrieved with the `synset()` method.</font>"
   ]
  },
  {
   "cell_type": "code",
   "execution_count": null,
   "metadata": {},
   "outputs": [],
   "source": [
    "lm = wn.lemma('dog.n.01.domestic_dog')   # retrieve one \"dog\" lemma for a sysnset dog (noun, version 1, animal)\n",
    "print(type(lm))\n",
    "print(lm, 'is in', lm.synset())"
   ]
  },
  {
   "cell_type": "markdown",
   "metadata": {},
   "source": [
    "<font color=\"black\">A lemma object has 33 attributes and methods to relate to with other words, lemmas, and synsets.\n",
    "</font>"
   ]
  },
  {
   "cell_type": "code",
   "execution_count": null,
   "metadata": {},
   "outputs": [],
   "source": [
    "LsLemmaAttrNames = [a for a in dir(lm) if a[0]!='_']       # ignore internal attributes with an underscore\n",
    "print(f'{len(LsLemmaAttrNames)} lemma attributes:')\n",
    "', '.join(LsLemmaAttrNames)"
   ]
  },
  {
   "cell_type": "markdown",
   "metadata": {},
   "source": [
    "<font color=\"black\">Most lemma attributes are equivalent to those of synsets, but the few that are unique to lemmas are printed below.</font>"
   ]
  },
  {
   "cell_type": "code",
   "execution_count": null,
   "metadata": {},
   "outputs": [],
   "source": [
    "', '.join(sorted(set(LsLemmaAttrNames) - set(LsSynAttrNames)))   # attributes specific to lemmas"
   ]
  },
  {
   "cell_type": "markdown",
   "metadata": {},
   "source": [
    "## Find Standard Form of a Word\n",
    "\n",
    "<font color=\"black\">The next cell demonstrates some basic WordNet operations, which includes converting `ing` verbs to infinitive form and plural nouns to singular form. Occasionally, you may notice a word or phrase is missing from WordNet. This is because languages naturally change over time, but the database is updated manually and recognizes these changes more slowly.\n",
    "</font>"
   ]
  },
  {
   "cell_type": "code",
   "execution_count": null,
   "metadata": {},
   "outputs": [],
   "source": [
    "print(wn.morphy('running', wn.VERB))        # find a closest word form in WordNet\n",
    "print(wn.morphy('corpora', wn.NOUN))        # can convert plural to singular\n",
    "print(wn.morphy('wake up', wn.NOUN))        # not all words and phrases can be located in WordNet"
   ]
  },
  {
   "cell_type": "markdown",
   "metadata": {},
   "source": [
    "## **Open Multilingual WordNet**\n",
    "\n",
    "<font color=\"black\">You can operate on words, lemmas, and synsets in 29 other languages with Multilingual WordNet. It is accessible through the `omw` corpus, which needs to be downloaded separately.\n",
    "</font>"
   ]
  },
  {
   "cell_type": "code",
   "execution_count": null,
   "metadata": {},
   "outputs": [],
   "source": [
    "_ = nltk.download(['omw'], quiet=True)    # Open Multilingual WordNet (ISO-639 language codes)\n",
    "print(len(wn.langs()), 'languages:', ','.join(sorted(wn.langs())))   # list of supported languages"
   ]
  },
  {
   "cell_type": "markdown",
   "metadata": {},
   "source": [
    "<font color='black'>Now, you can retrieve all lemmas in the synset `ss` in any of the available languages.</font>"
   ]
  },
  {
   "cell_type": "code",
   "execution_count": null,
   "metadata": {},
   "outputs": [],
   "source": [
    "ss.lemma_names('jpn')               # returns lemma names in specified language\n",
    "ss.lemma_names('spa')               # returns lemma names in specified language"
   ]
  },
  {
   "cell_type": "markdown",
   "metadata": {
    "deletable": false,
    "editable": false,
    "nbgrader": {
     "checksum": "8a10f65a8ffa20273531d40ab8869e4f",
     "grade": false,
     "grade_id": "cell-defc94112170e7dc",
     "locked": true,
     "schema_version": 1,
     "solution": false
    }
   },
   "source": [
    "<hr style=\"border-top: 2px solid #606366; background: transparent;\">\n",
    "\n",
    "# **Practice**\n",
    "\n",
    "Now you will practice manipulating English language synsets and lemmas."
   ]
  },
  {
   "cell_type": "markdown",
   "metadata": {},
   "source": [
    "<hr style=\"border-top: 2px solid #606366; background: transparent;\">\n",
    "\n",
    "# **Optional Practice**\n",
    "\n",
    "Now you will practice manipulating English language synsets and lemmas.\n",
    "\n",
    "<font color='black'> \n",
    "As you work through these tasks, check your answers by running your code in the *#check solution here* cell, to see if you’ve gotten the correct result. If you get stuck on a task, click the See **solution** drop-down to view the answer."
   ]
  },
  {
   "cell_type": "markdown",
   "metadata": {},
   "source": [
    "## Task 1\n",
    "\n",
    "<font color='black'>Retrieve all synsets for the noun `'break'`.</font>\n",
    "\n",
    "<b>Hint:</b> You can use the <code>wn</code> object and its <code>synsets()</code> method, as demonstrated in the Review section above.</font>"
   ]
  },
  {
   "cell_type": "code",
   "execution_count": null,
   "metadata": {},
   "outputs": [],
   "source": [
    "# check solution here"
   ]
  },
  {
   "cell_type": "markdown",
   "metadata": {},
   "source": [
    "<font color=#606366>\n",
    "    <details><summary><font color=#B31B1B>▶ </font>See <b>solution</b>.</summary>\n",
    "<font color='black'>\n",
    "<pre class=\"ec\">\n",
    "wn.synsets('break', 'n')\n",
    "            </pre>\n",
    "</details> \n",
    "</font>\n",
    "\n",
    "<hr>"
   ]
  },
  {
   "cell_type": "markdown",
   "metadata": {},
   "source": [
    "## Task 2\n",
    "\n",
    "Count the number of synsets for the lemma `'break'` in each POS category.\n",
    "\n",
    "<b>Hint:</b> You can use list comprehension to apply your code from Task 1 to each POS tag: \n",
    "1. `v` for verb or `wn.VERB`\n",
    "1. `n` for noun or `wn.NOUN`\n",
    "1. `a` for adjective or `wn.ADJ`\n",
    "1. `r` for adverb or `wn.ADV`</font>"
   ]
  },
  {
   "cell_type": "code",
   "execution_count": null,
   "metadata": {},
   "outputs": [],
   "source": [
    "# check solution here"
   ]
  },
  {
   "cell_type": "markdown",
   "metadata": {},
   "source": [
    "<font color=#606366>\n",
    "    <details><summary><font color=#B31B1B>▶ </font>See <b>solution</b>.</summary>\n",
    "<font color='black'>\n",
    "    <pre class=\"ec\">\n",
    "[(pos, len(wn.synsets('break', pos))) for pos in 'nvar']\n",
    "</pre>\n",
    "</details> \n",
    "</font>\n",
    "\n",
    "<hr>"
   ]
  },
  {
   "cell_type": "markdown",
   "metadata": {},
   "source": [
    "## Task 3\n",
    "\n",
    "<font color='black'>Which word has the most noun synsets? Print the count as well.</font>\n",
    "\n",
    "<font color='black'><b>Hint:</b> Use WordNet's <code>words()</code> method to iterate over all words. Then, check if the word contains any noun synsets. If so, add that word to the list along with its count of noun synsets. Finally, you can use the <code>max</code> function to retrieve the noun synset with the largest count.</font>"
   ]
  },
  {
   "cell_type": "code",
   "execution_count": null,
   "metadata": {},
   "outputs": [],
   "source": [
    "# check solution here"
   ]
  },
  {
   "cell_type": "markdown",
   "metadata": {},
   "source": [
    "<font color=#606366>\n",
    "    <details><summary><font color=#B31B1B>▶ </font>See <b>solution</b>.</summary>\n",
    "<pre class=\"ec\">\n",
    "LsNouns = [(len(wn.synsets(w, 'n')), w) for w in wn.words() if len(wn.synsets(w, 'n'))>0]\n",
    "max(LsNouns)\n",
    "</pre>\n",
    "</details> \n",
    "</font>\n",
    "\n",
    "<hr>"
   ]
  },
  {
   "cell_type": "markdown",
   "metadata": {},
   "source": [
    "## Task 4\n",
    "\n",
    "<font color='black'>Print all lemmas for the noun synsets `'programmer'` and `'doctor'`. Note that there are may be multiple noun synsets. \n",
    "    \n",
    "<font color='black'><b>Hint:</b> First, you need to package the search query into the proper format <code>synset.POS.number</code>. Then pass it to the <code>synset()</code> method of the loaded WordNet object, <code>wn</code>. Lastly, call <code>lemma_names()</code> on the returned synset object.</font>"
   ]
  },
  {
   "cell_type": "code",
   "execution_count": null,
   "metadata": {},
   "outputs": [],
   "source": [
    "# check solution here"
   ]
  },
  {
   "cell_type": "markdown",
   "metadata": {},
   "source": [
    "<font color=#606366>\n",
    "    <details><summary><font color=#B31B1B>▶ </font>See <b>solution</b>.</summary>\n",
    "<pre class=\"ec\">\n",
    "wn.synset('programmer.n.01').lemma_names() # first noun synset\n",
    "wn.synset('doctor.n.01').lemma_names()     # first noun synset\n",
    "[w.lemma_names() for w in wn.synsets(lemma='doctor', pos='n')]     # all noun synsets\n",
    "[w.lemma_names() for w in wn.synsets(lemma='programmer', pos='n')] # all noun synsets\n",
    "</pre>\n",
    "</details> \n",
    "</font>\n",
    "\n",
    "<hr>"
   ]
  },
  {
   "cell_type": "markdown",
   "metadata": {},
   "source": [
    "## Task 5\n",
    "\n",
    "<font color='black'>Find the adverb synset with the most lemmas. Print the synset's name and all its lemmas.</font>\n",
    "\n",
    "<font color='black'><b>Hint:</b> Try iterating over all adverb synsets using <code>wn</code>'s <code>all_synsets()</code> method. Use a list comprehension to count and collect each synset's lemmas using <code>lemma_names()</code>. Then use the <code>max()</code> function to retrieve the synset with the largest count.</font>"
   ]
  },
  {
   "cell_type": "code",
   "execution_count": null,
   "metadata": {},
   "outputs": [],
   "source": [
    "# check solution here"
   ]
  },
  {
   "cell_type": "markdown",
   "metadata": {},
   "source": [
    "<font color=#606366>\n",
    "    <details><summary><font color=#B31B1B>▶ </font>See <b>solution</b>.</summary>\n",
    "<pre class=\"ec\">\n",
    "SS = [(len(ss.lemma_names()), ss.name(), ss.lemma_names()) for ss in wn.all_synsets(pos='r')]\n",
    "max(SS)\n",
    "</pre>\n",
    "</details> \n",
    "</font>\n",
    "\n",
    "<hr>"
   ]
  },
  {
   "cell_type": "markdown",
   "metadata": {},
   "source": [
    "## Task 6\n",
    "\n",
    "Print all noun synsets and their lemma names if `'language'` is one of the lemmas.\n",
    "\n",
    "<font color='black'><b>Hint:</b> Iterate over all noun synsets using WordNet's <code>synsets()</code> method. If any of the synsets contains the lemma name <code>'language'</code>, include the synset in your results. Use <code>lemma_names()</code> method of a synset object to retrieve the names of all lemmas related to the synset.</font>"
   ]
  },
  {
   "cell_type": "code",
   "execution_count": null,
   "metadata": {},
   "outputs": [],
   "source": [
    "# check solution here"
   ]
  },
  {
   "cell_type": "markdown",
   "metadata": {},
   "source": [
    "<font color=#606366>\n",
    "    <details><summary><font color=#B31B1B>▶ </font>See <b>solution</b>.</summary>\n",
    "<pre class=\"ec\">\n",
    "[(ss.name(), ss.lemma_names()) for ss in wn.all_synsets(pos='n') if 'language' in ss.lemma_names()]\n",
    "</pre>\n",
    "</details> \n",
    "</font>\n",
    "\n",
    "<hr>"
   ]
  }
 ],
 "metadata": {
  "anaconda-cloud": {},
  "kernelspec": {
   "display_name": "Python 3",
   "language": "python",
   "name": "python3"
  },
  "language_info": {
   "codemirror_mode": {
    "name": "ipython",
    "version": 3
   },
   "file_extension": ".py",
   "mimetype": "text/x-python",
   "name": "python",
   "nbconvert_exporter": "python",
   "pygments_lexer": "ipython3",
   "version": "3.6.7"
  }
 },
 "nbformat": 4,
 "nbformat_minor": 1
}
