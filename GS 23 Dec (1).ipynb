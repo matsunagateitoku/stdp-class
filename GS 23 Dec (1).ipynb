{
 "cells": [
  {
   "cell_type": "code",
   "execution_count": 1,
   "metadata": {},
   "outputs": [
    {
     "data": {
      "text/html": [
       "<script>\n",
       "code_show=true; \n",
       "function code_toggle() {\n",
       " if (code_show){\n",
       " $('div.input').hide();\n",
       " } else {\n",
       " $('div.input').show();\n",
       " }\n",
       " code_show = !code_show\n",
       "} \n",
       "$( document ).ready(code_toggle);\n",
       "</script>\n",
       "<form action=\"javascript:code_toggle()\"><input type=\"submit\" value=\"Click here to toggle on/off the raw code.\"></form>"
      ],
      "text/plain": [
       "<IPython.core.display.HTML object>"
      ]
     },
     "execution_count": 1,
     "metadata": {},
     "output_type": "execute_result"
    }
   ],
   "source": [
    "from IPython.display import HTML\n",
    "\n",
    "HTML('''<script>\n",
    "code_show=true; \n",
    "function code_toggle() {\n",
    " if (code_show){\n",
    " $('div.input').hide();\n",
    " } else {\n",
    " $('div.input').show();\n",
    " }\n",
    " code_show = !code_show\n",
    "} \n",
    "$( document ).ready(code_toggle);\n",
    "</script>\n",
    "<form action=\"javascript:code_toggle()\"><input type=\"submit\" value=\"Click here to toggle on/off the raw code.\"></form>''')"
   ]
  },
  {
   "cell_type": "code",
   "execution_count": 2,
   "metadata": {},
   "outputs": [],
   "source": [
    "import requests\n",
    "import pandas as pd \n",
    "import xml.etree.ElementTree as ET\n",
    "import re"
   ]
  },
  {
   "cell_type": "code",
   "execution_count": 3,
   "metadata": {},
   "outputs": [
    {
     "name": "stdout",
     "output_type": "stream",
     "text": [
      "What city? Columbia\n",
      "What state? MD\n",
      "What distance? 10\n",
      "How many schools? 100\n"
     ]
    }
   ],
   "source": [
    "# Request for elementary and middle schoools\n",
    "city = input(\"What city? \")\n",
    "state = input(\"What state? \")\n",
    "distance = input(\"What distance? \")\n",
    "limit = input(\"How many schools? \")\n",
    "r1 = requests.get('https://api.greatschools.org/schools/nearby?key=8316df0fb319ba32b6a5e85f4413fd4a&city={}&state={}&schoolType=public&levelCode=elementary-schools&radius={}&limit={}'.format(city, state, distance, limit))\n",
    "r2 = requests.get('https://api.greatschools.org/schools/nearby?key=8316df0fb319ba32b6a5e85f4413fd4a&city={}&state={}&schoolType=public&levelCode=middle-schools&radius={}&limit={}'.format(city, state, distance, limit))\n",
    "r3 = requests.get('https://api.greatschools.org/schools/nearby?key=8316df0fb319ba32b6a5e85f4413fd4a&city={}&state={}&schoolType=public&levelCode=high-schools&radius={}&limit={}'.format(city, state, distance, limit))"
   ]
  },
  {
   "cell_type": "code",
   "execution_count": 4,
   "metadata": {},
   "outputs": [],
   "source": [
    "def FileMaker(html, text_to_write):\n",
    "    file = open(text_to_write, \"w\")\n",
    "    file.write(str(html))\n",
    "    file.close() "
   ]
  },
  {
   "cell_type": "code",
   "execution_count": 5,
   "metadata": {},
   "outputs": [],
   "source": [
    "FileMaker(r1.text, \"gs_ele.txt\")\n",
    "FileMaker(r2.text, \"gs_mid.txt\")\n",
    "FileMaker(r3.text, \"gs_high.txt\")"
   ]
  },
  {
   "cell_type": "code",
   "execution_count": 6,
   "metadata": {},
   "outputs": [
    {
     "ename": "ParseError",
     "evalue": "syntax error: line 1, column 0 (<string>)",
     "output_type": "error",
     "traceback": [
      "Traceback \u001b[1;36m(most recent call last)\u001b[0m:\n",
      "  File \u001b[0;32m\"C:\\Users\\Lines\\Anaconda3\\lib\\site-packages\\IPython\\core\\interactiveshell.py\"\u001b[0m, line \u001b[0;32m2963\u001b[0m, in \u001b[0;35mrun_code\u001b[0m\n    exec(code_obj, self.user_global_ns, self.user_ns)\n",
      "  File \u001b[0;32m\"<ipython-input-6-e1337623a3d7>\"\u001b[0m, line \u001b[0;32m1\u001b[0m, in \u001b[0;35m<module>\u001b[0m\n    tree = ET.parse(\"gs_ele.txt\")\n",
      "  File \u001b[0;32m\"C:\\Users\\Lines\\Anaconda3\\lib\\xml\\etree\\ElementTree.py\"\u001b[0m, line \u001b[0;32m1196\u001b[0m, in \u001b[0;35mparse\u001b[0m\n    tree.parse(source, parser)\n",
      "\u001b[1;36m  File \u001b[1;32m\"C:\\Users\\Lines\\Anaconda3\\lib\\xml\\etree\\ElementTree.py\"\u001b[1;36m, line \u001b[1;32m597\u001b[1;36m, in \u001b[1;35mparse\u001b[1;36m\u001b[0m\n\u001b[1;33m    self._root = parser._parse_whole(source)\u001b[0m\n",
      "\u001b[1;36m  File \u001b[1;32m\"<string>\"\u001b[1;36m, line \u001b[1;32munknown\u001b[0m\n\u001b[1;31mParseError\u001b[0m\u001b[1;31m:\u001b[0m syntax error: line 1, column 0\n"
     ]
    }
   ],
   "source": [
    "tree = ET.parse(\"gs_ele.txt\")\n",
    "root_ele = tree.getroot()\n",
    "tree = ET.parse(\"gs_mid.txt\")\n",
    "root_mid = tree.getroot()\n",
    "tree = ET.parse(\"gs_high.txt\")\n",
    "root_high = tree.getroot()"
   ]
  },
  {
   "cell_type": "code",
   "execution_count": null,
   "metadata": {},
   "outputs": [],
   "source": [
    "for school in root_ele.findall('school'):\n",
    "    ename = school.find('name').text\n",
    "    try:\n",
    "        egsRating = school.find('gsRating').text\n",
    "    except:\n",
    "        egsRating = \"No Rating\"\n",
    "\n",
    "    \n",
    "for school in root_mid.findall('school'):\n",
    "    mname = school.find('name').text\n",
    "    try:\n",
    "        mgsRating = school.find('gsRating').text\n",
    "    except:\n",
    "        mgsRating = \"No Rating\"\n",
    "        \n",
    "for school in root_high.findall('school'):\n",
    "    hname = school.find('name').text\n",
    "    try:\n",
    "        hgsRating = school.find('gsRating').text\n",
    "    except:\n",
    "        hgsRating = \"No Rating\""
   ]
  },
  {
   "cell_type": "code",
   "execution_count": null,
   "metadata": {},
   "outputs": [],
   "source": [
    "eschool_list  = []\n",
    "eid_list = []\n",
    "erank_list = []\n",
    "eenrollment_list = []\n",
    "\n",
    "for school in root_ele.findall('school'):\n",
    "    name = school.find('name').text\n",
    "    eschool_list.append(name)\n",
    "    try:\n",
    "        gsID = school.find(\"gsId\").text\n",
    "    except:\n",
    "        gsID = \"*No ID*\"\n",
    "    eid_list.append(gsID)\n",
    "    try:\n",
    "        gsRating = school.find('gsRating').text\n",
    "    except:\n",
    "        gsRating = \"0.1\"\n",
    "    erank_list.append( gsRating)\n",
    "    \n",
    "    try:\n",
    "        enrollment = school.find(\"enrollment\").text\n",
    "    except:\n",
    "        enrollment = \"*No enrollment*\"\n",
    "    eenrollment_list.append(enrollment)\n",
    "    "
   ]
  },
  {
   "cell_type": "code",
   "execution_count": null,
   "metadata": {},
   "outputs": [],
   "source": [
    "mschool_list  = []\n",
    "mid_list = []\n",
    "mrank_list = []\n",
    "menrollment_list = []\n",
    "for school in root_mid.findall('school'):\n",
    "    name = school.find('name').text\n",
    "    mschool_list.append(name)\n",
    "    \n",
    "    try:\n",
    "        gsID = school.find(\"gsId\").text\n",
    "    except:\n",
    "        gsID = \"***No ID***\"\n",
    "    mid_list.append(gsID)\n",
    "    \n",
    "    try:\n",
    "        gsRating = float(school.find('gsRating').text)\n",
    "    except:\n",
    "        gsRating = \"0.1\"\n",
    "    mrank_list.append( gsRating)\n",
    "    \n",
    "    try:\n",
    "        enrollment = school.find(\"enrollment\").text\n",
    "    except:\n",
    "        enrollment = \"***No enrollment***\"\n",
    "    menrollment_list.append(enrollment)"
   ]
  },
  {
   "cell_type": "code",
   "execution_count": null,
   "metadata": {},
   "outputs": [],
   "source": [
    "hschool_list  = []\n",
    "hid_list = []\n",
    "hrank_list = []\n",
    "henrollment_list = []\n",
    "for school in root_high.findall('school'):\n",
    "    name = school.find('name').text\n",
    "    hschool_list.append(name)\n",
    "    \n",
    "    try:\n",
    "        gsID = school.find(\"gsId\").text\n",
    "    except:\n",
    "        gsID = \"***No ID***\"\n",
    "    hid_list.append(gsID)\n",
    "    \n",
    "    try:\n",
    "        gsRating = float(school.find('gsRating').text)\n",
    "    except:\n",
    "        gsRating = \"0.1\"\n",
    "    hrank_list.append( gsRating)\n",
    "    \n",
    "    try:\n",
    "        enrollment = school.find(\"enrollment\").text\n",
    "    except:\n",
    "        enrollment = \"***No enrollment***\"\n",
    "    henrollment_list.append(enrollment)"
   ]
  },
  {
   "cell_type": "code",
   "execution_count": null,
   "metadata": {
    "scrolled": true
   },
   "outputs": [],
   "source": [
    "elunch = []\n",
    "ewhite = []\n",
    "eraces = []\n",
    "easian = []\n",
    "e_test = []    \n",
    "e_progress = []\n",
    "e_equity = []\n",
    "\n",
    "for item in eid_list:\n",
    "    r = requests.get('https://api.greatschools.org/school/census/{}/{}?key=8316df0fb319ba32b6a5e85f4413fd4a'.format(state, item))\n",
    "    f = open(\"lunch.txt\", \"w\")\n",
    "    f.write(str(r.text))\n",
    "    f.close()\n",
    "    \n",
    "    tree = ET.parse(\"lunch.txt\")\n",
    "    root = tree.getroot()\n",
    "    \n",
    "    try:   \n",
    "        lunch = root.find('freeAndReducedPriceLunch').text\n",
    "    except:\n",
    "        lunch = \"NaN\"\n",
    "    elunch.append(lunch)\n",
    "    \n",
    "    \n",
    "    num = 0\n",
    "    my_dict = {}\n",
    "    thing = root.findall('.//name')\n",
    "    for i in thing:\n",
    "        my_dict.update( {num : i.text} )\n",
    "        num +=1\n",
    "    white = [key  for (key, value) in my_dict.items() if value == 'White, non-Hispanic']\n",
    "    asian = [key  for (key, value) in my_dict.items() if value == 'Asian']\n",
    "    \n",
    "    \n",
    "    \n",
    "    eth = root.findall('.//value')\n",
    "    try:\n",
    "        ewhite.append(eth[white[0]].text)\n",
    "    except:\n",
    "        ewhite.append('NaN')\n",
    "    try:\n",
    "        easian.append(eth[asian[0]].text)\n",
    "    except:\n",
    "        easian.append('NaN')\n",
    "\n",
    "    school_page = requests.get('https://api.greatschools.org/schools/{}/{}?key=8316df0fb319ba32b6a5e85f4413fd4a'.format(state, item)) \n",
    "    file = open(\"test_scores.txt\", \"w\")\n",
    "    file.write(str(school_page.text))\n",
    "    file.close() \n",
    "    tree = ET.parse(\"test_scores.txt\")\n",
    "    root = tree.getroot()\n",
    "    url = root.find(\"overviewLink\")\n",
    "    overview_page = requests.get(url.text)\n",
    "    try:\n",
    "        test_scores = re.findall('<span class=\"gs-rating circle-rating--(.*) circle-rating--xtra-small\">', overview_page.text)\n",
    "    except:\n",
    "        test_scores = \"NaN\"\n",
    "    try:\n",
    "        e_test.append(test_scores[0])\n",
    "    except:\n",
    "        e_test.append(\"NaN\")\n",
    "    try:   \n",
    "        e_progress.append(test_scores[1])\n",
    "    except:\n",
    "        e_progress.append(\"NaN\")\n",
    "    try:\n",
    "        e_equity.append(test_scores[2])\n",
    "    except:\n",
    "        e_equity.append(\"NaN\")"
   ]
  },
  {
   "cell_type": "code",
   "execution_count": null,
   "metadata": {},
   "outputs": [],
   "source": [
    "mlunch = []\n",
    "mwhite = []\n",
    "mraces = []\n",
    "masian = []\n",
    "m_test = []    \n",
    "m_progress = []\n",
    "m_equity = []\n",
    "\n",
    "\n",
    "for item in mid_list:\n",
    "    r = requests.get('https://api.greatschools.org/school/census/{}/{}?key=8316df0fb319ba32b6a5e85f4413fd4a'.format(state, item))\n",
    "    f = open(\"lunch.txt\", \"w\")\n",
    "    f.write(str(r.text))\n",
    "    f.close()\n",
    "    \n",
    "    tree = ET.parse(\"lunch.txt\")\n",
    "    root = tree.getroot()\n",
    "    \n",
    "    try:   \n",
    "        lunch = root.find('freeAndReducedPriceLunch').text\n",
    "    except:\n",
    "        lunch = \"NaN\"\n",
    "    mlunch.append(lunch) \n",
    "    \n",
    "    \n",
    "    num = 0\n",
    "    my_dict = {}\n",
    "    thing = root.findall('.//name')\n",
    "    for i in thing:\n",
    "        my_dict.update( {num : i.text} )\n",
    "        num +=1\n",
    "    white = [key  for (key, value) in my_dict.items() if value == 'White, non-Hispanic']\n",
    "    asian = [key  for (key, value) in my_dict.items() if value == 'Asian']\n",
    "    \n",
    "    \n",
    "    \n",
    "    eth = root.findall('.//value')\n",
    "    try:\n",
    "        mwhite.append(eth[white[0]].text)\n",
    "    except:\n",
    "        mwhite.append('NaN')\n",
    "    try:\n",
    "        masian.append(eth[asian[0]].text)\n",
    "    except:\n",
    "        masian.append('NaN')\n",
    "        \n",
    "     \n",
    "    school_page = requests.get('https://api.greatschools.org/schools/{}/{}?key=8316df0fb319ba32b6a5e85f4413fd4a'.format(state, item)) \n",
    "    file = open(\"test_scores.txt\", \"w\")\n",
    "    file.write(str(school_page.text))\n",
    "    file.close() \n",
    "    tree = ET.parse(\"test_scores.txt\")\n",
    "    root = tree.getroot()\n",
    "    url = root.find(\"overviewLink\")\n",
    "    overview_page = requests.get(url.text)\n",
    "    try:\n",
    "        test_scores = re.findall('<span class=\"gs-rating circle-rating--(.*) circle-rating--xtra-small\">', overview_page.text)\n",
    "        \n",
    "        \n",
    "  \n",
    "    except:\n",
    "        test_scores = \"NaN\"\n",
    "    try:\n",
    "        m_test.append(test_scores[0])\n",
    "    except:\n",
    "        m_test.append(\"NaN\")\n",
    "    try:   \n",
    "        m_progress.append(test_scores[1])\n",
    "    except:\n",
    "        m_progress.append(\"NaN\")\n",
    "    try:\n",
    "        m_equity.append(test_scores[2])\n",
    "    except:\n",
    "        m_equity.append(\"NaN\")   \n",
    "            "
   ]
  },
  {
   "cell_type": "code",
   "execution_count": null,
   "metadata": {},
   "outputs": [],
   "source": [
    "hlunch = []\n",
    "hwhite = []\n",
    "hraces = []\n",
    "hasian = []\n",
    "h_test = []    \n",
    "h_progress = []\n",
    "h_equity = []\n",
    "\n",
    "for item in hid_list:\n",
    "    r = requests.get('https://api.greatschools.org/school/census/{}/{}?key=8316df0fb319ba32b6a5e85f4413fd4a'.format(state, item))\n",
    "    f = open(\"lunch.txt\", \"w\")\n",
    "    f.write(str(r.text))\n",
    "    f.close()\n",
    "    \n",
    "    \n",
    "    \n",
    "    \n",
    "    \n",
    "    tree = ET.parse(\"lunch.txt\")\n",
    "    root = tree.getroot()\n",
    "    \n",
    "    try:   \n",
    "        lunch = root.find('freeAndReducedPriceLunch').text\n",
    "    except:\n",
    "        lunch = \"NaN\"\n",
    "    hlunch.append(lunch)\n",
    "    \n",
    "    hth = root.findall('.//value')\n",
    "    \n",
    "    num = 0\n",
    "    my_dict = {}\n",
    "    thing = root.findall('.//name')\n",
    "    for i in thing:\n",
    "        my_dict.update( {num : i.text} )\n",
    "        num +=1\n",
    "    white = [key  for (key, value) in my_dict.items() if value == 'White, non-Hispanic']\n",
    "    asian = [key  for (key, value) in my_dict.items() if value == 'Asian']\n",
    "    \n",
    "    \n",
    "    try:\n",
    "        hwhite.append(hth[white[0]].text)\n",
    "    except:\n",
    "        hwhite.append('NaN')\n",
    "    try:\n",
    "        hasian.append(hth[asian[0]].text)\n",
    "    except:\n",
    "        hasian.append('NaN')\n",
    "\n",
    "    school_page = requests.get('https://api.greatschools.org/schools/{}/{}?key=8316df0fb319ba32b6a5e85f4413fd4a'.format(state, item)) \n",
    "    file = open(\"test_scores.txt\", \"w\")\n",
    "    file.write(str(school_page.text))\n",
    "    file.close() \n",
    "    tree = ET.parse(\"test_scores.txt\")\n",
    "    root = tree.getroot()\n",
    "    url = root.find(\"overviewLink\")\n",
    "    overview_page = requests.get(url.text)\n",
    "    try:\n",
    "        test_scores = re.findall('<span class=\"gs-rating circle-rating--(.*) circle-rating--xtra-small\">', overview_page.text)\n",
    "        \n",
    "        \n",
    "  \n",
    "    except:\n",
    "        test_scores = \"NaN\"\n",
    "    try:\n",
    "        h_test.append(test_scores[0])\n",
    "    except:\n",
    "        h_test.append(\"NaN\")\n",
    "    try:   \n",
    "        h_progress.append(test_scores[1])\n",
    "    except:\n",
    "        h_progress.append(\"NaN\")\n",
    "    try:\n",
    "        h_equity.append(test_scores[2])\n",
    "    except:\n",
    "        h_equity.append(\"NaN\")"
   ]
  },
  {
   "cell_type": "code",
   "execution_count": null,
   "metadata": {},
   "outputs": [],
   "source": [
    "ele_d = {'School Name': eschool_list, 'Test Scores': e_test, 'Rating': erank_list,  'Lunch': elunch,  'White': ewhite, \"Asian\": easian, 'Enrollment': eenrollment_list, 'Progess': e_progress, 'Equity': e_equity, 'Id Number': eid_list}\n",
    "ele_df = pd.DataFrame(ele_d)"
   ]
  },
  {
   "cell_type": "code",
   "execution_count": null,
   "metadata": {},
   "outputs": [],
   "source": [
    "#ele_df['Lunch'] = ele_df['Lunch'].astype(float)\n",
    "#ele_df.sort_values(by=['Lunch'])"
   ]
  },
  {
   "cell_type": "markdown",
   "metadata": {},
   "source": [
    "# Elementary Schols"
   ]
  },
  {
   "cell_type": "code",
   "execution_count": null,
   "metadata": {},
   "outputs": [],
   "source": [
    "ele_df['Test Scores'] = ele_df['Test Scores'].astype(float)\n",
    "ele_df.sort_values(by=['Test Scores', 'White'], ascending=False)"
   ]
  },
  {
   "cell_type": "code",
   "execution_count": null,
   "metadata": {},
   "outputs": [],
   "source": [
    "mid_d = {'School Name': mschool_list, 'Test Scores': m_test, 'Rating': mrank_list,  'Lunch': mlunch,  'White': mwhite, \"Asian\": masian, 'Enrollment': menrollment_list, 'Progess': m_progress, 'Equity': m_equity, 'Id Number': mid_list}\n",
    "mid_df = pd.DataFrame(mid_d)\n",
    "\n"
   ]
  },
  {
   "cell_type": "markdown",
   "metadata": {},
   "source": [
    "# Middle Schools"
   ]
  },
  {
   "cell_type": "code",
   "execution_count": null,
   "metadata": {},
   "outputs": [],
   "source": [
    "\n",
    "\n",
    "mid_df['Test Scores'] = mid_df['Test Scores'].astype(float)\n",
    "mid_df.sort_values(by=['Test Scores', 'White'], ascending=False)\n"
   ]
  },
  {
   "cell_type": "markdown",
   "metadata": {},
   "source": [
    "# High Schools"
   ]
  },
  {
   "cell_type": "code",
   "execution_count": null,
   "metadata": {},
   "outputs": [],
   "source": [
    "hid_d = {'School Name': hschool_list, 'Test Scores': h_test, 'Rating': hrank_list,  'Lunch': hlunch,  'White': hwhite, \"Asian\": hasian, 'Enrollment': henrollment_list, 'Progess': h_progress, 'Equity': h_equity, 'Id Number': hid_list}\n",
    "hid_df = pd.DataFrame(hid_d)"
   ]
  },
  {
   "cell_type": "code",
   "execution_count": null,
   "metadata": {},
   "outputs": [],
   "source": [
    "hid_df['Test Scores'] = hid_df['Test Scores'].astype(float)\n",
    "hid_df.sort_values(by=['Test Scores', 'White'], ascending=False)"
   ]
  },
  {
   "cell_type": "code",
   "execution_count": null,
   "metadata": {},
   "outputs": [],
   "source": [
    "writer = pd.ExcelWriter('{}_schools.xlsx'.format(city), engine='xlsxwriter')\n",
    "\n",
    "# Write each dataframe to a different worksheet.\n",
    "ele_df.to_excel(writer, sheet_name='{}_Elementary'.format(city))\n",
    "mid_df.to_excel(writer, sheet_name='{}_Middle'.format(city))\n",
    "hid_df.to_excel(writer, sheet_name='{}_High'.format(city))\n",
    "# Close the Pandas Excel writer and output the Excel file.\n",
    "writer.save()"
   ]
  },
  {
   "cell_type": "code",
   "execution_count": null,
   "metadata": {},
   "outputs": [],
   "source": [
    "hid_df.to_excel()"
   ]
  },
  {
   "cell_type": "code",
   "execution_count": null,
   "metadata": {},
   "outputs": [],
   "source": [
    ">>> writer = pd.ExcelWriter('output.xlsx')\n",
    ">>> df1.to_excel(writer,'Sheet1')\n",
    ">>> df2.to_excel(writer,'Sheet2')"
   ]
  }
 ],
 "metadata": {
  "kernelspec": {
   "display_name": "Python 3",
   "language": "python",
   "name": "python3"
  },
  "language_info": {
   "codemirror_mode": {
    "name": "ipython",
    "version": 3
   },
   "file_extension": ".py",
   "mimetype": "text/x-python",
   "name": "python",
   "nbconvert_exporter": "python",
   "pygments_lexer": "ipython3",
   "version": "3.6.5"
  }
 },
 "nbformat": 4,
 "nbformat_minor": 2
}
