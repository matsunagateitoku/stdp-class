{
 "cells": [
  {
   "cell_type": "code",
   "execution_count": null,
   "metadata": {},
   "outputs": [],
   "source": [
    "#Nice function to get all the files:\n",
    "\n",
    "import os\n",
    "def get_file_list(starting_directory=\"../data/Day 2/BackBlaze/data_Q4_2020/\"):\n",
    "    final_list = list()\n",
    "    files = os.listdir(starting_directory)\n",
    "    for file in files:\n",
    "        file_name = os.path.join(starting_directory, file)\n",
    "        if os.path.isdir(file_name):\n",
    "            final_list = final_list + get_file_list(file_name)\n",
    "        else:\n",
    "            final_list.append(file_name)\n",
    "    return final_list\n",
    "all_files = get_file_list()\n"
   ]
  },
  {
   "cell_type": "code",
   "execution_count": null,
   "metadata": {},
   "outputs": [],
   "source": [
    "#Decision Trees\n",
    "\n",
    "from sklearn import tree\n",
    "classifier = classifier.fit(x_train, y_train)"
   ]
  },
  {
   "cell_type": "code",
   "execution_count": null,
   "metadata": {},
   "outputs": [],
   "source": [
    "#RandomForestClassifier\n",
    "\n",
    "from sklearn.ensemble import RandomForestClassifier"
   ]
  },
  {
   "cell_type": "code",
   "execution_count": null,
   "metadata": {},
   "outputs": [],
   "source": [
    "#tensorflow\n",
    "\n",
    "from tensorflow.keras import models, layers, datasets\n",
    "\n",
    "model = models.Sequential() # Initialize the model\n",
    "model.add(layers.Input(shape=(100000,))) # Add an input layer\n",
    "model.add(layers.Dense(64, activation='relu')) # Add a fully connected (Dense) layer with 64 units and ReLU activation\n",
    "model.add(layers.Dense(32, activation='relu')) # Add another Dense layer with 32 units and ReLU activation\n",
    "\n",
    "# Add the output layer with 10 units and softmax activation for classification\n",
    "model.add(layers.Dense(10, activation='softmax')) #other options include 'sigmoid'\n",
    "\n",
    "# Compile the model\n",
    "model.compile(optimizer='adam',\n",
    "              loss='sparse_categorical_crossentropy', #or binary_crossentropy \n",
    "              metrics=['accuracy'])\n",
    "\n",
    "# Print the model summary to see the architecture\n",
    "model.summary()\n",
    "\n",
    "# Example dummy data for training\n",
    "import numpy as np\n",
    "x_train = np.random.random((1000, 100000))  # 1000 samples, each with 100000 features\n",
    "y_train = np.random.randint(10, size=(1000,))  # 1000 target labels (0-9)\n",
    "\n",
    "# Train the model\n",
    "model.fit(x_train, y_train, epochs=10, batch_size=32)\n",
    "\n",
    "# Example dummy data for evaluation\n",
    "x_test = np.random.random((100, 100000))\n",
    "y_test = np.random.randint(10, size=(100,))\n",
    "\n",
    "# Evaluate the model\n",
    "loss, accuracy = model.evaluate(x_test, y_test)\n",
    "print(f\"Test loss: {loss}, Test accuracy: {accuracy}\")\n"
   ]
  },
  {
   "cell_type": "code",
   "execution_count": null,
   "metadata": {},
   "outputs": [],
   "source": []
  },
  {
   "cell_type": "code",
   "execution_count": null,
   "metadata": {},
   "outputs": [],
   "source": []
  },
  {
   "cell_type": "code",
   "execution_count": null,
   "metadata": {},
   "outputs": [],
   "source": []
  },
  {
   "cell_type": "code",
   "execution_count": null,
   "metadata": {},
   "outputs": [],
   "source": []
  }
 ],
 "metadata": {
  "kernelspec": {
   "display_name": "Python 3",
   "language": "python",
   "name": "python3"
  },
  "language_info": {
   "codemirror_mode": {
    "name": "ipython",
    "version": 3
   },
   "file_extension": ".py",
   "mimetype": "text/x-python",
   "name": "python",
   "nbconvert_exporter": "python",
   "pygments_lexer": "ipython3",
   "version": "3.6.5"
  }
 },
 "nbformat": 4,
 "nbformat_minor": 2
}
